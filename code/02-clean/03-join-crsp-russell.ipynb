{
 "cells": [
  {
   "cell_type": "code",
   "execution_count": 1,
   "metadata": {},
   "outputs": [],
   "source": [
    "# Have to install janitor package to run. Not included in anaconda.\n",
    "import numpy as np\n",
    "import pandas as pd\n",
    "import matplotlib.pyplot as plt\n",
    "import math as math\n",
    "import janitor"
   ]
  },
  {
   "cell_type": "code",
   "execution_count": 2,
   "metadata": {},
   "outputs": [],
   "source": [
    "exec(open(\"../header.py\").read())"
   ]
  },
  {
   "cell_type": "markdown",
   "metadata": {},
   "source": [
    "# Import raw data"
   ]
  },
  {
   "cell_type": "code",
   "execution_count": 3,
   "metadata": {},
   "outputs": [],
   "source": [
    "sample = False\n",
    "header = Header(sample)"
   ]
  },
  {
   "cell_type": "code",
   "execution_count": 4,
   "metadata": {},
   "outputs": [
    {
     "name": "stderr",
     "output_type": "stream",
     "text": [
      "C:\\Users\\Andrew\\anaconda3\\lib\\site-packages\\IPython\\core\\interactiveshell.py:3146: DtypeWarning: Columns (6,9) have mixed types.Specify dtype option on import or set low_memory=False.\n",
      "  has_raised = await self.run_ast_nodes(code_ast.body, cell_name,\n"
     ]
    }
   ],
   "source": [
    "raw_crsp = pd.read_csv(header.clean_root(\"crsp.csv\"), parse_dates = ['date'])\n",
    "raw_rs = pd.read_csv(header.clean_root(\"russell.csv\"), parse_dates = ['date'])"
   ]
  },
  {
   "cell_type": "code",
   "execution_count": 5,
   "metadata": {},
   "outputs": [
    {
     "data": {
      "text/html": [
       "<div>\n",
       "<style scoped>\n",
       "    .dataframe tbody tr th:only-of-type {\n",
       "        vertical-align: middle;\n",
       "    }\n",
       "\n",
       "    .dataframe tbody tr th {\n",
       "        vertical-align: top;\n",
       "    }\n",
       "\n",
       "    .dataframe thead th {\n",
       "        text-align: right;\n",
       "    }\n",
       "</style>\n",
       "<table border=\"1\" class=\"dataframe\">\n",
       "  <thead>\n",
       "    <tr style=\"text-align: right;\">\n",
       "      <th></th>\n",
       "      <th>permno</th>\n",
       "      <th>date</th>\n",
       "      <th>ticker</th>\n",
       "      <th>comnam</th>\n",
       "      <th>tsymbol</th>\n",
       "      <th>hexcd</th>\n",
       "      <th>cusip</th>\n",
       "      <th>prc</th>\n",
       "      <th>vol</th>\n",
       "      <th>ret</th>\n",
       "      <th>...</th>\n",
       "      <th>shrout</th>\n",
       "      <th>numtrd</th>\n",
       "      <th>ewretd</th>\n",
       "      <th>mktcap</th>\n",
       "      <th>year</th>\n",
       "      <th>month</th>\n",
       "      <th>yrmo</th>\n",
       "      <th>bid_ask_spread</th>\n",
       "      <th>turnover</th>\n",
       "      <th>dollar_vol</th>\n",
       "    </tr>\n",
       "  </thead>\n",
       "  <tbody>\n",
       "    <tr>\n",
       "      <th>0</th>\n",
       "      <td>10001</td>\n",
       "      <td>1995-05-01</td>\n",
       "      <td>EWST</td>\n",
       "      <td>ENERGY WEST INC</td>\n",
       "      <td>EWST</td>\n",
       "      <td>2</td>\n",
       "      <td>29274A10</td>\n",
       "      <td>8.250</td>\n",
       "      <td>400.0</td>\n",
       "      <td>0.1</td>\n",
       "      <td>...</td>\n",
       "      <td>2244.0</td>\n",
       "      <td>3.0</td>\n",
       "      <td>0.000588</td>\n",
       "      <td>18513.0</td>\n",
       "      <td>1995</td>\n",
       "      <td>5</td>\n",
       "      <td>199505</td>\n",
       "      <td>0.095238</td>\n",
       "      <td>0.021606</td>\n",
       "      <td>3300.0</td>\n",
       "    </tr>\n",
       "    <tr>\n",
       "      <th>1</th>\n",
       "      <td>10001</td>\n",
       "      <td>1995-05-02</td>\n",
       "      <td>EWST</td>\n",
       "      <td>ENERGY WEST INC</td>\n",
       "      <td>EWST</td>\n",
       "      <td>2</td>\n",
       "      <td>29274A10</td>\n",
       "      <td>7.875</td>\n",
       "      <td>0.0</td>\n",
       "      <td>-0.045455</td>\n",
       "      <td>...</td>\n",
       "      <td>2244.0</td>\n",
       "      <td>0.0</td>\n",
       "      <td>0.001771</td>\n",
       "      <td>17671.5</td>\n",
       "      <td>1995</td>\n",
       "      <td>5</td>\n",
       "      <td>199505</td>\n",
       "      <td>0.095238</td>\n",
       "      <td>0.000000</td>\n",
       "      <td>0.0</td>\n",
       "    </tr>\n",
       "  </tbody>\n",
       "</table>\n",
       "<p>2 rows × 22 columns</p>\n",
       "</div>"
      ],
      "text/plain": [
       "   permno       date ticker           comnam tsymbol  hexcd     cusip    prc  \\\n",
       "0   10001 1995-05-01   EWST  ENERGY WEST INC    EWST      2  29274A10  8.250   \n",
       "1   10001 1995-05-02   EWST  ENERGY WEST INC    EWST      2  29274A10  7.875   \n",
       "\n",
       "     vol       ret  ...  shrout  numtrd    ewretd   mktcap  year  month  \\\n",
       "0  400.0       0.1  ...  2244.0     3.0  0.000588  18513.0  1995      5   \n",
       "1    0.0 -0.045455  ...  2244.0     0.0  0.001771  17671.5  1995      5   \n",
       "\n",
       "     yrmo  bid_ask_spread  turnover  dollar_vol  \n",
       "0  199505        0.095238  0.021606      3300.0  \n",
       "1  199505        0.095238  0.000000         0.0  \n",
       "\n",
       "[2 rows x 22 columns]"
      ]
     },
     "execution_count": 5,
     "metadata": {},
     "output_type": "execute_result"
    }
   ],
   "source": [
    "raw_crsp.head(2)"
   ]
  },
  {
   "cell_type": "code",
   "execution_count": 6,
   "metadata": {},
   "outputs": [
    {
     "data": {
      "text/html": [
       "<div>\n",
       "<style scoped>\n",
       "    .dataframe tbody tr th:only-of-type {\n",
       "        vertical-align: middle;\n",
       "    }\n",
       "\n",
       "    .dataframe tbody tr th {\n",
       "        vertical-align: top;\n",
       "    }\n",
       "\n",
       "    .dataframe thead th {\n",
       "        text-align: right;\n",
       "    }\n",
       "</style>\n",
       "<table border=\"1\" class=\"dataframe\">\n",
       "  <thead>\n",
       "    <tr style=\"text-align: right;\">\n",
       "      <th></th>\n",
       "      <th>date</th>\n",
       "      <th>cusip</th>\n",
       "      <th>ticker</th>\n",
       "      <th>mktvalue</th>\n",
       "      <th>shares</th>\n",
       "      <th>russell1000</th>\n",
       "      <th>russell2000</th>\n",
       "      <th>name</th>\n",
       "      <th>r1000_wt</th>\n",
       "      <th>r2000_wt</th>\n",
       "      <th>year</th>\n",
       "      <th>month</th>\n",
       "      <th>yrmo</th>\n",
       "    </tr>\n",
       "  </thead>\n",
       "  <tbody>\n",
       "    <tr>\n",
       "      <th>0</th>\n",
       "      <td>1996-01-31</td>\n",
       "      <td>00036110</td>\n",
       "      <td>AIR</td>\n",
       "      <td>NaN</td>\n",
       "      <td>15959</td>\n",
       "      <td>0</td>\n",
       "      <td>1</td>\n",
       "      <td>AAR CORP</td>\n",
       "      <td>0.0</td>\n",
       "      <td>0.0599</td>\n",
       "      <td>1996</td>\n",
       "      <td>1</td>\n",
       "      <td>199601</td>\n",
       "    </tr>\n",
       "    <tr>\n",
       "      <th>1</th>\n",
       "      <td>1996-01-31</td>\n",
       "      <td>00075210</td>\n",
       "      <td>ABCR</td>\n",
       "      <td>NaN</td>\n",
       "      <td>7983</td>\n",
       "      <td>0</td>\n",
       "      <td>1</td>\n",
       "      <td>ABC RAIL PRODUCTS CO</td>\n",
       "      <td>0.0</td>\n",
       "      <td>0.0304</td>\n",
       "      <td>1996</td>\n",
       "      <td>1</td>\n",
       "      <td>199601</td>\n",
       "    </tr>\n",
       "  </tbody>\n",
       "</table>\n",
       "</div>"
      ],
      "text/plain": [
       "        date     cusip ticker  mktvalue  shares  russell1000  russell2000  \\\n",
       "0 1996-01-31  00036110    AIR       NaN   15959            0            1   \n",
       "1 1996-01-31  00075210   ABCR       NaN    7983            0            1   \n",
       "\n",
       "                   name  r1000_wt  r2000_wt  year  month    yrmo  \n",
       "0              AAR CORP       0.0    0.0599  1996      1  199601  \n",
       "1  ABC RAIL PRODUCTS CO       0.0    0.0304  1996      1  199601  "
      ]
     },
     "execution_count": 6,
     "metadata": {},
     "output_type": "execute_result"
    }
   ],
   "source": [
    "raw_rs.head(2)"
   ]
  },
  {
   "cell_type": "markdown",
   "metadata": {},
   "source": [
    "# Problems with CUSIP\n",
    "* Example: Citigroup\n",
    "* Link: https://wrds-www.wharton.upenn.edu/pages/support/support-articles/mergent-fisd/linking-mergent-compustat-or-crsp/"
   ]
  },
  {
   "cell_type": "code",
   "execution_count": 7,
   "metadata": {},
   "outputs": [
    {
     "name": "stdout",
     "output_type": "stream",
     "text": [
      "Russell CUSIP for Citigroup: ['17119610' '17296710']\n",
      "CRSP CUSIP for Citigroup: ['17119610' '17296710']\n"
     ]
    }
   ],
   "source": [
    "print(f\"Russell CUSIP for Citigroup: {raw_rs.loc[lambda x:(x.ticker == 'C'),'cusip'].unique()}\")\n",
    "print(f\"CRSP CUSIP for Citigroup: {raw_crsp.loc[lambda x:(x.ticker == 'C'),'cusip'].unique()}\")"
   ]
  },
  {
   "cell_type": "code",
   "execution_count": 8,
   "metadata": {},
   "outputs": [
    {
     "data": {
      "text/html": [
       "<div>\n",
       "<style scoped>\n",
       "    .dataframe tbody tr th:only-of-type {\n",
       "        vertical-align: middle;\n",
       "    }\n",
       "\n",
       "    .dataframe tbody tr th {\n",
       "        vertical-align: top;\n",
       "    }\n",
       "\n",
       "    .dataframe thead th {\n",
       "        text-align: right;\n",
       "    }\n",
       "</style>\n",
       "<table border=\"1\" class=\"dataframe\">\n",
       "  <thead>\n",
       "    <tr style=\"text-align: right;\">\n",
       "      <th></th>\n",
       "      <th>date</th>\n",
       "      <th>cusip</th>\n",
       "    </tr>\n",
       "  </thead>\n",
       "  <tbody>\n",
       "    <tr>\n",
       "      <th>765406</th>\n",
       "      <td>1998-11-12</td>\n",
       "      <td>17119610</td>\n",
       "    </tr>\n",
       "    <tr>\n",
       "      <th>6127667</th>\n",
       "      <td>1998-12-04</td>\n",
       "      <td>17296710</td>\n",
       "    </tr>\n",
       "    <tr>\n",
       "      <th>6127668</th>\n",
       "      <td>1998-12-07</td>\n",
       "      <td>17296710</td>\n",
       "    </tr>\n",
       "    <tr>\n",
       "      <th>6127669</th>\n",
       "      <td>1998-12-08</td>\n",
       "      <td>17296710</td>\n",
       "    </tr>\n",
       "  </tbody>\n",
       "</table>\n",
       "</div>"
      ],
      "text/plain": [
       "              date     cusip\n",
       "765406  1998-11-12  17119610\n",
       "6127667 1998-12-04  17296710\n",
       "6127668 1998-12-07  17296710\n",
       "6127669 1998-12-08  17296710"
      ]
     },
     "execution_count": 8,
     "metadata": {},
     "output_type": "execute_result"
    }
   ],
   "source": [
    "raw_crsp.loc[lambda x:(x.ticker == 'C')&(x.date >= '1998-11-12')&(x.date <= '1998-12-8'),['date','cusip']]"
   ]
  },
  {
   "cell_type": "code",
   "execution_count": 9,
   "metadata": {},
   "outputs": [
    {
     "data": {
      "text/html": [
       "<div>\n",
       "<style scoped>\n",
       "    .dataframe tbody tr th:only-of-type {\n",
       "        vertical-align: middle;\n",
       "    }\n",
       "\n",
       "    .dataframe tbody tr th {\n",
       "        vertical-align: top;\n",
       "    }\n",
       "\n",
       "    .dataframe thead th {\n",
       "        text-align: right;\n",
       "    }\n",
       "</style>\n",
       "<table border=\"1\" class=\"dataframe\">\n",
       "  <thead>\n",
       "    <tr style=\"text-align: right;\">\n",
       "      <th></th>\n",
       "      <th>date</th>\n",
       "      <th>cusip</th>\n",
       "    </tr>\n",
       "  </thead>\n",
       "  <tbody>\n",
       "    <tr>\n",
       "      <th>90868</th>\n",
       "      <td>1998-08-31</td>\n",
       "      <td>17119610</td>\n",
       "    </tr>\n",
       "    <tr>\n",
       "      <th>93828</th>\n",
       "      <td>1998-09-30</td>\n",
       "      <td>17119610</td>\n",
       "    </tr>\n",
       "    <tr>\n",
       "      <th>96765</th>\n",
       "      <td>1998-10-30</td>\n",
       "      <td>17119610</td>\n",
       "    </tr>\n",
       "    <tr>\n",
       "      <th>102601</th>\n",
       "      <td>1998-12-31</td>\n",
       "      <td>17296710</td>\n",
       "    </tr>\n",
       "    <tr>\n",
       "      <th>105494</th>\n",
       "      <td>1999-01-29</td>\n",
       "      <td>17296710</td>\n",
       "    </tr>\n",
       "  </tbody>\n",
       "</table>\n",
       "</div>"
      ],
      "text/plain": [
       "             date     cusip\n",
       "90868  1998-08-31  17119610\n",
       "93828  1998-09-30  17119610\n",
       "96765  1998-10-30  17119610\n",
       "102601 1998-12-31  17296710\n",
       "105494 1999-01-29  17296710"
      ]
     },
     "execution_count": 9,
     "metadata": {},
     "output_type": "execute_result"
    }
   ],
   "source": [
    "raw_rs.loc[lambda x:(x.ticker == 'C')&(x.date >= '1998-08-01')&(x.date <= '1999-02-01'),['date','cusip']]"
   ]
  },
  {
   "cell_type": "markdown",
   "metadata": {},
   "source": [
    "# Pre-merge cleaning"
   ]
  },
  {
   "cell_type": "code",
   "execution_count": 10,
   "metadata": {},
   "outputs": [],
   "source": [
    "rs = raw_rs\\\n",
    "    .drop(['date', 'mktvalue', 'shares', 'year', 'month'], axis = 1)"
   ]
  },
  {
   "cell_type": "code",
   "execution_count": 11,
   "metadata": {},
   "outputs": [],
   "source": [
    "crsp = raw_crsp"
   ]
  },
  {
   "cell_type": "markdown",
   "metadata": {},
   "source": [
    "# Join on month and cleaned cusip"
   ]
  },
  {
   "cell_type": "code",
   "execution_count": 12,
   "metadata": {},
   "outputs": [],
   "source": [
    "rs_companies = rs\\\n",
    "    .loc[:,['cusip']]\\\n",
    "    .drop_duplicates()"
   ]
  },
  {
   "cell_type": "code",
   "execution_count": 13,
   "metadata": {},
   "outputs": [],
   "source": [
    "# Has to be left so can create rankings for companies that just entered the Russell indices.\n",
    "# Or else if inner, drops the past market cap data for those companies\n",
    "# So do the first join to filter down to companies that are in Russell at some point in time\n",
    "crsp_join = crsp\\\n",
    "    .merge(rs_companies, how = \"inner\", on = [\"cusip\"])\\\n",
    "    .merge(rs, how = \"left\", on = [\"yrmo\", \"cusip\"])"
   ]
  },
  {
   "cell_type": "code",
   "execution_count": 14,
   "metadata": {},
   "outputs": [
    {
     "data": {
      "text/html": [
       "<div>\n",
       "<style scoped>\n",
       "    .dataframe tbody tr th:only-of-type {\n",
       "        vertical-align: middle;\n",
       "    }\n",
       "\n",
       "    .dataframe tbody tr th {\n",
       "        vertical-align: top;\n",
       "    }\n",
       "\n",
       "    .dataframe thead th {\n",
       "        text-align: right;\n",
       "    }\n",
       "</style>\n",
       "<table border=\"1\" class=\"dataframe\">\n",
       "  <thead>\n",
       "    <tr style=\"text-align: right;\">\n",
       "      <th></th>\n",
       "      <th>permno</th>\n",
       "      <th>date</th>\n",
       "      <th>ticker_x</th>\n",
       "      <th>comnam</th>\n",
       "      <th>tsymbol</th>\n",
       "      <th>hexcd</th>\n",
       "      <th>cusip</th>\n",
       "      <th>prc</th>\n",
       "      <th>vol</th>\n",
       "      <th>ret</th>\n",
       "      <th>...</th>\n",
       "      <th>yrmo</th>\n",
       "      <th>bid_ask_spread</th>\n",
       "      <th>turnover</th>\n",
       "      <th>dollar_vol</th>\n",
       "      <th>ticker_y</th>\n",
       "      <th>russell1000</th>\n",
       "      <th>russell2000</th>\n",
       "      <th>name</th>\n",
       "      <th>r1000_wt</th>\n",
       "      <th>r2000_wt</th>\n",
       "    </tr>\n",
       "  </thead>\n",
       "  <tbody>\n",
       "    <tr>\n",
       "      <th>0</th>\n",
       "      <td>10002</td>\n",
       "      <td>2002-05-15</td>\n",
       "      <td>BTFG</td>\n",
       "      <td>BANCTRUST FINANCIAL GROUP INC</td>\n",
       "      <td>BTFG</td>\n",
       "      <td>3</td>\n",
       "      <td>05978R10</td>\n",
       "      <td>11.55</td>\n",
       "      <td>1875.0</td>\n",
       "      <td>-8.7e-05</td>\n",
       "      <td>...</td>\n",
       "      <td>200205</td>\n",
       "      <td>0.017021</td>\n",
       "      <td>0.018555</td>\n",
       "      <td>21656.25</td>\n",
       "      <td>NaN</td>\n",
       "      <td>NaN</td>\n",
       "      <td>NaN</td>\n",
       "      <td>NaN</td>\n",
       "      <td>NaN</td>\n",
       "      <td>NaN</td>\n",
       "    </tr>\n",
       "    <tr>\n",
       "      <th>1</th>\n",
       "      <td>10002</td>\n",
       "      <td>2002-05-16</td>\n",
       "      <td>BTFG</td>\n",
       "      <td>BANCTRUST FINANCIAL GROUP INC</td>\n",
       "      <td>BTFG</td>\n",
       "      <td>3</td>\n",
       "      <td>05978R10</td>\n",
       "      <td>11.75</td>\n",
       "      <td>1500.0</td>\n",
       "      <td>0.017316</td>\n",
       "      <td>...</td>\n",
       "      <td>200205</td>\n",
       "      <td>0.008475</td>\n",
       "      <td>0.014591</td>\n",
       "      <td>17625.00</td>\n",
       "      <td>NaN</td>\n",
       "      <td>NaN</td>\n",
       "      <td>NaN</td>\n",
       "      <td>NaN</td>\n",
       "      <td>NaN</td>\n",
       "      <td>NaN</td>\n",
       "    </tr>\n",
       "    <tr>\n",
       "      <th>2</th>\n",
       "      <td>10002</td>\n",
       "      <td>2002-05-17</td>\n",
       "      <td>BTFG</td>\n",
       "      <td>BANCTRUST FINANCIAL GROUP INC</td>\n",
       "      <td>BTFG</td>\n",
       "      <td>3</td>\n",
       "      <td>05978R10</td>\n",
       "      <td>11.80</td>\n",
       "      <td>0.0</td>\n",
       "      <td>0.004255</td>\n",
       "      <td>...</td>\n",
       "      <td>200205</td>\n",
       "      <td>0.008475</td>\n",
       "      <td>0.000000</td>\n",
       "      <td>0.00</td>\n",
       "      <td>NaN</td>\n",
       "      <td>NaN</td>\n",
       "      <td>NaN</td>\n",
       "      <td>NaN</td>\n",
       "      <td>NaN</td>\n",
       "      <td>NaN</td>\n",
       "    </tr>\n",
       "  </tbody>\n",
       "</table>\n",
       "<p>3 rows × 28 columns</p>\n",
       "</div>"
      ],
      "text/plain": [
       "   permno       date ticker_x                         comnam tsymbol  hexcd  \\\n",
       "0   10002 2002-05-15     BTFG  BANCTRUST FINANCIAL GROUP INC    BTFG      3   \n",
       "1   10002 2002-05-16     BTFG  BANCTRUST FINANCIAL GROUP INC    BTFG      3   \n",
       "2   10002 2002-05-17     BTFG  BANCTRUST FINANCIAL GROUP INC    BTFG      3   \n",
       "\n",
       "      cusip    prc     vol       ret  ...    yrmo  bid_ask_spread  turnover  \\\n",
       "0  05978R10  11.55  1875.0  -8.7e-05  ...  200205        0.017021  0.018555   \n",
       "1  05978R10  11.75  1500.0  0.017316  ...  200205        0.008475  0.014591   \n",
       "2  05978R10  11.80     0.0  0.004255  ...  200205        0.008475  0.000000   \n",
       "\n",
       "   dollar_vol  ticker_y  russell1000  russell2000  name  r1000_wt  r2000_wt  \n",
       "0    21656.25       NaN          NaN          NaN   NaN       NaN       NaN  \n",
       "1    17625.00       NaN          NaN          NaN   NaN       NaN       NaN  \n",
       "2        0.00       NaN          NaN          NaN   NaN       NaN       NaN  \n",
       "\n",
       "[3 rows x 28 columns]"
      ]
     },
     "execution_count": 14,
     "metadata": {},
     "output_type": "execute_result"
    }
   ],
   "source": [
    "crsp_join.head(3)"
   ]
  },
  {
   "cell_type": "code",
   "execution_count": 15,
   "metadata": {},
   "outputs": [
    {
     "name": "stdout",
     "output_type": "stream",
     "text": [
      "CRSP // Original: 22198012, Merged: 10410679, Ratio: 0.47\n",
      "Russell // Original: 386154\n",
      "Unique  companies // Pre CRSP: 19076, Russell: 7775, Post: 7325\n"
     ]
    }
   ],
   "source": [
    "print(f\"CRSP // Original: {crsp.shape[0]}, Merged: {crsp_join.shape[0]}, Ratio: {crsp_join.shape[0]/crsp.shape[0]:.2f}\")\n",
    "print(f\"Russell // Original: {rs.shape[0]}\")\n",
    "print(f\"Unique  companies // Pre CRSP: {len(crsp.cusip.unique())}, Russell: {len(rs.cusip.unique())}, Post: {len(crsp_join.cusip.unique())}\")"
   ]
  },
  {
   "cell_type": "markdown",
   "metadata": {},
   "source": [
    "Missing ~400/7775 companies that should be in CRSP."
   ]
  },
  {
   "cell_type": "markdown",
   "metadata": {},
   "source": [
    "# Data integrity"
   ]
  },
  {
   "cell_type": "code",
   "execution_count": 16,
   "metadata": {},
   "outputs": [
    {
     "data": {
      "text/plain": [
       "Index(['permno', 'date', 'ticker_x', 'comnam', 'tsymbol', 'hexcd', 'cusip',\n",
       "       'prc', 'vol', 'ret', 'bid', 'ask', 'shrout', 'numtrd', 'ewretd',\n",
       "       'mktcap', 'year', 'month', 'yrmo', 'bid_ask_spread', 'turnover',\n",
       "       'dollar_vol', 'ticker_y', 'russell1000', 'russell2000', 'name',\n",
       "       'r1000_wt', 'r2000_wt'],\n",
       "      dtype='object')"
      ]
     },
     "execution_count": 16,
     "metadata": {},
     "output_type": "execute_result"
    }
   ],
   "source": [
    "crsp_join.columns"
   ]
  },
  {
   "cell_type": "code",
   "execution_count": 17,
   "metadata": {},
   "outputs": [],
   "source": [
    "# Check that cusip-date is still a unique identifier\n",
    "assert crsp_join\\\n",
    "    .groupby(['date', 'cusip'], as_index = False)\\\n",
    "    .agg(counts = ('ticker_x', 'count'))\\\n",
    "    .loc[lambda x:x.counts > 1]\\\n",
    "    .shape[0] == 0"
   ]
  },
  {
   "cell_type": "code",
   "execution_count": 18,
   "metadata": {},
   "outputs": [
    {
     "data": {
      "text/html": [
       "<div>\n",
       "<style scoped>\n",
       "    .dataframe tbody tr th:only-of-type {\n",
       "        vertical-align: middle;\n",
       "    }\n",
       "\n",
       "    .dataframe tbody tr th {\n",
       "        vertical-align: top;\n",
       "    }\n",
       "\n",
       "    .dataframe thead th {\n",
       "        text-align: right;\n",
       "    }\n",
       "</style>\n",
       "<table border=\"1\" class=\"dataframe\">\n",
       "  <thead>\n",
       "    <tr style=\"text-align: right;\">\n",
       "      <th></th>\n",
       "      <th>ticker_x</th>\n",
       "      <th>ticker_y</th>\n",
       "      <th>tsymbol</th>\n",
       "      <th>comnam</th>\n",
       "      <th>name</th>\n",
       "    </tr>\n",
       "  </thead>\n",
       "  <tbody>\n",
       "    <tr>\n",
       "      <th>24692</th>\n",
       "      <td>UICI</td>\n",
       "      <td>UCI</td>\n",
       "      <td>UICI</td>\n",
       "      <td>U I C I</td>\n",
       "      <td>UICI</td>\n",
       "    </tr>\n",
       "    <tr>\n",
       "      <th>27562</th>\n",
       "      <td>KIDE</td>\n",
       "      <td>KDE</td>\n",
       "      <td>KIDE</td>\n",
       "      <td>4 KIDS ENTERTAINMENT INC</td>\n",
       "      <td>4 KIDS ENTMT INC</td>\n",
       "    </tr>\n",
       "    <tr>\n",
       "      <th>36171</th>\n",
       "      <td>SNDT</td>\n",
       "      <td>SDS</td>\n",
       "      <td>SNDT</td>\n",
       "      <td>SUNGARD DATA SYSTEMS INC</td>\n",
       "      <td>SUNGARD DATA SYSTEMS</td>\n",
       "    </tr>\n",
       "    <tr>\n",
       "      <th>47429</th>\n",
       "      <td>OVWV</td>\n",
       "      <td>OV</td>\n",
       "      <td>OVWV</td>\n",
       "      <td>ONE VALLEY BANCORP INC</td>\n",
       "      <td>ONE VALLEY BANCORP/W</td>\n",
       "    </tr>\n",
       "    <tr>\n",
       "      <th>85461</th>\n",
       "      <td>XCED</td>\n",
       "      <td>XCEDD</td>\n",
       "      <td>XCEDD</td>\n",
       "      <td>WORLDWIDE XCEED GROUP INC</td>\n",
       "      <td>WORLDWIDE XCEED GROU</td>\n",
       "    </tr>\n",
       "    <tr>\n",
       "      <th>123768</th>\n",
       "      <td>AVM</td>\n",
       "      <td>AMAG</td>\n",
       "      <td>AVM</td>\n",
       "      <td>ADVANCED MAGNETICS INC</td>\n",
       "      <td>ADVANCED MAGNETICS INC</td>\n",
       "    </tr>\n",
       "    <tr>\n",
       "      <th>138341</th>\n",
       "      <td>TREN</td>\n",
       "      <td>TWK</td>\n",
       "      <td>TREN</td>\n",
       "      <td>TRENWICK GROUP INC</td>\n",
       "      <td>TRENWICK GROUP INC</td>\n",
       "    </tr>\n",
       "    <tr>\n",
       "      <th>153975</th>\n",
       "      <td>SKYW</td>\n",
       "      <td>SKYWE</td>\n",
       "      <td>SKYW</td>\n",
       "      <td>SKYWEST INC</td>\n",
       "      <td>SKYWEST INC</td>\n",
       "    </tr>\n",
       "    <tr>\n",
       "      <th>153990</th>\n",
       "      <td>SKYW</td>\n",
       "      <td>SKYWE</td>\n",
       "      <td>SKYWE</td>\n",
       "      <td>SKYWEST INC</td>\n",
       "      <td>SKYWEST INC</td>\n",
       "    </tr>\n",
       "    <tr>\n",
       "      <th>186862</th>\n",
       "      <td>SVRN</td>\n",
       "      <td>SOV</td>\n",
       "      <td>SVRN</td>\n",
       "      <td>SOVEREIGN BANCORP INC</td>\n",
       "      <td>SOVEREIGN BANCORP IN</td>\n",
       "    </tr>\n",
       "  </tbody>\n",
       "</table>\n",
       "</div>"
      ],
      "text/plain": [
       "       ticker_x ticker_y tsymbol                     comnam  \\\n",
       "24692      UICI      UCI    UICI                    U I C I   \n",
       "27562      KIDE      KDE    KIDE   4 KIDS ENTERTAINMENT INC   \n",
       "36171      SNDT      SDS    SNDT   SUNGARD DATA SYSTEMS INC   \n",
       "47429      OVWV       OV    OVWV     ONE VALLEY BANCORP INC   \n",
       "85461      XCED    XCEDD   XCEDD  WORLDWIDE XCEED GROUP INC   \n",
       "123768      AVM     AMAG     AVM     ADVANCED MAGNETICS INC   \n",
       "138341     TREN      TWK    TREN         TRENWICK GROUP INC   \n",
       "153975     SKYW    SKYWE    SKYW                SKYWEST INC   \n",
       "153990     SKYW    SKYWE   SKYWE                SKYWEST INC   \n",
       "186862     SVRN      SOV    SVRN      SOVEREIGN BANCORP INC   \n",
       "\n",
       "                          name  \n",
       "24692                     UICI  \n",
       "27562         4 KIDS ENTMT INC  \n",
       "36171     SUNGARD DATA SYSTEMS  \n",
       "47429     ONE VALLEY BANCORP/W  \n",
       "85461     WORLDWIDE XCEED GROU  \n",
       "123768  ADVANCED MAGNETICS INC  \n",
       "138341      TRENWICK GROUP INC  \n",
       "153975             SKYWEST INC  \n",
       "153990             SKYWEST INC  \n",
       "186862    SOVEREIGN BANCORP IN  "
      ]
     },
     "execution_count": 18,
     "metadata": {},
     "output_type": "execute_result"
    }
   ],
   "source": [
    "# Validate that cusip match is reasonable\n",
    "# Even when tickers don't match, clearly seem like the same company based on company name\n",
    "crsp_join\\\n",
    "    .loc[lambda x:~x.ticker_y.isna()]\\\n",
    "    .loc[lambda x:x.ticker_x != x.ticker_y, ['ticker_x', 'ticker_y', 'tsymbol', 'comnam', 'name']]\\\n",
    "    .drop_duplicates()\\\n",
    "    .head(10)"
   ]
  },
  {
   "cell_type": "code",
   "execution_count": 19,
   "metadata": {},
   "outputs": [],
   "source": [
    "# No invalid market cap, bid-ask spread, volume, turnover\n",
    "assert np.sum(crsp_join.mktcap.isna()) == 0\n",
    "assert np.sum(crsp_join.bid_ask_spread.isna()) == 0\n",
    "assert np.sum(crsp_join.turnover.isna()) == 0\n",
    "assert np.sum(crsp_join.dollar_vol.isna()) == 0"
   ]
  },
  {
   "cell_type": "markdown",
   "metadata": {},
   "source": [
    "# Save cleaned datsets"
   ]
  },
  {
   "cell_type": "code",
   "execution_count": 20,
   "metadata": {},
   "outputs": [],
   "source": [
    "crsp_join.to_csv(header.clean_root(\"crsp_russ.csv\"), index = False)"
   ]
  }
 ],
 "metadata": {
  "kernelspec": {
   "display_name": "Python 3",
   "language": "python",
   "name": "python3"
  },
  "language_info": {
   "codemirror_mode": {
    "name": "ipython",
    "version": 3
   },
   "file_extension": ".py",
   "mimetype": "text/x-python",
   "name": "python",
   "nbconvert_exporter": "python",
   "pygments_lexer": "ipython3",
   "version": "3.8.5"
  },
  "toc": {
   "base_numbering": 1,
   "nav_menu": {},
   "number_sections": true,
   "sideBar": true,
   "skip_h1_title": false,
   "title_cell": "Table of Contents",
   "title_sidebar": "Contents",
   "toc_cell": false,
   "toc_position": {},
   "toc_section_display": true,
   "toc_window_display": true
  }
 },
 "nbformat": 4,
 "nbformat_minor": 2
}
