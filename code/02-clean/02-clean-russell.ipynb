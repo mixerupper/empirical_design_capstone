{
 "cells": [
  {
   "cell_type": "code",
   "execution_count": 1,
   "metadata": {},
   "outputs": [],
   "source": [
    "# Have to install janitor package to run. Not included in anaconda.\n",
    "import numpy as np\n",
    "import pandas as pd\n",
    "import matplotlib.pyplot as plt\n",
    "import math as math\n",
    "import janitor"
   ]
  },
  {
   "cell_type": "code",
   "execution_count": 2,
   "metadata": {},
   "outputs": [],
   "source": [
    "exec(open(\"../header.py\").read())"
   ]
  },
  {
   "cell_type": "markdown",
   "metadata": {},
   "source": [
    "# Purpose"
   ]
  },
  {
   "cell_type": "markdown",
   "metadata": {},
   "source": [
    "To replicate and then test out Boone and White (2015)."
   ]
  },
  {
   "cell_type": "markdown",
   "metadata": {},
   "source": [
    "# Import raw data"
   ]
  },
  {
   "cell_type": "code",
   "execution_count": 3,
   "metadata": {},
   "outputs": [],
   "source": [
    "sample = False\n",
    "header = Header(sample)"
   ]
  },
  {
   "cell_type": "code",
   "execution_count": 4,
   "metadata": {},
   "outputs": [],
   "source": [
    "raw_russ = pd.read_csv(header.raw_root(\"russell_index_inclusion.csv\"), parse_dates = ['Date'])"
   ]
  },
  {
   "cell_type": "code",
   "execution_count": 5,
   "metadata": {},
   "outputs": [
    {
     "data": {
      "text/html": [
       "<div>\n",
       "<style scoped>\n",
       "    .dataframe tbody tr th:only-of-type {\n",
       "        vertical-align: middle;\n",
       "    }\n",
       "\n",
       "    .dataframe tbody tr th {\n",
       "        vertical-align: top;\n",
       "    }\n",
       "\n",
       "    .dataframe thead th {\n",
       "        text-align: right;\n",
       "    }\n",
       "</style>\n",
       "<table border=\"1\" class=\"dataframe\">\n",
       "  <thead>\n",
       "    <tr style=\"text-align: right;\">\n",
       "      <th></th>\n",
       "      <th>Date</th>\n",
       "      <th>CUSIP</th>\n",
       "      <th>Ticker</th>\n",
       "      <th>MktValue</th>\n",
       "      <th>Shares</th>\n",
       "      <th>Russell1000</th>\n",
       "      <th>Russell2000</th>\n",
       "      <th>Name</th>\n",
       "      <th>R1000_WT</th>\n",
       "      <th>R2000_WT</th>\n",
       "    </tr>\n",
       "  </thead>\n",
       "  <tbody>\n",
       "    <tr>\n",
       "      <th>0</th>\n",
       "      <td>1996-01-31</td>\n",
       "      <td>000361105</td>\n",
       "      <td>AIR</td>\n",
       "      <td>NaN</td>\n",
       "      <td>15959</td>\n",
       "      <td>N</td>\n",
       "      <td>Y</td>\n",
       "      <td>AAR CORP</td>\n",
       "      <td>NaN</td>\n",
       "      <td>0.0599</td>\n",
       "    </tr>\n",
       "    <tr>\n",
       "      <th>1</th>\n",
       "      <td>1996-01-31</td>\n",
       "      <td>000752105</td>\n",
       "      <td>ABCR</td>\n",
       "      <td>NaN</td>\n",
       "      <td>7983</td>\n",
       "      <td>N</td>\n",
       "      <td>Y</td>\n",
       "      <td>ABC RAIL PRODUCTS CO</td>\n",
       "      <td>NaN</td>\n",
       "      <td>0.0304</td>\n",
       "    </tr>\n",
       "    <tr>\n",
       "      <th>2</th>\n",
       "      <td>1996-01-31</td>\n",
       "      <td>00077R108</td>\n",
       "      <td>ABRX</td>\n",
       "      <td>NaN</td>\n",
       "      <td>4831</td>\n",
       "      <td>N</td>\n",
       "      <td>Y</td>\n",
       "      <td>ABR INFORMATION SVCS</td>\n",
       "      <td>NaN</td>\n",
       "      <td>0.0422</td>\n",
       "    </tr>\n",
       "    <tr>\n",
       "      <th>3</th>\n",
       "      <td>1996-01-31</td>\n",
       "      <td>000782102</td>\n",
       "      <td>ABTC</td>\n",
       "      <td>NaN</td>\n",
       "      <td>10604</td>\n",
       "      <td>N</td>\n",
       "      <td>Y</td>\n",
       "      <td>ABT BUILDING PRODUCT</td>\n",
       "      <td>NaN</td>\n",
       "      <td>0.0275</td>\n",
       "    </tr>\n",
       "    <tr>\n",
       "      <th>4</th>\n",
       "      <td>1996-01-31</td>\n",
       "      <td>000886101</td>\n",
       "      <td>ADCT</td>\n",
       "      <td>NaN</td>\n",
       "      <td>62760</td>\n",
       "      <td>Y</td>\n",
       "      <td>N</td>\n",
       "      <td>ADC TELECOMMUNICATIO</td>\n",
       "      <td>0.0467</td>\n",
       "      <td>NaN</td>\n",
       "    </tr>\n",
       "  </tbody>\n",
       "</table>\n",
       "</div>"
      ],
      "text/plain": [
       "        Date      CUSIP Ticker  MktValue  Shares Russell1000 Russell2000  \\\n",
       "0 1996-01-31  000361105    AIR       NaN   15959           N           Y   \n",
       "1 1996-01-31  000752105   ABCR       NaN    7983           N           Y   \n",
       "2 1996-01-31  00077R108   ABRX       NaN    4831           N           Y   \n",
       "3 1996-01-31  000782102   ABTC       NaN   10604           N           Y   \n",
       "4 1996-01-31  000886101   ADCT       NaN   62760           Y           N   \n",
       "\n",
       "                   Name  R1000_WT  R2000_WT  \n",
       "0              AAR CORP       NaN    0.0599  \n",
       "1  ABC RAIL PRODUCTS CO       NaN    0.0304  \n",
       "2  ABR INFORMATION SVCS       NaN    0.0422  \n",
       "3  ABT BUILDING PRODUCT       NaN    0.0275  \n",
       "4  ADC TELECOMMUNICATIO    0.0467       NaN  "
      ]
     },
     "execution_count": 5,
     "metadata": {},
     "output_type": "execute_result"
    }
   ],
   "source": [
    "raw_russ.head(5)"
   ]
  },
  {
   "cell_type": "markdown",
   "metadata": {},
   "source": [
    "# Clean data"
   ]
  },
  {
   "cell_type": "code",
   "execution_count": 6,
   "metadata": {},
   "outputs": [],
   "source": [
    "# Make russell indicator flags\n",
    "# Add yrmo\n",
    "# Substring cusip to first 8 to match crsp\n",
    "\n",
    "cleaned_russ = raw_russ\\\n",
    "    .clean_names()\\\n",
    "    .loc[lambda x:(x.date >= '1996-01-01')&(x.date <= '2006-12-31')]\\\n",
    "    .assign(russell1000 = lambda x:np.select(\n",
    "        [x.russell1000 == 'Y',x.russell1000 == 'N'],\n",
    "        [1,0],\n",
    "        default = -1),\n",
    "            russell2000 = lambda x:np.select(\n",
    "        [x.russell2000 == 'Y',x.russell2000 == 'N'],\n",
    "        [1,0],\n",
    "        default = -1),\n",
    "            r1000_wt = lambda x:x.r1000_wt.fillna(0),\n",
    "            r2000_wt = lambda x:x.r2000_wt.fillna(0)\n",
    "    )\\\n",
    "    .assign(year = lambda x:x.date.dt.year,\n",
    "            month = lambda x:x.date.dt.month,\n",
    "            yrmo = lambda x: x.year*100 + x.month)\\\n",
    "    .assign(cusip = lambda x:x.cusip.str.slice(0,8))"
   ]
  },
  {
   "cell_type": "code",
   "execution_count": 7,
   "metadata": {},
   "outputs": [
    {
     "data": {
      "text/html": [
       "<div>\n",
       "<style scoped>\n",
       "    .dataframe tbody tr th:only-of-type {\n",
       "        vertical-align: middle;\n",
       "    }\n",
       "\n",
       "    .dataframe tbody tr th {\n",
       "        vertical-align: top;\n",
       "    }\n",
       "\n",
       "    .dataframe thead th {\n",
       "        text-align: right;\n",
       "    }\n",
       "</style>\n",
       "<table border=\"1\" class=\"dataframe\">\n",
       "  <thead>\n",
       "    <tr style=\"text-align: right;\">\n",
       "      <th></th>\n",
       "      <th>date</th>\n",
       "      <th>cusip</th>\n",
       "      <th>ticker</th>\n",
       "      <th>mktvalue</th>\n",
       "      <th>shares</th>\n",
       "      <th>russell1000</th>\n",
       "      <th>russell2000</th>\n",
       "      <th>name</th>\n",
       "      <th>r1000_wt</th>\n",
       "      <th>r2000_wt</th>\n",
       "      <th>year</th>\n",
       "      <th>month</th>\n",
       "      <th>yrmo</th>\n",
       "    </tr>\n",
       "  </thead>\n",
       "  <tbody>\n",
       "    <tr>\n",
       "      <th>0</th>\n",
       "      <td>1996-01-31</td>\n",
       "      <td>00036110</td>\n",
       "      <td>AIR</td>\n",
       "      <td>NaN</td>\n",
       "      <td>15959</td>\n",
       "      <td>0</td>\n",
       "      <td>1</td>\n",
       "      <td>AAR CORP</td>\n",
       "      <td>0.0000</td>\n",
       "      <td>0.0599</td>\n",
       "      <td>1996</td>\n",
       "      <td>1</td>\n",
       "      <td>199601</td>\n",
       "    </tr>\n",
       "    <tr>\n",
       "      <th>1</th>\n",
       "      <td>1996-01-31</td>\n",
       "      <td>00075210</td>\n",
       "      <td>ABCR</td>\n",
       "      <td>NaN</td>\n",
       "      <td>7983</td>\n",
       "      <td>0</td>\n",
       "      <td>1</td>\n",
       "      <td>ABC RAIL PRODUCTS CO</td>\n",
       "      <td>0.0000</td>\n",
       "      <td>0.0304</td>\n",
       "      <td>1996</td>\n",
       "      <td>1</td>\n",
       "      <td>199601</td>\n",
       "    </tr>\n",
       "    <tr>\n",
       "      <th>2</th>\n",
       "      <td>1996-01-31</td>\n",
       "      <td>00077R10</td>\n",
       "      <td>ABRX</td>\n",
       "      <td>NaN</td>\n",
       "      <td>4831</td>\n",
       "      <td>0</td>\n",
       "      <td>1</td>\n",
       "      <td>ABR INFORMATION SVCS</td>\n",
       "      <td>0.0000</td>\n",
       "      <td>0.0422</td>\n",
       "      <td>1996</td>\n",
       "      <td>1</td>\n",
       "      <td>199601</td>\n",
       "    </tr>\n",
       "    <tr>\n",
       "      <th>3</th>\n",
       "      <td>1996-01-31</td>\n",
       "      <td>00078210</td>\n",
       "      <td>ABTC</td>\n",
       "      <td>NaN</td>\n",
       "      <td>10604</td>\n",
       "      <td>0</td>\n",
       "      <td>1</td>\n",
       "      <td>ABT BUILDING PRODUCT</td>\n",
       "      <td>0.0000</td>\n",
       "      <td>0.0275</td>\n",
       "      <td>1996</td>\n",
       "      <td>1</td>\n",
       "      <td>199601</td>\n",
       "    </tr>\n",
       "    <tr>\n",
       "      <th>4</th>\n",
       "      <td>1996-01-31</td>\n",
       "      <td>00088610</td>\n",
       "      <td>ADCT</td>\n",
       "      <td>NaN</td>\n",
       "      <td>62760</td>\n",
       "      <td>1</td>\n",
       "      <td>0</td>\n",
       "      <td>ADC TELECOMMUNICATIO</td>\n",
       "      <td>0.0467</td>\n",
       "      <td>0.0000</td>\n",
       "      <td>1996</td>\n",
       "      <td>1</td>\n",
       "      <td>199601</td>\n",
       "    </tr>\n",
       "  </tbody>\n",
       "</table>\n",
       "</div>"
      ],
      "text/plain": [
       "        date     cusip ticker  mktvalue  shares  russell1000  russell2000  \\\n",
       "0 1996-01-31  00036110    AIR       NaN   15959            0            1   \n",
       "1 1996-01-31  00075210   ABCR       NaN    7983            0            1   \n",
       "2 1996-01-31  00077R10   ABRX       NaN    4831            0            1   \n",
       "3 1996-01-31  00078210   ABTC       NaN   10604            0            1   \n",
       "4 1996-01-31  00088610   ADCT       NaN   62760            1            0   \n",
       "\n",
       "                   name  r1000_wt  r2000_wt  year  month    yrmo  \n",
       "0              AAR CORP    0.0000    0.0599  1996      1  199601  \n",
       "1  ABC RAIL PRODUCTS CO    0.0000    0.0304  1996      1  199601  \n",
       "2  ABR INFORMATION SVCS    0.0000    0.0422  1996      1  199601  \n",
       "3  ABT BUILDING PRODUCT    0.0000    0.0275  1996      1  199601  \n",
       "4  ADC TELECOMMUNICATIO    0.0467    0.0000  1996      1  199601  "
      ]
     },
     "execution_count": 7,
     "metadata": {},
     "output_type": "execute_result"
    }
   ],
   "source": [
    "cleaned_russ.head(5)"
   ]
  },
  {
   "cell_type": "markdown",
   "metadata": {},
   "source": [
    "# Data integrity checks"
   ]
  },
  {
   "cell_type": "code",
   "execution_count": 8,
   "metadata": {},
   "outputs": [],
   "source": [
    "assert len(cleaned_russ.russell1000.unique()) == 2\n",
    "assert len(cleaned_russ.russell2000.unique()) == 2"
   ]
  },
  {
   "cell_type": "code",
   "execution_count": 9,
   "metadata": {},
   "outputs": [],
   "source": [
    "# Date-cusip is unique identifier\n",
    "assert cleaned_russ\\\n",
    "    .groupby(['date', 'cusip'], as_index = False)\\\n",
    "    .agg(counts = ('ticker', 'count'))\\\n",
    "    .loc[lambda x:x.counts > 1]\\\n",
    "    .shape[0] == 0"
   ]
  },
  {
   "cell_type": "code",
   "execution_count": 10,
   "metadata": {},
   "outputs": [
    {
     "name": "stdout",
     "output_type": "stream",
     "text": [
      "Old shape: (386154, 10)\n",
      "New shape: (386154, 13)\n"
     ]
    }
   ],
   "source": [
    "print(f\"Old shape: {raw_russ.shape}\")\n",
    "print(f\"New shape: {cleaned_russ.shape}\")"
   ]
  },
  {
   "cell_type": "markdown",
   "metadata": {},
   "source": [
    "# Save cleaned datsets"
   ]
  },
  {
   "cell_type": "code",
   "execution_count": 11,
   "metadata": {},
   "outputs": [],
   "source": [
    "cleaned_russ.to_csv(header.clean_root(\"russell.csv\"), index = False)"
   ]
  }
 ],
 "metadata": {
  "kernelspec": {
   "display_name": "Python 3",
   "language": "python",
   "name": "python3"
  },
  "language_info": {
   "codemirror_mode": {
    "name": "ipython",
    "version": 3
   },
   "file_extension": ".py",
   "mimetype": "text/x-python",
   "name": "python",
   "nbconvert_exporter": "python",
   "pygments_lexer": "ipython3",
   "version": "3.8.5"
  },
  "toc": {
   "base_numbering": 1,
   "nav_menu": {},
   "number_sections": true,
   "sideBar": true,
   "skip_h1_title": false,
   "title_cell": "Table of Contents",
   "title_sidebar": "Contents",
   "toc_cell": false,
   "toc_position": {},
   "toc_section_display": true,
   "toc_window_display": true
  }
 },
 "nbformat": 4,
 "nbformat_minor": 2
}
