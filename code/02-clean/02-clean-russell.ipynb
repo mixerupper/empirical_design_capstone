{
 "cells": [
  {
   "cell_type": "code",
   "execution_count": 60,
   "metadata": {},
   "outputs": [],
   "source": [
    "# Have to install janitor package to run. Not included in anaconda.\n",
    "import numpy as np\n",
    "import pandas as pd\n",
    "import matplotlib.pyplot as plt\n",
    "import math as math\n",
    "import janitor"
   ]
  },
  {
   "cell_type": "code",
   "execution_count": 61,
   "metadata": {},
   "outputs": [],
   "source": [
    "exec(open(\"../header.py\").read())"
   ]
  },
  {
   "cell_type": "markdown",
   "metadata": {},
   "source": [
    "# Purpose"
   ]
  },
  {
   "cell_type": "markdown",
   "metadata": {},
   "source": [
    "To replicate and then test out Boone and White (2015)."
   ]
  },
  {
   "cell_type": "markdown",
   "metadata": {},
   "source": [
    "# Import raw data"
   ]
  },
  {
   "cell_type": "code",
   "execution_count": 62,
   "metadata": {},
   "outputs": [],
   "source": [
    "sample = True\n",
    "header = Header(sample)"
   ]
  },
  {
   "cell_type": "code",
   "execution_count": 63,
   "metadata": {},
   "outputs": [],
   "source": [
    "raw_russ = pd.read_csv(header.raw_root(\"russell_index_inclusion.csv\"), parse_dates = ['Date'])"
   ]
  },
  {
   "cell_type": "code",
   "execution_count": 64,
   "metadata": {},
   "outputs": [
    {
     "data": {
      "text/html": [
       "<div>\n",
       "<style scoped>\n",
       "    .dataframe tbody tr th:only-of-type {\n",
       "        vertical-align: middle;\n",
       "    }\n",
       "\n",
       "    .dataframe tbody tr th {\n",
       "        vertical-align: top;\n",
       "    }\n",
       "\n",
       "    .dataframe thead th {\n",
       "        text-align: right;\n",
       "    }\n",
       "</style>\n",
       "<table border=\"1\" class=\"dataframe\">\n",
       "  <thead>\n",
       "    <tr style=\"text-align: right;\">\n",
       "      <th></th>\n",
       "      <th>Date</th>\n",
       "      <th>CUSIP</th>\n",
       "      <th>Ticker</th>\n",
       "      <th>MktValue</th>\n",
       "      <th>Shares</th>\n",
       "      <th>Russell1000</th>\n",
       "      <th>Russell2000</th>\n",
       "      <th>Name</th>\n",
       "      <th>R1000_WT</th>\n",
       "      <th>R2000_WT</th>\n",
       "    </tr>\n",
       "  </thead>\n",
       "  <tbody>\n",
       "    <tr>\n",
       "      <th>0</th>\n",
       "      <td>1996-07-31</td>\n",
       "      <td>302426101</td>\n",
       "      <td>FHPC</td>\n",
       "      <td>NaN</td>\n",
       "      <td>40682</td>\n",
       "      <td>Y</td>\n",
       "      <td>N</td>\n",
       "      <td>FHP INTERNATIONAL CO</td>\n",
       "      <td>0.020100</td>\n",
       "      <td>NaN</td>\n",
       "    </tr>\n",
       "    <tr>\n",
       "      <th>1</th>\n",
       "      <td>2001-05-31</td>\n",
       "      <td>457153104</td>\n",
       "      <td>IM</td>\n",
       "      <td>879349.50</td>\n",
       "      <td>66366</td>\n",
       "      <td>Y</td>\n",
       "      <td>N</td>\n",
       "      <td>INGRAM MICRO INC</td>\n",
       "      <td>0.000078</td>\n",
       "      <td>NaN</td>\n",
       "    </tr>\n",
       "    <tr>\n",
       "      <th>2</th>\n",
       "      <td>2004-11-30</td>\n",
       "      <td>949475107</td>\n",
       "      <td>WC</td>\n",
       "      <td>1107957.84</td>\n",
       "      <td>22616</td>\n",
       "      <td>Y</td>\n",
       "      <td>N</td>\n",
       "      <td>WELLCHOICE INC</td>\n",
       "      <td>0.000095</td>\n",
       "      <td>NaN</td>\n",
       "    </tr>\n",
       "    <tr>\n",
       "      <th>3</th>\n",
       "      <td>1999-11-30</td>\n",
       "      <td>553087107</td>\n",
       "      <td>MMI</td>\n",
       "      <td>73669.37</td>\n",
       "      <td>18134</td>\n",
       "      <td>N</td>\n",
       "      <td>Y</td>\n",
       "      <td>MMI COS INC</td>\n",
       "      <td>NaN</td>\n",
       "      <td>0.000086</td>\n",
       "    </tr>\n",
       "    <tr>\n",
       "      <th>4</th>\n",
       "      <td>1996-10-31</td>\n",
       "      <td>500228101</td>\n",
       "      <td>KE</td>\n",
       "      <td>NaN</td>\n",
       "      <td>16104</td>\n",
       "      <td>N</td>\n",
       "      <td>Y</td>\n",
       "      <td>KOGER EQUITY INC</td>\n",
       "      <td>NaN</td>\n",
       "      <td>0.038500</td>\n",
       "    </tr>\n",
       "  </tbody>\n",
       "</table>\n",
       "</div>"
      ],
      "text/plain": [
       "        Date      CUSIP Ticker    MktValue  Shares Russell1000 Russell2000  \\\n",
       "0 1996-07-31  302426101   FHPC         NaN   40682           Y           N   \n",
       "1 2001-05-31  457153104     IM   879349.50   66366           Y           N   \n",
       "2 2004-11-30  949475107     WC  1107957.84   22616           Y           N   \n",
       "3 1999-11-30  553087107    MMI    73669.37   18134           N           Y   \n",
       "4 1996-10-31  500228101     KE         NaN   16104           N           Y   \n",
       "\n",
       "                   Name  R1000_WT  R2000_WT  \n",
       "0  FHP INTERNATIONAL CO  0.020100       NaN  \n",
       "1      INGRAM MICRO INC  0.000078       NaN  \n",
       "2        WELLCHOICE INC  0.000095       NaN  \n",
       "3           MMI COS INC       NaN  0.000086  \n",
       "4      KOGER EQUITY INC       NaN  0.038500  "
      ]
     },
     "execution_count": 64,
     "metadata": {},
     "output_type": "execute_result"
    }
   ],
   "source": [
    "raw_russ.head(5)"
   ]
  },
  {
   "cell_type": "markdown",
   "metadata": {},
   "source": [
    "# Clean data"
   ]
  },
  {
   "cell_type": "code",
   "execution_count": 65,
   "metadata": {},
   "outputs": [],
   "source": [
    "cleaned_russ = raw_russ\\\n",
    "    .clean_names()\\\n",
    "    .loc[lambda x:(x.date >= '1996-01-01')&(x.date <= '2006-12-31')]\\\n",
    "    .assign(russell1000 = lambda x:np.select(\n",
    "        [x.russell1000 == 'Y',x.russell1000 == 'N'],\n",
    "        [1,0],\n",
    "        default = -1),\n",
    "            russell2000 = lambda x:np.select(\n",
    "        [x.russell2000 == 'Y',x.russell2000 == 'N'],\n",
    "        [1,0],\n",
    "        default = -1),\n",
    "            r1000_wt = lambda x:x.r1000_wt.fillna(0),\n",
    "            r2000_wt = lambda x:x.r2000_wt.fillna(0)\n",
    "    )\\\n",
    "    .assign(year = lambda x:x.date.dt.year,\n",
    "            month = lambda x:x.date.dt.month,\n",
    "            yrmo = lambda x: x.year*100 + x.month)"
   ]
  },
  {
   "cell_type": "code",
   "execution_count": 66,
   "metadata": {},
   "outputs": [
    {
     "data": {
      "text/html": [
       "<div>\n",
       "<style scoped>\n",
       "    .dataframe tbody tr th:only-of-type {\n",
       "        vertical-align: middle;\n",
       "    }\n",
       "\n",
       "    .dataframe tbody tr th {\n",
       "        vertical-align: top;\n",
       "    }\n",
       "\n",
       "    .dataframe thead th {\n",
       "        text-align: right;\n",
       "    }\n",
       "</style>\n",
       "<table border=\"1\" class=\"dataframe\">\n",
       "  <thead>\n",
       "    <tr style=\"text-align: right;\">\n",
       "      <th></th>\n",
       "      <th>date</th>\n",
       "      <th>cusip</th>\n",
       "      <th>ticker</th>\n",
       "      <th>mktvalue</th>\n",
       "      <th>shares</th>\n",
       "      <th>russell1000</th>\n",
       "      <th>russell2000</th>\n",
       "      <th>name</th>\n",
       "      <th>r1000_wt</th>\n",
       "      <th>r2000_wt</th>\n",
       "      <th>year</th>\n",
       "      <th>month</th>\n",
       "      <th>yrmo</th>\n",
       "    </tr>\n",
       "  </thead>\n",
       "  <tbody>\n",
       "    <tr>\n",
       "      <th>0</th>\n",
       "      <td>1996-07-31</td>\n",
       "      <td>302426101</td>\n",
       "      <td>FHPC</td>\n",
       "      <td>NaN</td>\n",
       "      <td>40682</td>\n",
       "      <td>1</td>\n",
       "      <td>0</td>\n",
       "      <td>FHP INTERNATIONAL CO</td>\n",
       "      <td>0.020100</td>\n",
       "      <td>0.000000</td>\n",
       "      <td>1996</td>\n",
       "      <td>7</td>\n",
       "      <td>199607</td>\n",
       "    </tr>\n",
       "    <tr>\n",
       "      <th>1</th>\n",
       "      <td>2001-05-31</td>\n",
       "      <td>457153104</td>\n",
       "      <td>IM</td>\n",
       "      <td>879349.50</td>\n",
       "      <td>66366</td>\n",
       "      <td>1</td>\n",
       "      <td>0</td>\n",
       "      <td>INGRAM MICRO INC</td>\n",
       "      <td>0.000078</td>\n",
       "      <td>0.000000</td>\n",
       "      <td>2001</td>\n",
       "      <td>5</td>\n",
       "      <td>200105</td>\n",
       "    </tr>\n",
       "    <tr>\n",
       "      <th>2</th>\n",
       "      <td>2004-11-30</td>\n",
       "      <td>949475107</td>\n",
       "      <td>WC</td>\n",
       "      <td>1107957.84</td>\n",
       "      <td>22616</td>\n",
       "      <td>1</td>\n",
       "      <td>0</td>\n",
       "      <td>WELLCHOICE INC</td>\n",
       "      <td>0.000095</td>\n",
       "      <td>0.000000</td>\n",
       "      <td>2004</td>\n",
       "      <td>11</td>\n",
       "      <td>200411</td>\n",
       "    </tr>\n",
       "    <tr>\n",
       "      <th>3</th>\n",
       "      <td>1999-11-30</td>\n",
       "      <td>553087107</td>\n",
       "      <td>MMI</td>\n",
       "      <td>73669.37</td>\n",
       "      <td>18134</td>\n",
       "      <td>0</td>\n",
       "      <td>1</td>\n",
       "      <td>MMI COS INC</td>\n",
       "      <td>0.000000</td>\n",
       "      <td>0.000086</td>\n",
       "      <td>1999</td>\n",
       "      <td>11</td>\n",
       "      <td>199911</td>\n",
       "    </tr>\n",
       "    <tr>\n",
       "      <th>4</th>\n",
       "      <td>1996-10-31</td>\n",
       "      <td>500228101</td>\n",
       "      <td>KE</td>\n",
       "      <td>NaN</td>\n",
       "      <td>16104</td>\n",
       "      <td>0</td>\n",
       "      <td>1</td>\n",
       "      <td>KOGER EQUITY INC</td>\n",
       "      <td>0.000000</td>\n",
       "      <td>0.038500</td>\n",
       "      <td>1996</td>\n",
       "      <td>10</td>\n",
       "      <td>199610</td>\n",
       "    </tr>\n",
       "  </tbody>\n",
       "</table>\n",
       "</div>"
      ],
      "text/plain": [
       "        date      cusip ticker    mktvalue  shares  russell1000  russell2000  \\\n",
       "0 1996-07-31  302426101   FHPC         NaN   40682            1            0   \n",
       "1 2001-05-31  457153104     IM   879349.50   66366            1            0   \n",
       "2 2004-11-30  949475107     WC  1107957.84   22616            1            0   \n",
       "3 1999-11-30  553087107    MMI    73669.37   18134            0            1   \n",
       "4 1996-10-31  500228101     KE         NaN   16104            0            1   \n",
       "\n",
       "                   name  r1000_wt  r2000_wt  year  month    yrmo  \n",
       "0  FHP INTERNATIONAL CO  0.020100  0.000000  1996      7  199607  \n",
       "1      INGRAM MICRO INC  0.000078  0.000000  2001      5  200105  \n",
       "2        WELLCHOICE INC  0.000095  0.000000  2004     11  200411  \n",
       "3           MMI COS INC  0.000000  0.000086  1999     11  199911  \n",
       "4      KOGER EQUITY INC  0.000000  0.038500  1996     10  199610  "
      ]
     },
     "execution_count": 66,
     "metadata": {},
     "output_type": "execute_result"
    }
   ],
   "source": [
    "cleaned_russ.head(5)"
   ]
  },
  {
   "cell_type": "markdown",
   "metadata": {},
   "source": [
    "# Data integrity checks"
   ]
  },
  {
   "cell_type": "code",
   "execution_count": 67,
   "metadata": {},
   "outputs": [
    {
     "name": "stdout",
     "output_type": "stream",
     "text": [
      "All good\n"
     ]
    }
   ],
   "source": [
    "assert len(cleaned_russ.russell1000.unique()) == 2\n",
    "assert len(cleaned_russ.russell2000.unique()) == 2\n",
    "\n",
    "print(\"All good\")"
   ]
  },
  {
   "cell_type": "code",
   "execution_count": 68,
   "metadata": {},
   "outputs": [
    {
     "name": "stdout",
     "output_type": "stream",
     "text": [
      "Old shape: (10000, 10)\n",
      "New shape: (10000, 13)\n"
     ]
    }
   ],
   "source": [
    "print(f\"Old shape: {raw_russ.shape}\")\n",
    "print(f\"New shape: {cleaned_russ.shape}\")"
   ]
  },
  {
   "cell_type": "markdown",
   "metadata": {},
   "source": [
    "# Save cleaned datsets"
   ]
  },
  {
   "cell_type": "code",
   "execution_count": 69,
   "metadata": {},
   "outputs": [],
   "source": [
    "cleaned_russ.to_csv(header.clean_root(\"russell.csv\"), index = False)"
   ]
  }
 ],
 "metadata": {
  "kernelspec": {
   "display_name": "Python 3",
   "language": "python",
   "name": "python3"
  },
  "language_info": {
   "codemirror_mode": {
    "name": "ipython",
    "version": 3
   },
   "file_extension": ".py",
   "mimetype": "text/x-python",
   "name": "python",
   "nbconvert_exporter": "python",
   "pygments_lexer": "ipython3",
   "version": "3.8.8"
  },
  "toc": {
   "base_numbering": 1,
   "nav_menu": {},
   "number_sections": true,
   "sideBar": true,
   "skip_h1_title": false,
   "title_cell": "Table of Contents",
   "title_sidebar": "Contents",
   "toc_cell": false,
   "toc_position": {},
   "toc_section_display": true,
   "toc_window_display": true
  }
 },
 "nbformat": 4,
 "nbformat_minor": 2
}
