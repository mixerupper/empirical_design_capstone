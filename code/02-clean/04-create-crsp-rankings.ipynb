{
 "cells": [
  {
   "cell_type": "code",
   "execution_count": 2,
   "metadata": {},
   "outputs": [],
   "source": [
    "# Have to install janitor package to run. Not included in anaconda.\n",
    "import numpy as np\n",
    "import pandas as pd\n",
    "import matplotlib.pyplot as plt\n",
    "import math as math\n",
    "import janitor"
   ]
  },
  {
   "cell_type": "code",
   "execution_count": 3,
   "metadata": {},
   "outputs": [],
   "source": [
    "exec(open(\"../header.py\").read())"
   ]
  },
  {
   "cell_type": "markdown",
   "metadata": {},
   "source": [
    "# Import raw data"
   ]
  },
  {
   "cell_type": "code",
   "execution_count": 4,
   "metadata": {},
   "outputs": [],
   "source": [
    "sample = False\n",
    "header = Header(sample)"
   ]
  },
  {
   "cell_type": "code",
   "execution_count": 5,
   "metadata": {},
   "outputs": [
    {
     "name": "stderr",
     "output_type": "stream",
     "text": [
      "C:\\Users\\Andrew\\anaconda3\\lib\\site-packages\\IPython\\core\\interactiveshell.py:3146: DtypeWarning: Columns (6,9) have mixed types.Specify dtype option on import or set low_memory=False.\n",
      "  has_raised = await self.run_ast_nodes(code_ast.body, cell_name,\n"
     ]
    }
   ],
   "source": [
    "raw_merged_df = pd.read_csv(header.clean_root(\"crsp_russ.csv\"), parse_dates = ['date'])"
   ]
  },
  {
   "cell_type": "code",
   "execution_count": 6,
   "metadata": {},
   "outputs": [
    {
     "data": {
      "text/plain": [
       "Index(['permno', 'date', 'ticker_x', 'comnam', 'tsymbol', 'hexcd', 'cusip',\n",
       "       'prc', 'vol', 'ret', 'bid', 'ask', 'shrout', 'numtrd', 'ewretd',\n",
       "       'mktcap', 'year', 'month', 'yrmo', 'bid_ask_spread', 'turnover',\n",
       "       'dollar_vol', 'ticker_y', 'russell1000', 'russell2000', 'name',\n",
       "       'r1000_wt', 'r2000_wt'],\n",
       "      dtype='object')"
      ]
     },
     "execution_count": 6,
     "metadata": {},
     "output_type": "execute_result"
    }
   ],
   "source": [
    "raw_merged_df.columns"
   ]
  },
  {
   "cell_type": "code",
   "execution_count": 25,
   "metadata": {},
   "outputs": [
    {
     "data": {
      "text/plain": [
       "Timestamp('1995-05-01 00:00:00')"
      ]
     },
     "execution_count": 25,
     "metadata": {},
     "output_type": "execute_result"
    }
   ],
   "source": [
    "raw_merged_df.date.min()"
   ]
  },
  {
   "cell_type": "markdown",
   "metadata": {},
   "source": [
    "# Create rank"
   ]
  },
  {
   "cell_type": "code",
   "execution_count": 7,
   "metadata": {},
   "outputs": [],
   "source": [
    "ranks_df = raw_merged_df\\\n",
    "    .loc[lambda x:x.month == 5]\\\n",
    "    .groupby(['permno', 'yrmo'], as_index = False)\\\n",
    "    .apply(lambda d:d.loc[lambda x:x.date == max(x.date)])\\\n",
    "    .reset_index(drop = True)\\\n",
    "    .loc[:,['yrmo', 'year', 'permno', 'russell1000', 'mktcap']]\\\n",
    "    .fillna({'russell1000':0, 'russell2000':0})"
   ]
  },
  {
   "cell_type": "code",
   "execution_count": 8,
   "metadata": {},
   "outputs": [],
   "source": [
    "ranks_df['mkt_rank_desc'] = ranks_df\\\n",
    "    .groupby(['yrmo','year','russell1000'], as_index = False)['mktcap']\\\n",
    "    .transform(lambda x:x.rank(ascending = False))"
   ]
  },
  {
   "cell_type": "code",
   "execution_count": 9,
   "metadata": {},
   "outputs": [],
   "source": [
    "ranks_df['mkt_rank_asc'] = ranks_df\\\n",
    "    .groupby(['yrmo','year','russell1000'], as_index = False)['mktcap']\\\n",
    "    .transform(lambda x:x.rank(ascending = True))"
   ]
  },
  {
   "cell_type": "code",
   "execution_count": 10,
   "metadata": {},
   "outputs": [],
   "source": [
    "ranks_df = ranks_df.reset_index(drop = True)\\\n",
    "    .rename({'year':'russell_year'}, axis = 1)\\\n",
    "    .loc[:,['russell_year', 'permno', 'mkt_rank_desc', 'mkt_rank_asc']]"
   ]
  },
  {
   "cell_type": "markdown",
   "metadata": {},
   "source": [
    "# Create russell year variable"
   ]
  },
  {
   "cell_type": "code",
   "execution_count": 11,
   "metadata": {},
   "outputs": [],
   "source": [
    "merged_df = raw_merged_df\\\n",
    "    .assign(russell_year = lambda x:np.where(x.month <= 5, x.year - 1, x.year))\\\n",
    "    .fillna({'russell1000':0, 'russell2000':0})"
   ]
  },
  {
   "cell_type": "markdown",
   "metadata": {},
   "source": [
    "# Join on rank"
   ]
  },
  {
   "cell_type": "code",
   "execution_count": 12,
   "metadata": {},
   "outputs": [],
   "source": [
    "merged_df = merged_df\\\n",
    "    .merge(ranks_df, how = 'left', on = ['permno', 'russell_year'])"
   ]
  },
  {
   "cell_type": "code",
   "execution_count": 13,
   "metadata": {},
   "outputs": [],
   "source": [
    "merged_df = merged_df\\\n",
    "    .loc[lambda x:(x.russell1000 == 1)|(x.russell2000 == 1)]"
   ]
  },
  {
   "cell_type": "code",
   "execution_count": 14,
   "metadata": {},
   "outputs": [
    {
     "data": {
      "text/plain": [
       "Index(['permno', 'date', 'ticker_x', 'comnam', 'tsymbol', 'hexcd', 'cusip',\n",
       "       'prc', 'vol', 'ret', 'bid', 'ask', 'shrout', 'numtrd', 'ewretd',\n",
       "       'mktcap', 'year', 'month', 'yrmo', 'bid_ask_spread', 'turnover',\n",
       "       'dollar_vol', 'ticker_y', 'russell1000', 'russell2000', 'name',\n",
       "       'r1000_wt', 'r2000_wt', 'russell_year', 'mkt_rank_desc',\n",
       "       'mkt_rank_asc'],\n",
       "      dtype='object')"
      ]
     },
     "execution_count": 14,
     "metadata": {},
     "output_type": "execute_result"
    }
   ],
   "source": [
    "merged_df.columns"
   ]
  },
  {
   "cell_type": "markdown",
   "metadata": {},
   "source": [
    "# Data Integrity"
   ]
  },
  {
   "cell_type": "markdown",
   "metadata": {},
   "source": [
    "## Example of contradictory market caps and reasoning"
   ]
  },
  {
   "cell_type": "markdown",
   "metadata": {},
   "source": [
    "**Question**: Why is the larger company in the Russell 2000 while the smaller company is in the Russell 1000?"
   ]
  },
  {
   "cell_type": "markdown",
   "metadata": {},
   "source": [
    "**Answer**: It's because the Russell 1000 company's market cap dropped from last year May and/or the Russell 2000 company's market cap rose from last year May. Russell 1000/2000 membership is mostly decided at month-end in May. The smaller market-cap company then dropped to Russell 2000 for the next year."
   ]
  },
  {
   "cell_type": "code",
   "execution_count": 15,
   "metadata": {},
   "outputs": [
    {
     "data": {
      "text/html": [
       "<div>\n",
       "<style scoped>\n",
       "    .dataframe tbody tr th:only-of-type {\n",
       "        vertical-align: middle;\n",
       "    }\n",
       "\n",
       "    .dataframe tbody tr th {\n",
       "        vertical-align: top;\n",
       "    }\n",
       "\n",
       "    .dataframe thead th {\n",
       "        text-align: right;\n",
       "    }\n",
       "</style>\n",
       "<table border=\"1\" class=\"dataframe\">\n",
       "  <thead>\n",
       "    <tr style=\"text-align: right;\">\n",
       "      <th></th>\n",
       "      <th>yrmo</th>\n",
       "      <th>cusip</th>\n",
       "      <th>mktcap</th>\n",
       "      <th>russell1000</th>\n",
       "      <th>russell2000</th>\n",
       "      <th>prc</th>\n",
       "      <th>shrout</th>\n",
       "      <th>ticker_x</th>\n",
       "      <th>ticker_y</th>\n",
       "      <th>comnam</th>\n",
       "      <th>name</th>\n",
       "    </tr>\n",
       "  </thead>\n",
       "  <tbody>\n",
       "    <tr>\n",
       "      <th>1789175</th>\n",
       "      <td>200505</td>\n",
       "      <td>88160910</td>\n",
       "      <td>2620927.4</td>\n",
       "      <td>0.0</td>\n",
       "      <td>1.0</td>\n",
       "      <td>39.13</td>\n",
       "      <td>66980.0</td>\n",
       "      <td>TSO</td>\n",
       "      <td>TSO</td>\n",
       "      <td>TESORO CORP</td>\n",
       "      <td>TESORO CORP</td>\n",
       "    </tr>\n",
       "    <tr>\n",
       "      <th>1789176</th>\n",
       "      <td>200505</td>\n",
       "      <td>88160910</td>\n",
       "      <td>2479599.6</td>\n",
       "      <td>0.0</td>\n",
       "      <td>1.0</td>\n",
       "      <td>37.02</td>\n",
       "      <td>66980.0</td>\n",
       "      <td>TSO</td>\n",
       "      <td>TSO</td>\n",
       "      <td>TESORO CORP</td>\n",
       "      <td>TESORO CORP</td>\n",
       "    </tr>\n",
       "    <tr>\n",
       "      <th>1789177</th>\n",
       "      <td>200505</td>\n",
       "      <td>88160910</td>\n",
       "      <td>2607531.4</td>\n",
       "      <td>0.0</td>\n",
       "      <td>1.0</td>\n",
       "      <td>38.93</td>\n",
       "      <td>66980.0</td>\n",
       "      <td>TSO</td>\n",
       "      <td>TSO</td>\n",
       "      <td>TESORO CORP</td>\n",
       "      <td>TESORO CORP</td>\n",
       "    </tr>\n",
       "    <tr>\n",
       "      <th>1789178</th>\n",
       "      <td>200505</td>\n",
       "      <td>88160910</td>\n",
       "      <td>2686567.8</td>\n",
       "      <td>0.0</td>\n",
       "      <td>1.0</td>\n",
       "      <td>40.11</td>\n",
       "      <td>66980.0</td>\n",
       "      <td>TSO</td>\n",
       "      <td>TSO</td>\n",
       "      <td>TESORO CORP</td>\n",
       "      <td>TESORO CORP</td>\n",
       "    </tr>\n",
       "    <tr>\n",
       "      <th>1789179</th>\n",
       "      <td>200505</td>\n",
       "      <td>88160910</td>\n",
       "      <td>2659106.0</td>\n",
       "      <td>0.0</td>\n",
       "      <td>1.0</td>\n",
       "      <td>39.70</td>\n",
       "      <td>66980.0</td>\n",
       "      <td>TSO</td>\n",
       "      <td>TSO</td>\n",
       "      <td>TESORO CORP</td>\n",
       "      <td>TESORO CORP</td>\n",
       "    </tr>\n",
       "    <tr>\n",
       "      <th>...</th>\n",
       "      <td>...</td>\n",
       "      <td>...</td>\n",
       "      <td>...</td>\n",
       "      <td>...</td>\n",
       "      <td>...</td>\n",
       "      <td>...</td>\n",
       "      <td>...</td>\n",
       "      <td>...</td>\n",
       "      <td>...</td>\n",
       "      <td>...</td>\n",
       "      <td>...</td>\n",
       "    </tr>\n",
       "    <tr>\n",
       "      <th>1789591</th>\n",
       "      <td>200612</td>\n",
       "      <td>88160910</td>\n",
       "      <td>4404112.0</td>\n",
       "      <td>1.0</td>\n",
       "      <td>0.0</td>\n",
       "      <td>65.44</td>\n",
       "      <td>67300.0</td>\n",
       "      <td>TSO</td>\n",
       "      <td>TSO</td>\n",
       "      <td>TESORO CORP</td>\n",
       "      <td>TESORO CORP</td>\n",
       "    </tr>\n",
       "    <tr>\n",
       "      <th>1789592</th>\n",
       "      <td>200612</td>\n",
       "      <td>88160910</td>\n",
       "      <td>4398728.0</td>\n",
       "      <td>1.0</td>\n",
       "      <td>0.0</td>\n",
       "      <td>65.36</td>\n",
       "      <td>67300.0</td>\n",
       "      <td>TSO</td>\n",
       "      <td>TSO</td>\n",
       "      <td>TESORO CORP</td>\n",
       "      <td>TESORO CORP</td>\n",
       "    </tr>\n",
       "    <tr>\n",
       "      <th>1789593</th>\n",
       "      <td>200612</td>\n",
       "      <td>88160910</td>\n",
       "      <td>4447857.0</td>\n",
       "      <td>1.0</td>\n",
       "      <td>0.0</td>\n",
       "      <td>66.09</td>\n",
       "      <td>67300.0</td>\n",
       "      <td>TSO</td>\n",
       "      <td>TSO</td>\n",
       "      <td>TESORO CORP</td>\n",
       "      <td>TESORO CORP</td>\n",
       "    </tr>\n",
       "    <tr>\n",
       "      <th>1789594</th>\n",
       "      <td>200612</td>\n",
       "      <td>88160910</td>\n",
       "      <td>4455260.0</td>\n",
       "      <td>1.0</td>\n",
       "      <td>0.0</td>\n",
       "      <td>66.20</td>\n",
       "      <td>67300.0</td>\n",
       "      <td>TSO</td>\n",
       "      <td>TSO</td>\n",
       "      <td>TESORO CORP</td>\n",
       "      <td>TESORO CORP</td>\n",
       "    </tr>\n",
       "    <tr>\n",
       "      <th>1789595</th>\n",
       "      <td>200612</td>\n",
       "      <td>88160910</td>\n",
       "      <td>4426321.0</td>\n",
       "      <td>1.0</td>\n",
       "      <td>0.0</td>\n",
       "      <td>65.77</td>\n",
       "      <td>67300.0</td>\n",
       "      <td>TSO</td>\n",
       "      <td>TSO</td>\n",
       "      <td>TESORO CORP</td>\n",
       "      <td>TESORO CORP</td>\n",
       "    </tr>\n",
       "  </tbody>\n",
       "</table>\n",
       "<p>421 rows × 11 columns</p>\n",
       "</div>"
      ],
      "text/plain": [
       "           yrmo     cusip     mktcap  russell1000  russell2000    prc  \\\n",
       "1789175  200505  88160910  2620927.4          0.0          1.0  39.13   \n",
       "1789176  200505  88160910  2479599.6          0.0          1.0  37.02   \n",
       "1789177  200505  88160910  2607531.4          0.0          1.0  38.93   \n",
       "1789178  200505  88160910  2686567.8          0.0          1.0  40.11   \n",
       "1789179  200505  88160910  2659106.0          0.0          1.0  39.70   \n",
       "...         ...       ...        ...          ...          ...    ...   \n",
       "1789591  200612  88160910  4404112.0          1.0          0.0  65.44   \n",
       "1789592  200612  88160910  4398728.0          1.0          0.0  65.36   \n",
       "1789593  200612  88160910  4447857.0          1.0          0.0  66.09   \n",
       "1789594  200612  88160910  4455260.0          1.0          0.0  66.20   \n",
       "1789595  200612  88160910  4426321.0          1.0          0.0  65.77   \n",
       "\n",
       "          shrout ticker_x ticker_y       comnam         name  \n",
       "1789175  66980.0      TSO      TSO  TESORO CORP  TESORO CORP  \n",
       "1789176  66980.0      TSO      TSO  TESORO CORP  TESORO CORP  \n",
       "1789177  66980.0      TSO      TSO  TESORO CORP  TESORO CORP  \n",
       "1789178  66980.0      TSO      TSO  TESORO CORP  TESORO CORP  \n",
       "1789179  66980.0      TSO      TSO  TESORO CORP  TESORO CORP  \n",
       "...          ...      ...      ...          ...          ...  \n",
       "1789591  67300.0      TSO      TSO  TESORO CORP  TESORO CORP  \n",
       "1789592  67300.0      TSO      TSO  TESORO CORP  TESORO CORP  \n",
       "1789593  67300.0      TSO      TSO  TESORO CORP  TESORO CORP  \n",
       "1789594  67300.0      TSO      TSO  TESORO CORP  TESORO CORP  \n",
       "1789595  67300.0      TSO      TSO  TESORO CORP  TESORO CORP  \n",
       "\n",
       "[421 rows x 11 columns]"
      ]
     },
     "execution_count": 15,
     "metadata": {},
     "output_type": "execute_result"
    }
   ],
   "source": [
    "merged_df.loc[lambda x:(x.cusip == '88160910')&(x.yrmo >= 200505),\n",
    "              ['yrmo','cusip','mktcap','russell1000','russell2000','prc','shrout','ticker_x', 'ticker_y', 'comnam', 'name']]"
   ]
  },
  {
   "cell_type": "code",
   "execution_count": 16,
   "metadata": {},
   "outputs": [
    {
     "data": {
      "text/html": [
       "<div>\n",
       "<style scoped>\n",
       "    .dataframe tbody tr th:only-of-type {\n",
       "        vertical-align: middle;\n",
       "    }\n",
       "\n",
       "    .dataframe tbody tr th {\n",
       "        vertical-align: top;\n",
       "    }\n",
       "\n",
       "    .dataframe thead th {\n",
       "        text-align: right;\n",
       "    }\n",
       "</style>\n",
       "<table border=\"1\" class=\"dataframe\">\n",
       "  <thead>\n",
       "    <tr style=\"text-align: right;\">\n",
       "      <th></th>\n",
       "      <th>yrmo</th>\n",
       "      <th>cusip</th>\n",
       "      <th>mktcap</th>\n",
       "      <th>russell1000</th>\n",
       "      <th>russell2000</th>\n",
       "      <th>prc</th>\n",
       "      <th>shrout</th>\n",
       "      <th>ticker_x</th>\n",
       "      <th>ticker_y</th>\n",
       "      <th>comnam</th>\n",
       "      <th>name</th>\n",
       "    </tr>\n",
       "  </thead>\n",
       "  <tbody>\n",
       "    <tr>\n",
       "      <th>981936</th>\n",
       "      <td>200504</td>\n",
       "      <td>92552R40</td>\n",
       "      <td>597238.70</td>\n",
       "      <td>1.0</td>\n",
       "      <td>0.0</td>\n",
       "      <td>26.77</td>\n",
       "      <td>22310.0</td>\n",
       "      <td>VVI</td>\n",
       "      <td>VVI</td>\n",
       "      <td>VIAD CORP</td>\n",
       "      <td>VIAD CORP</td>\n",
       "    </tr>\n",
       "    <tr>\n",
       "      <th>981937</th>\n",
       "      <td>200504</td>\n",
       "      <td>92552R40</td>\n",
       "      <td>601700.70</td>\n",
       "      <td>1.0</td>\n",
       "      <td>0.0</td>\n",
       "      <td>26.97</td>\n",
       "      <td>22310.0</td>\n",
       "      <td>VVI</td>\n",
       "      <td>VVI</td>\n",
       "      <td>VIAD CORP</td>\n",
       "      <td>VIAD CORP</td>\n",
       "    </tr>\n",
       "    <tr>\n",
       "      <th>981938</th>\n",
       "      <td>200504</td>\n",
       "      <td>92552R40</td>\n",
       "      <td>596569.40</td>\n",
       "      <td>1.0</td>\n",
       "      <td>0.0</td>\n",
       "      <td>26.74</td>\n",
       "      <td>22310.0</td>\n",
       "      <td>VVI</td>\n",
       "      <td>VVI</td>\n",
       "      <td>VIAD CORP</td>\n",
       "      <td>VIAD CORP</td>\n",
       "    </tr>\n",
       "    <tr>\n",
       "      <th>981939</th>\n",
       "      <td>200504</td>\n",
       "      <td>92552R40</td>\n",
       "      <td>593892.20</td>\n",
       "      <td>1.0</td>\n",
       "      <td>0.0</td>\n",
       "      <td>26.62</td>\n",
       "      <td>22310.0</td>\n",
       "      <td>VVI</td>\n",
       "      <td>VVI</td>\n",
       "      <td>VIAD CORP</td>\n",
       "      <td>VIAD CORP</td>\n",
       "    </tr>\n",
       "    <tr>\n",
       "      <th>981940</th>\n",
       "      <td>200504</td>\n",
       "      <td>92552R40</td>\n",
       "      <td>593669.10</td>\n",
       "      <td>1.0</td>\n",
       "      <td>0.0</td>\n",
       "      <td>26.61</td>\n",
       "      <td>22310.0</td>\n",
       "      <td>VVI</td>\n",
       "      <td>VVI</td>\n",
       "      <td>VIAD CORP</td>\n",
       "      <td>VIAD CORP</td>\n",
       "    </tr>\n",
       "    <tr>\n",
       "      <th>...</th>\n",
       "      <td>...</td>\n",
       "      <td>...</td>\n",
       "      <td>...</td>\n",
       "      <td>...</td>\n",
       "      <td>...</td>\n",
       "      <td>...</td>\n",
       "      <td>...</td>\n",
       "      <td>...</td>\n",
       "      <td>...</td>\n",
       "      <td>...</td>\n",
       "      <td>...</td>\n",
       "    </tr>\n",
       "    <tr>\n",
       "      <th>982373</th>\n",
       "      <td>200612</td>\n",
       "      <td>92552R40</td>\n",
       "      <td>881341.00</td>\n",
       "      <td>0.0</td>\n",
       "      <td>1.0</td>\n",
       "      <td>40.75</td>\n",
       "      <td>21628.0</td>\n",
       "      <td>VVI</td>\n",
       "      <td>VVI</td>\n",
       "      <td>VIAD CORP</td>\n",
       "      <td>VIAD CORP</td>\n",
       "    </tr>\n",
       "    <tr>\n",
       "      <th>982374</th>\n",
       "      <td>200612</td>\n",
       "      <td>92552R40</td>\n",
       "      <td>893020.12</td>\n",
       "      <td>0.0</td>\n",
       "      <td>1.0</td>\n",
       "      <td>41.29</td>\n",
       "      <td>21628.0</td>\n",
       "      <td>VVI</td>\n",
       "      <td>VVI</td>\n",
       "      <td>VIAD CORP</td>\n",
       "      <td>VIAD CORP</td>\n",
       "    </tr>\n",
       "    <tr>\n",
       "      <th>982375</th>\n",
       "      <td>200612</td>\n",
       "      <td>92552R40</td>\n",
       "      <td>893668.96</td>\n",
       "      <td>0.0</td>\n",
       "      <td>1.0</td>\n",
       "      <td>41.32</td>\n",
       "      <td>21628.0</td>\n",
       "      <td>VVI</td>\n",
       "      <td>VVI</td>\n",
       "      <td>VIAD CORP</td>\n",
       "      <td>VIAD CORP</td>\n",
       "    </tr>\n",
       "    <tr>\n",
       "      <th>982376</th>\n",
       "      <td>200612</td>\n",
       "      <td>92552R40</td>\n",
       "      <td>885666.60</td>\n",
       "      <td>0.0</td>\n",
       "      <td>1.0</td>\n",
       "      <td>40.95</td>\n",
       "      <td>21628.0</td>\n",
       "      <td>VVI</td>\n",
       "      <td>VVI</td>\n",
       "      <td>VIAD CORP</td>\n",
       "      <td>VIAD CORP</td>\n",
       "    </tr>\n",
       "    <tr>\n",
       "      <th>982377</th>\n",
       "      <td>200612</td>\n",
       "      <td>92552R40</td>\n",
       "      <td>878096.80</td>\n",
       "      <td>0.0</td>\n",
       "      <td>1.0</td>\n",
       "      <td>40.60</td>\n",
       "      <td>21628.0</td>\n",
       "      <td>VVI</td>\n",
       "      <td>VVI</td>\n",
       "      <td>VIAD CORP</td>\n",
       "      <td>VIAD CORP</td>\n",
       "    </tr>\n",
       "  </tbody>\n",
       "</table>\n",
       "<p>442 rows × 11 columns</p>\n",
       "</div>"
      ],
      "text/plain": [
       "          yrmo     cusip     mktcap  russell1000  russell2000    prc   shrout  \\\n",
       "981936  200504  92552R40  597238.70          1.0          0.0  26.77  22310.0   \n",
       "981937  200504  92552R40  601700.70          1.0          0.0  26.97  22310.0   \n",
       "981938  200504  92552R40  596569.40          1.0          0.0  26.74  22310.0   \n",
       "981939  200504  92552R40  593892.20          1.0          0.0  26.62  22310.0   \n",
       "981940  200504  92552R40  593669.10          1.0          0.0  26.61  22310.0   \n",
       "...        ...       ...        ...          ...          ...    ...      ...   \n",
       "982373  200612  92552R40  881341.00          0.0          1.0  40.75  21628.0   \n",
       "982374  200612  92552R40  893020.12          0.0          1.0  41.29  21628.0   \n",
       "982375  200612  92552R40  893668.96          0.0          1.0  41.32  21628.0   \n",
       "982376  200612  92552R40  885666.60          0.0          1.0  40.95  21628.0   \n",
       "982377  200612  92552R40  878096.80          0.0          1.0  40.60  21628.0   \n",
       "\n",
       "       ticker_x ticker_y     comnam       name  \n",
       "981936      VVI      VVI  VIAD CORP  VIAD CORP  \n",
       "981937      VVI      VVI  VIAD CORP  VIAD CORP  \n",
       "981938      VVI      VVI  VIAD CORP  VIAD CORP  \n",
       "981939      VVI      VVI  VIAD CORP  VIAD CORP  \n",
       "981940      VVI      VVI  VIAD CORP  VIAD CORP  \n",
       "...         ...      ...        ...        ...  \n",
       "982373      VVI      VVI  VIAD CORP  VIAD CORP  \n",
       "982374      VVI      VVI  VIAD CORP  VIAD CORP  \n",
       "982375      VVI      VVI  VIAD CORP  VIAD CORP  \n",
       "982376      VVI      VVI  VIAD CORP  VIAD CORP  \n",
       "982377      VVI      VVI  VIAD CORP  VIAD CORP  \n",
       "\n",
       "[442 rows x 11 columns]"
      ]
     },
     "execution_count": 16,
     "metadata": {},
     "output_type": "execute_result"
    }
   ],
   "source": [
    "merged_df.loc[lambda x:(x.cusip == '92552R40')&(x.yrmo >= 200504),\n",
    "              ['yrmo','cusip','mktcap','russell1000','russell2000','prc','shrout','ticker_x', 'ticker_y', 'comnam', 'name']]"
   ]
  },
  {
   "cell_type": "markdown",
   "metadata": {},
   "source": [
    "## Other checks"
   ]
  },
  {
   "cell_type": "code",
   "execution_count": 17,
   "metadata": {},
   "outputs": [
    {
     "data": {
      "text/plain": [
       "0.011270489804257235"
      ]
     },
     "execution_count": 17,
     "metadata": {},
     "output_type": "execute_result"
    }
   ],
   "source": [
    "# Check ratio of companies that don't have rankings.\n",
    "np.sum(merged_df['mkt_rank_asc'].isna())/len(merged_df)"
   ]
  },
  {
   "cell_type": "code",
   "execution_count": 18,
   "metadata": {},
   "outputs": [
    {
     "data": {
      "text/plain": [
       "2005    18084\n",
       "2006    13721\n",
       "2000     8927\n",
       "1996     8562\n",
       "2004     7618\n",
       "1999     6221\n",
       "1998     5024\n",
       "1997     4977\n",
       "2001     3263\n",
       "2002     2323\n",
       "2003     2153\n",
       "Name: year, dtype: int64"
      ]
     },
     "execution_count": 18,
     "metadata": {},
     "output_type": "execute_result"
    }
   ],
   "source": [
    "# Check that most are from 1996 or because of IPOs after May that join Russell 1000/2000 straight out the gate\n",
    "merged_df.loc[lambda x:x.mkt_rank_asc.isna(),'year'].value_counts()"
   ]
  },
  {
   "cell_type": "code",
   "execution_count": 19,
   "metadata": {},
   "outputs": [
    {
     "data": {
      "text/plain": [
       "5     11783\n",
       "3     11070\n",
       "4     10679\n",
       "1      8908\n",
       "12     8703\n",
       "2      8337\n",
       "11     5859\n",
       "10     5285\n",
       "9      4977\n",
       "8      2442\n",
       "7      1823\n",
       "6      1007\n",
       "Name: month, dtype: int64"
      ]
     },
     "execution_count": 19,
     "metadata": {},
     "output_type": "execute_result"
    }
   ],
   "source": [
    "merged_df.loc[lambda x:x.mkt_rank_asc.isna(),'month'].value_counts()"
   ]
  },
  {
   "cell_type": "code",
   "execution_count": 20,
   "metadata": {},
   "outputs": [],
   "source": [
    "# Either russell 1000 or russell 2000. Not both\n",
    "assert np.sum((merged_df['russell1000'] + merged_df['russell2000']) != 1) == 0"
   ]
  },
  {
   "cell_type": "code",
   "execution_count": 21,
   "metadata": {},
   "outputs": [],
   "source": [
    "# Permno-date is unique identifier\n",
    "assert merged_df\\\n",
    "    .groupby(['permno','date'], as_index = False)\\\n",
    "    .agg(counts = ('cusip', 'count'))\\\n",
    "    .reset_index(drop = True)\\\n",
    "    .loc[lambda x:x.counts > 1]\\\n",
    "    .shape[0] == 0"
   ]
  },
  {
   "cell_type": "code",
   "execution_count": 22,
   "metadata": {},
   "outputs": [],
   "source": [
    "# Russell 1000 should have larger market cap on average\n",
    "t = merged_df\\\n",
    "    .groupby('russell1000', as_index = False)\\\n",
    "    .agg(mean_mkt_cap = ('mktcap', 'mean'))\n",
    "\n",
    "r1000 = t.loc[lambda x:x.russell1000 == 1,'mean_mkt_cap'].values[0]\n",
    "r2000 = t.loc[lambda x:x.russell1000 == 0,'mean_mkt_cap'].values[0]\n",
    "\n",
    "assert r1000 > r2000"
   ]
  },
  {
   "cell_type": "markdown",
   "metadata": {},
   "source": [
    "# Final filters"
   ]
  },
  {
   "cell_type": "code",
   "execution_count": 27,
   "metadata": {},
   "outputs": [
    {
     "data": {
      "text/plain": [
       "Index(['permno', 'date', 'ticker_x', 'comnam', 'tsymbol', 'hexcd', 'cusip',\n",
       "       'prc', 'vol', 'ret', 'bid', 'ask', 'shrout', 'numtrd', 'ewretd',\n",
       "       'mktcap', 'year', 'month', 'yrmo', 'bid_ask_spread', 'turnover',\n",
       "       'dollar_vol', 'ticker_y', 'russell1000', 'russell2000', 'name',\n",
       "       'r1000_wt', 'r2000_wt', 'russell_year', 'mkt_rank_desc',\n",
       "       'mkt_rank_asc'],\n",
       "      dtype='object')"
      ]
     },
     "execution_count": 27,
     "metadata": {},
     "output_type": "execute_result"
    }
   ],
   "source": [
    "merged_df.columns"
   ]
  },
  {
   "cell_type": "code",
   "execution_count": 28,
   "metadata": {},
   "outputs": [],
   "source": [
    "# Get rid of observations outside time period\n",
    "# Get rid of observations without a valid mkt_ranking_asc or mkt_ranking_desc\n",
    "merged_df = merged_df\\\n",
    "    .loc[lambda x:~(x.mkt_rank_asc.isna())]\\\n",
    "    .loc[lambda x:~(x.mkt_rank_desc.isna())]"
   ]
  },
  {
   "cell_type": "code",
   "execution_count": null,
   "metadata": {},
   "outputs": [],
   "source": []
  },
  {
   "cell_type": "markdown",
   "metadata": {},
   "source": [
    "# Save cleaned datsets"
   ]
  },
  {
   "cell_type": "code",
   "execution_count": 23,
   "metadata": {},
   "outputs": [],
   "source": [
    "merged_df.to_csv(header.clean_root(\"crsp_russ_ranks.csv\"), index = False)"
   ]
  }
 ],
 "metadata": {
  "kernelspec": {
   "display_name": "Python 3",
   "language": "python",
   "name": "python3"
  },
  "language_info": {
   "codemirror_mode": {
    "name": "ipython",
    "version": 3
   },
   "file_extension": ".py",
   "mimetype": "text/x-python",
   "name": "python",
   "nbconvert_exporter": "python",
   "pygments_lexer": "ipython3",
   "version": "3.8.5"
  },
  "toc": {
   "base_numbering": 1,
   "nav_menu": {},
   "number_sections": true,
   "sideBar": true,
   "skip_h1_title": false,
   "title_cell": "Table of Contents",
   "title_sidebar": "Contents",
   "toc_cell": false,
   "toc_position": {},
   "toc_section_display": true,
   "toc_window_display": true
  }
 },
 "nbformat": 4,
 "nbformat_minor": 2
}
