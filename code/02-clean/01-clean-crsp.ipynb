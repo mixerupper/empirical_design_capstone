{
 "cells": [
  {
   "cell_type": "code",
   "execution_count": 1,
   "metadata": {},
   "outputs": [],
   "source": [
    "# Have to install janitor package to run. Not included in anaconda.\n",
    "import numpy as np\n",
    "import pandas as pd\n",
    "import matplotlib.pyplot as plt\n",
    "import math as math\n",
    "import janitor"
   ]
  },
  {
   "cell_type": "code",
   "execution_count": 2,
   "metadata": {},
   "outputs": [],
   "source": [
    "exec(open(\"../header.py\").read())"
   ]
  },
  {
   "cell_type": "markdown",
   "metadata": {},
   "source": [
    "# Purpose"
   ]
  },
  {
   "cell_type": "markdown",
   "metadata": {},
   "source": [
    "To replicate and then test out Boone and White (2015)."
   ]
  },
  {
   "cell_type": "markdown",
   "metadata": {},
   "source": [
    "# Import raw data"
   ]
  },
  {
   "cell_type": "code",
   "execution_count": 3,
   "metadata": {},
   "outputs": [],
   "source": [
    "sample = False\n",
    "header = Header(sample)"
   ]
  },
  {
   "cell_type": "code",
   "execution_count": 4,
   "metadata": {},
   "outputs": [
    {
     "name": "stderr",
     "output_type": "stream",
     "text": [
      "C:\\Users\\Andrew\\anaconda3\\lib\\site-packages\\IPython\\core\\interactiveshell.py:3146: DtypeWarning: Columns (2,3,9,12) have mixed types.Specify dtype option on import or set low_memory=False.\n",
      "  has_raised = await self.run_ast_nodes(code_ast.body, cell_name,\n"
     ]
    }
   ],
   "source": [
    "raw_crsp = pd.read_csv(header.raw_root(\"crsp_data.csv\"), parse_dates = ['date'])"
   ]
  },
  {
   "cell_type": "code",
   "execution_count": 5,
   "metadata": {},
   "outputs": [
    {
     "name": "stdout",
     "output_type": "stream",
     "text": [
      "Date range: 1994-01-03 00:00:00 - 2007-12-31 00:00:00\n"
     ]
    }
   ],
   "source": [
    "print(f\"Date range: {min(raw_crsp.date)} - {max(raw_crsp.date)}\")"
   ]
  },
  {
   "cell_type": "code",
   "execution_count": 6,
   "metadata": {},
   "outputs": [
    {
     "data": {
      "text/html": [
       "<div>\n",
       "<style scoped>\n",
       "    .dataframe tbody tr th:only-of-type {\n",
       "        vertical-align: middle;\n",
       "    }\n",
       "\n",
       "    .dataframe tbody tr th {\n",
       "        vertical-align: top;\n",
       "    }\n",
       "\n",
       "    .dataframe thead th {\n",
       "        text-align: right;\n",
       "    }\n",
       "</style>\n",
       "<table border=\"1\" class=\"dataframe\">\n",
       "  <thead>\n",
       "    <tr style=\"text-align: right;\">\n",
       "      <th></th>\n",
       "      <th>PERMNO</th>\n",
       "      <th>date</th>\n",
       "      <th>SICCD</th>\n",
       "      <th>NCUSIP</th>\n",
       "      <th>TICKER</th>\n",
       "      <th>COMNAM</th>\n",
       "      <th>TSYMBOL</th>\n",
       "      <th>PERMCO</th>\n",
       "      <th>HEXCD</th>\n",
       "      <th>CUSIP</th>\n",
       "      <th>PRC</th>\n",
       "      <th>VOL</th>\n",
       "      <th>RET</th>\n",
       "      <th>BID</th>\n",
       "      <th>ASK</th>\n",
       "      <th>SHROUT</th>\n",
       "      <th>NUMTRD</th>\n",
       "      <th>ewretd</th>\n",
       "    </tr>\n",
       "  </thead>\n",
       "  <tbody>\n",
       "    <tr>\n",
       "      <th>0</th>\n",
       "      <td>10001</td>\n",
       "      <td>1994-01-03</td>\n",
       "      <td>4920</td>\n",
       "      <td>29274A10</td>\n",
       "      <td>EWST</td>\n",
       "      <td>ENERGY WEST INC</td>\n",
       "      <td>EWST</td>\n",
       "      <td>7953</td>\n",
       "      <td>2</td>\n",
       "      <td>36720410</td>\n",
       "      <td>17.75</td>\n",
       "      <td>4791.0</td>\n",
       "      <td>-0.034014</td>\n",
       "      <td>17.75</td>\n",
       "      <td>18.0</td>\n",
       "      <td>1091.0</td>\n",
       "      <td>4.0</td>\n",
       "      <td>0.003510</td>\n",
       "    </tr>\n",
       "    <tr>\n",
       "      <th>1</th>\n",
       "      <td>10001</td>\n",
       "      <td>1994-01-04</td>\n",
       "      <td>4920</td>\n",
       "      <td>29274A10</td>\n",
       "      <td>EWST</td>\n",
       "      <td>ENERGY WEST INC</td>\n",
       "      <td>EWST</td>\n",
       "      <td>7953</td>\n",
       "      <td>2</td>\n",
       "      <td>36720410</td>\n",
       "      <td>17.50</td>\n",
       "      <td>2000.0</td>\n",
       "      <td>-0.014085</td>\n",
       "      <td>17.25</td>\n",
       "      <td>18.0</td>\n",
       "      <td>1091.0</td>\n",
       "      <td>2.0</td>\n",
       "      <td>0.006372</td>\n",
       "    </tr>\n",
       "  </tbody>\n",
       "</table>\n",
       "</div>"
      ],
      "text/plain": [
       "   PERMNO       date SICCD    NCUSIP TICKER           COMNAM TSYMBOL  PERMCO  \\\n",
       "0   10001 1994-01-03  4920  29274A10   EWST  ENERGY WEST INC    EWST    7953   \n",
       "1   10001 1994-01-04  4920  29274A10   EWST  ENERGY WEST INC    EWST    7953   \n",
       "\n",
       "   HEXCD     CUSIP    PRC     VOL       RET    BID   ASK  SHROUT  NUMTRD  \\\n",
       "0      2  36720410  17.75  4791.0 -0.034014  17.75  18.0  1091.0     4.0   \n",
       "1      2  36720410  17.50  2000.0 -0.014085  17.25  18.0  1091.0     2.0   \n",
       "\n",
       "     ewretd  \n",
       "0  0.003510  \n",
       "1  0.006372  "
      ]
     },
     "execution_count": 6,
     "metadata": {},
     "output_type": "execute_result"
    }
   ],
   "source": [
    "raw_crsp.head(2)"
   ]
  },
  {
   "cell_type": "markdown",
   "metadata": {},
   "source": [
    "# Clean data"
   ]
  },
  {
   "cell_type": "code",
   "execution_count": 7,
   "metadata": {},
   "outputs": [],
   "source": [
    "# Basic cleaning\n",
    "# Filter start date to May 1995 even though start date we care about is 1996\n",
    "#   in order to establish ranking that carries forward until May 1996\n",
    "cleaned_crsp = raw_crsp\\\n",
    "    .clean_names()\\\n",
    "    .loc[lambda x:(x.date >= '1995-05-01')&(x.date <= '2006-12-31')]\\\n",
    "    .dropna(axis = 0, subset = ['bid', 'ask', 'vol', 'prc', 'shrout'])\\\n",
    "    .assign(prc = lambda x:np.abs(x.prc))\\\n",
    "    .assign(mktcap = lambda x: x.prc * x.shrout)\\\n",
    "    .assign(year = lambda x:x.date.dt.year,\n",
    "            month = lambda x:x.date.dt.month,\n",
    "            yrmo = lambda x: x.year*100 + x.month)"
   ]
  },
  {
   "cell_type": "code",
   "execution_count": 8,
   "metadata": {},
   "outputs": [],
   "source": [
    "# Variables of interest\n",
    "cleaned_crsp = cleaned_crsp\\\n",
    "    .drop(['siccd', 'permco'], axis = 1)\\\n",
    "    .assign(bid_ask_spread = lambda x:(x.ask - x.bid)/((x.ask + x.bid)/2),\n",
    "            turnover = lambda x:x.vol/x.mktcap,\n",
    "            dollar_vol = lambda x:x.vol * x.prc)"
   ]
  },
  {
   "cell_type": "code",
   "execution_count": 9,
   "metadata": {},
   "outputs": [],
   "source": [
    "# Cusip cleanup\n",
    "cleaned_crsp = cleaned_crsp\\\n",
    "    .assign(cusip = lambda x:x.ncusip.str.replace('.0','',regex = False))\\\n",
    "    .assign(cusip = lambda x:x.ncusip.str.slice(0,8))\\\n",
    "    .drop(['ncusip'], axis = 1)"
   ]
  },
  {
   "cell_type": "code",
   "execution_count": 10,
   "metadata": {},
   "outputs": [],
   "source": [
    "# Rank market cap by year-month\n",
    "# cleaned_crsp['rank'] = cleaned_crsp\\\n",
    "#     .groupby('yrmo', as_index = False)['mktcap']\\\n",
    "#     .transform(lambda x:x.rank(ascending = False))"
   ]
  },
  {
   "cell_type": "code",
   "execution_count": 11,
   "metadata": {},
   "outputs": [
    {
     "data": {
      "text/html": [
       "<div>\n",
       "<style scoped>\n",
       "    .dataframe tbody tr th:only-of-type {\n",
       "        vertical-align: middle;\n",
       "    }\n",
       "\n",
       "    .dataframe tbody tr th {\n",
       "        vertical-align: top;\n",
       "    }\n",
       "\n",
       "    .dataframe thead th {\n",
       "        text-align: right;\n",
       "    }\n",
       "</style>\n",
       "<table border=\"1\" class=\"dataframe\">\n",
       "  <thead>\n",
       "    <tr style=\"text-align: right;\">\n",
       "      <th></th>\n",
       "      <th>permno</th>\n",
       "      <th>date</th>\n",
       "      <th>ticker</th>\n",
       "      <th>comnam</th>\n",
       "      <th>tsymbol</th>\n",
       "      <th>hexcd</th>\n",
       "      <th>cusip</th>\n",
       "      <th>prc</th>\n",
       "      <th>vol</th>\n",
       "      <th>ret</th>\n",
       "      <th>...</th>\n",
       "      <th>shrout</th>\n",
       "      <th>numtrd</th>\n",
       "      <th>ewretd</th>\n",
       "      <th>mktcap</th>\n",
       "      <th>year</th>\n",
       "      <th>month</th>\n",
       "      <th>yrmo</th>\n",
       "      <th>bid_ask_spread</th>\n",
       "      <th>turnover</th>\n",
       "      <th>dollar_vol</th>\n",
       "    </tr>\n",
       "  </thead>\n",
       "  <tbody>\n",
       "    <tr>\n",
       "      <th>334</th>\n",
       "      <td>10001</td>\n",
       "      <td>1995-05-01</td>\n",
       "      <td>EWST</td>\n",
       "      <td>ENERGY WEST INC</td>\n",
       "      <td>EWST</td>\n",
       "      <td>2</td>\n",
       "      <td>29274A10</td>\n",
       "      <td>8.250</td>\n",
       "      <td>400.0</td>\n",
       "      <td>0.1</td>\n",
       "      <td>...</td>\n",
       "      <td>2244.0</td>\n",
       "      <td>3.0</td>\n",
       "      <td>0.000588</td>\n",
       "      <td>18513.0</td>\n",
       "      <td>1995</td>\n",
       "      <td>5</td>\n",
       "      <td>199505</td>\n",
       "      <td>0.095238</td>\n",
       "      <td>0.021606</td>\n",
       "      <td>3300.0</td>\n",
       "    </tr>\n",
       "    <tr>\n",
       "      <th>335</th>\n",
       "      <td>10001</td>\n",
       "      <td>1995-05-02</td>\n",
       "      <td>EWST</td>\n",
       "      <td>ENERGY WEST INC</td>\n",
       "      <td>EWST</td>\n",
       "      <td>2</td>\n",
       "      <td>29274A10</td>\n",
       "      <td>7.875</td>\n",
       "      <td>0.0</td>\n",
       "      <td>-0.045455</td>\n",
       "      <td>...</td>\n",
       "      <td>2244.0</td>\n",
       "      <td>0.0</td>\n",
       "      <td>0.001771</td>\n",
       "      <td>17671.5</td>\n",
       "      <td>1995</td>\n",
       "      <td>5</td>\n",
       "      <td>199505</td>\n",
       "      <td>0.095238</td>\n",
       "      <td>0.000000</td>\n",
       "      <td>0.0</td>\n",
       "    </tr>\n",
       "    <tr>\n",
       "      <th>336</th>\n",
       "      <td>10001</td>\n",
       "      <td>1995-05-03</td>\n",
       "      <td>EWST</td>\n",
       "      <td>ENERGY WEST INC</td>\n",
       "      <td>EWST</td>\n",
       "      <td>2</td>\n",
       "      <td>29274A10</td>\n",
       "      <td>8.250</td>\n",
       "      <td>218.0</td>\n",
       "      <td>0.047619</td>\n",
       "      <td>...</td>\n",
       "      <td>2244.0</td>\n",
       "      <td>1.0</td>\n",
       "      <td>0.003985</td>\n",
       "      <td>18513.0</td>\n",
       "      <td>1995</td>\n",
       "      <td>5</td>\n",
       "      <td>199505</td>\n",
       "      <td>0.095238</td>\n",
       "      <td>0.011776</td>\n",
       "      <td>1798.5</td>\n",
       "    </tr>\n",
       "    <tr>\n",
       "      <th>337</th>\n",
       "      <td>10001</td>\n",
       "      <td>1995-05-04</td>\n",
       "      <td>EWST</td>\n",
       "      <td>ENERGY WEST INC</td>\n",
       "      <td>EWST</td>\n",
       "      <td>2</td>\n",
       "      <td>29274A10</td>\n",
       "      <td>7.500</td>\n",
       "      <td>5800.0</td>\n",
       "      <td>-0.090909</td>\n",
       "      <td>...</td>\n",
       "      <td>2244.0</td>\n",
       "      <td>6.0</td>\n",
       "      <td>-0.003479</td>\n",
       "      <td>16830.0</td>\n",
       "      <td>1995</td>\n",
       "      <td>5</td>\n",
       "      <td>199505</td>\n",
       "      <td>0.095238</td>\n",
       "      <td>0.344623</td>\n",
       "      <td>43500.0</td>\n",
       "    </tr>\n",
       "    <tr>\n",
       "      <th>338</th>\n",
       "      <td>10001</td>\n",
       "      <td>1995-05-05</td>\n",
       "      <td>EWST</td>\n",
       "      <td>ENERGY WEST INC</td>\n",
       "      <td>EWST</td>\n",
       "      <td>2</td>\n",
       "      <td>29274A10</td>\n",
       "      <td>8.250</td>\n",
       "      <td>600.0</td>\n",
       "      <td>0.1</td>\n",
       "      <td>...</td>\n",
       "      <td>2244.0</td>\n",
       "      <td>1.0</td>\n",
       "      <td>0.001353</td>\n",
       "      <td>18513.0</td>\n",
       "      <td>1995</td>\n",
       "      <td>5</td>\n",
       "      <td>199505</td>\n",
       "      <td>0.095238</td>\n",
       "      <td>0.032410</td>\n",
       "      <td>4950.0</td>\n",
       "    </tr>\n",
       "  </tbody>\n",
       "</table>\n",
       "<p>5 rows × 22 columns</p>\n",
       "</div>"
      ],
      "text/plain": [
       "     permno       date ticker           comnam tsymbol  hexcd     cusip  \\\n",
       "334   10001 1995-05-01   EWST  ENERGY WEST INC    EWST      2  29274A10   \n",
       "335   10001 1995-05-02   EWST  ENERGY WEST INC    EWST      2  29274A10   \n",
       "336   10001 1995-05-03   EWST  ENERGY WEST INC    EWST      2  29274A10   \n",
       "337   10001 1995-05-04   EWST  ENERGY WEST INC    EWST      2  29274A10   \n",
       "338   10001 1995-05-05   EWST  ENERGY WEST INC    EWST      2  29274A10   \n",
       "\n",
       "       prc     vol       ret  ...  shrout  numtrd    ewretd   mktcap  year  \\\n",
       "334  8.250   400.0       0.1  ...  2244.0     3.0  0.000588  18513.0  1995   \n",
       "335  7.875     0.0 -0.045455  ...  2244.0     0.0  0.001771  17671.5  1995   \n",
       "336  8.250   218.0  0.047619  ...  2244.0     1.0  0.003985  18513.0  1995   \n",
       "337  7.500  5800.0 -0.090909  ...  2244.0     6.0 -0.003479  16830.0  1995   \n",
       "338  8.250   600.0       0.1  ...  2244.0     1.0  0.001353  18513.0  1995   \n",
       "\n",
       "     month    yrmo  bid_ask_spread  turnover  dollar_vol  \n",
       "334      5  199505        0.095238  0.021606      3300.0  \n",
       "335      5  199505        0.095238  0.000000         0.0  \n",
       "336      5  199505        0.095238  0.011776      1798.5  \n",
       "337      5  199505        0.095238  0.344623     43500.0  \n",
       "338      5  199505        0.095238  0.032410      4950.0  \n",
       "\n",
       "[5 rows x 22 columns]"
      ]
     },
     "execution_count": 11,
     "metadata": {},
     "output_type": "execute_result"
    }
   ],
   "source": [
    "cleaned_crsp.head(5)"
   ]
  },
  {
   "cell_type": "code",
   "execution_count": 12,
   "metadata": {},
   "outputs": [
    {
     "data": {
      "text/plain": [
       "Index(['permno', 'date', 'ticker', 'comnam', 'tsymbol', 'hexcd', 'cusip',\n",
       "       'prc', 'vol', 'ret', 'bid', 'ask', 'shrout', 'numtrd', 'ewretd',\n",
       "       'mktcap', 'year', 'month', 'yrmo', 'bid_ask_spread', 'turnover',\n",
       "       'dollar_vol'],\n",
       "      dtype='object')"
      ]
     },
     "execution_count": 12,
     "metadata": {},
     "output_type": "execute_result"
    }
   ],
   "source": [
    "cleaned_crsp.columns"
   ]
  },
  {
   "cell_type": "markdown",
   "metadata": {},
   "source": [
    "# Data Integrity checks"
   ]
  },
  {
   "cell_type": "code",
   "execution_count": 13,
   "metadata": {},
   "outputs": [
    {
     "name": "stdout",
     "output_type": "stream",
     "text": [
      "Old shape: (27927544, 18)\n",
      "New shape: (22198012, 22)\n"
     ]
    }
   ],
   "source": [
    "print(f\"Old shape: {raw_crsp.shape}\")\n",
    "print(f\"New shape: {cleaned_crsp.shape}\")"
   ]
  },
  {
   "cell_type": "code",
   "execution_count": 14,
   "metadata": {},
   "outputs": [],
   "source": [
    "# Permno is a unique identifier\n",
    "assert cleaned_crsp\\\n",
    "    .groupby(['permno', 'date'], as_index = False)\\\n",
    "    .agg(counts = ('ticker', 'count'))\\\n",
    "    .loc[lambda x:x.counts > 1]\\\n",
    "    .shape[0] == 0"
   ]
  },
  {
   "cell_type": "code",
   "execution_count": 15,
   "metadata": {},
   "outputs": [],
   "source": [
    "# CUSIP-date is a unique identifier\n",
    "assert cleaned_crsp\\\n",
    "    .groupby(['cusip', 'date'], as_index = False)\\\n",
    "    .agg(counts = ('permno','count'))\\\n",
    "    .loc[lambda x:x.counts > 1, 'counts']\\\n",
    "    .shape[0] == 0"
   ]
  },
  {
   "cell_type": "markdown",
   "metadata": {},
   "source": [
    "# Save cleaned datsets"
   ]
  },
  {
   "cell_type": "code",
   "execution_count": 16,
   "metadata": {},
   "outputs": [],
   "source": [
    "cleaned_crsp.to_csv(header.clean_root(\"crsp.csv\"), index = False)"
   ]
  }
 ],
 "metadata": {
  "kernelspec": {
   "display_name": "Python 3",
   "language": "python",
   "name": "python3"
  },
  "language_info": {
   "codemirror_mode": {
    "name": "ipython",
    "version": 3
   },
   "file_extension": ".py",
   "mimetype": "text/x-python",
   "name": "python",
   "nbconvert_exporter": "python",
   "pygments_lexer": "ipython3",
   "version": "3.8.5"
  },
  "toc": {
   "base_numbering": 1,
   "nav_menu": {},
   "number_sections": true,
   "sideBar": true,
   "skip_h1_title": false,
   "title_cell": "Table of Contents",
   "title_sidebar": "Contents",
   "toc_cell": false,
   "toc_position": {},
   "toc_section_display": true,
   "toc_window_display": true
  }
 },
 "nbformat": 4,
 "nbformat_minor": 2
}
