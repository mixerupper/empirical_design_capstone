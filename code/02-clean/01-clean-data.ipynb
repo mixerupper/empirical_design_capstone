{
 "cells": [
  {
   "cell_type": "code",
   "execution_count": 1,
   "metadata": {},
   "outputs": [],
   "source": [
    "# Have to install janitor package to run. Not included in anaconda.\n",
    "import numpy as np\n",
    "import pandas as pd\n",
    "import matplotlib.pyplot as plt\n",
    "import math as math\n",
    "import janitor"
   ]
  },
  {
   "cell_type": "code",
   "execution_count": 2,
   "metadata": {},
   "outputs": [],
   "source": [
    "exec(open(\"../header.py\").read())"
   ]
  },
  {
   "cell_type": "markdown",
   "metadata": {},
   "source": [
    "# Purpose"
   ]
  },
  {
   "cell_type": "markdown",
   "metadata": {},
   "source": [
    "To replicate and then test out Boone and White (2015)."
   ]
  },
  {
   "cell_type": "markdown",
   "metadata": {},
   "source": [
    "# Header"
   ]
  },
  {
   "cell_type": "code",
   "execution_count": null,
   "metadata": {},
   "outputs": [],
   "source": []
  },
  {
   "cell_type": "markdown",
   "metadata": {},
   "source": [
    "# Import raw data"
   ]
  },
  {
   "cell_type": "code",
   "execution_count": 23,
   "metadata": {},
   "outputs": [],
   "source": [
    "sample = False"
   ]
  },
  {
   "cell_type": "code",
   "execution_count": 5,
   "metadata": {},
   "outputs": [
    {
     "name": "stderr",
     "output_type": "stream",
     "text": [
      "C:\\ProgramData\\Anaconda3\\lib\\site-packages\\IPython\\core\\interactiveshell.py:3165: DtypeWarning: Columns (2,8) have mixed types.Specify dtype option on import or set low_memory=False.\n",
      "  has_raised = await self.run_ast_nodes(code_ast.body, cell_name,\n"
     ]
    }
   ],
   "source": [
    "raw_crsp = pd.read_csv(\"data.csv\", parse_dates = ['date'])"
   ]
  },
  {
   "cell_type": "code",
   "execution_count": 6,
   "metadata": {},
   "outputs": [
    {
     "data": {
      "text/html": [
       "<div>\n",
       "<style scoped>\n",
       "    .dataframe tbody tr th:only-of-type {\n",
       "        vertical-align: middle;\n",
       "    }\n",
       "\n",
       "    .dataframe tbody tr th {\n",
       "        vertical-align: top;\n",
       "    }\n",
       "\n",
       "    .dataframe thead th {\n",
       "        text-align: right;\n",
       "    }\n",
       "</style>\n",
       "<table border=\"1\" class=\"dataframe\">\n",
       "  <thead>\n",
       "    <tr style=\"text-align: right;\">\n",
       "      <th></th>\n",
       "      <th>PERMNO</th>\n",
       "      <th>date</th>\n",
       "      <th>SICCD</th>\n",
       "      <th>TICKER</th>\n",
       "      <th>NAICS</th>\n",
       "      <th>PERMCO</th>\n",
       "      <th>PRC</th>\n",
       "      <th>VOL</th>\n",
       "      <th>RET</th>\n",
       "      <th>BID</th>\n",
       "      <th>ASK</th>\n",
       "      <th>SHROUT</th>\n",
       "      <th>ewretd</th>\n",
       "    </tr>\n",
       "  </thead>\n",
       "  <tbody>\n",
       "    <tr>\n",
       "      <th>0</th>\n",
       "      <td>10001</td>\n",
       "      <td>1994-01-03</td>\n",
       "      <td>4920</td>\n",
       "      <td>EWST</td>\n",
       "      <td>NaN</td>\n",
       "      <td>7953</td>\n",
       "      <td>17.750</td>\n",
       "      <td>4791.0</td>\n",
       "      <td>-0.034014</td>\n",
       "      <td>17.75</td>\n",
       "      <td>18.0</td>\n",
       "      <td>1091.0</td>\n",
       "      <td>0.003510</td>\n",
       "    </tr>\n",
       "    <tr>\n",
       "      <th>1</th>\n",
       "      <td>10001</td>\n",
       "      <td>1994-01-04</td>\n",
       "      <td>4920</td>\n",
       "      <td>EWST</td>\n",
       "      <td>NaN</td>\n",
       "      <td>7953</td>\n",
       "      <td>17.500</td>\n",
       "      <td>2000.0</td>\n",
       "      <td>-0.014085</td>\n",
       "      <td>17.25</td>\n",
       "      <td>18.0</td>\n",
       "      <td>1091.0</td>\n",
       "      <td>0.006372</td>\n",
       "    </tr>\n",
       "    <tr>\n",
       "      <th>2</th>\n",
       "      <td>10001</td>\n",
       "      <td>1994-01-05</td>\n",
       "      <td>4920</td>\n",
       "      <td>EWST</td>\n",
       "      <td>NaN</td>\n",
       "      <td>7953</td>\n",
       "      <td>18.000</td>\n",
       "      <td>800.0</td>\n",
       "      <td>0.028571</td>\n",
       "      <td>17.25</td>\n",
       "      <td>18.0</td>\n",
       "      <td>1091.0</td>\n",
       "      <td>0.005785</td>\n",
       "    </tr>\n",
       "    <tr>\n",
       "      <th>3</th>\n",
       "      <td>10001</td>\n",
       "      <td>1994-01-06</td>\n",
       "      <td>4920</td>\n",
       "      <td>EWST</td>\n",
       "      <td>NaN</td>\n",
       "      <td>7953</td>\n",
       "      <td>17.250</td>\n",
       "      <td>675.0</td>\n",
       "      <td>-0.041667</td>\n",
       "      <td>17.25</td>\n",
       "      <td>18.0</td>\n",
       "      <td>1091.0</td>\n",
       "      <td>0.002806</td>\n",
       "    </tr>\n",
       "    <tr>\n",
       "      <th>4</th>\n",
       "      <td>10001</td>\n",
       "      <td>1994-01-07</td>\n",
       "      <td>4920</td>\n",
       "      <td>EWST</td>\n",
       "      <td>NaN</td>\n",
       "      <td>7953</td>\n",
       "      <td>17.875</td>\n",
       "      <td>4200.0</td>\n",
       "      <td>0.036232</td>\n",
       "      <td>17.25</td>\n",
       "      <td>18.0</td>\n",
       "      <td>1091.0</td>\n",
       "      <td>0.005166</td>\n",
       "    </tr>\n",
       "  </tbody>\n",
       "</table>\n",
       "</div>"
      ],
      "text/plain": [
       "   PERMNO       date SICCD TICKER  NAICS  PERMCO     PRC     VOL        RET  \\\n",
       "0   10001 1994-01-03  4920   EWST    NaN    7953  17.750  4791.0  -0.034014   \n",
       "1   10001 1994-01-04  4920   EWST    NaN    7953  17.500  2000.0  -0.014085   \n",
       "2   10001 1994-01-05  4920   EWST    NaN    7953  18.000   800.0   0.028571   \n",
       "3   10001 1994-01-06  4920   EWST    NaN    7953  17.250   675.0  -0.041667   \n",
       "4   10001 1994-01-07  4920   EWST    NaN    7953  17.875  4200.0   0.036232   \n",
       "\n",
       "     BID   ASK  SHROUT    ewretd  \n",
       "0  17.75  18.0  1091.0  0.003510  \n",
       "1  17.25  18.0  1091.0  0.006372  \n",
       "2  17.25  18.0  1091.0  0.005785  \n",
       "3  17.25  18.0  1091.0  0.002806  \n",
       "4  17.25  18.0  1091.0  0.005166  "
      ]
     },
     "execution_count": 6,
     "metadata": {},
     "output_type": "execute_result"
    }
   ],
   "source": [
    "raw_crsp.head(5)"
   ]
  },
  {
   "cell_type": "markdown",
   "metadata": {},
   "source": [
    "# Clean data"
   ]
  },
  {
   "cell_type": "code",
   "execution_count": 14,
   "metadata": {},
   "outputs": [],
   "source": [
    "cleaned_crsp = raw_crsp\\\n",
    "    .clean_names()\\\n",
    "    .loc[lambda x:(x.date >= '1996-01-01')&(x.date <= '2006-12-31')]\\\n",
    "    .assign(mktcap = lambda x: x.prc * x.shrout)\\\n",
    "    .assign(year = lambda x:x.date.dt.year)"
   ]
  },
  {
   "cell_type": "code",
   "execution_count": 17,
   "metadata": {},
   "outputs": [
    {
     "data": {
      "text/plain": [
       "504         1996\n",
       "505         1996\n",
       "506         1996\n",
       "507         1996\n",
       "508         1996\n",
       "            ... \n",
       "27927539    2000\n",
       "27927540    2000\n",
       "27927541    2000\n",
       "27927542    2000\n",
       "27927543    2000\n",
       "Name: date, Length: 21984131, dtype: int64"
      ]
     },
     "execution_count": 17,
     "metadata": {},
     "output_type": "execute_result"
    }
   ],
   "source": [
    "cleaned_crsp['date'].dt.year"
   ]
  },
  {
   "cell_type": "code",
   "execution_count": 20,
   "metadata": {},
   "outputs": [],
   "source": [
    "cleaned_crsp['ranks'] = cleaned_crsp\\\n",
    "    .groupby('date', as_index = False)['mktcap']\\\n",
    "    .transform(lambda x:x.rank(ascending = False))"
   ]
  },
  {
   "cell_type": "code",
   "execution_count": 22,
   "metadata": {},
   "outputs": [
    {
     "data": {
      "text/html": [
       "<div>\n",
       "<style scoped>\n",
       "    .dataframe tbody tr th:only-of-type {\n",
       "        vertical-align: middle;\n",
       "    }\n",
       "\n",
       "    .dataframe tbody tr th {\n",
       "        vertical-align: top;\n",
       "    }\n",
       "\n",
       "    .dataframe thead th {\n",
       "        text-align: right;\n",
       "    }\n",
       "</style>\n",
       "<table border=\"1\" class=\"dataframe\">\n",
       "  <thead>\n",
       "    <tr style=\"text-align: right;\">\n",
       "      <th></th>\n",
       "      <th>permno</th>\n",
       "      <th>date</th>\n",
       "      <th>siccd</th>\n",
       "      <th>ticker</th>\n",
       "      <th>naics</th>\n",
       "      <th>permco</th>\n",
       "      <th>prc</th>\n",
       "      <th>vol</th>\n",
       "      <th>ret</th>\n",
       "      <th>bid</th>\n",
       "      <th>ask</th>\n",
       "      <th>shrout</th>\n",
       "      <th>ewretd</th>\n",
       "      <th>mktcap</th>\n",
       "      <th>ranks</th>\n",
       "    </tr>\n",
       "  </thead>\n",
       "  <tbody>\n",
       "    <tr>\n",
       "      <th>504</th>\n",
       "      <td>10001</td>\n",
       "      <td>1996-01-02</td>\n",
       "      <td>4920</td>\n",
       "      <td>EWST</td>\n",
       "      <td>NaN</td>\n",
       "      <td>7953</td>\n",
       "      <td>-9.125</td>\n",
       "      <td>0.0</td>\n",
       "      <td>-0.026667</td>\n",
       "      <td>8.75</td>\n",
       "      <td>9.5</td>\n",
       "      <td>2281.0</td>\n",
       "      <td>0.010979</td>\n",
       "      <td>-20814.125</td>\n",
       "      <td>8182.0</td>\n",
       "    </tr>\n",
       "    <tr>\n",
       "      <th>505</th>\n",
       "      <td>10001</td>\n",
       "      <td>1996-01-03</td>\n",
       "      <td>4920</td>\n",
       "      <td>EWST</td>\n",
       "      <td>NaN</td>\n",
       "      <td>7953</td>\n",
       "      <td>9.500</td>\n",
       "      <td>119.0</td>\n",
       "      <td>0.041096</td>\n",
       "      <td>8.75</td>\n",
       "      <td>9.5</td>\n",
       "      <td>2281.0</td>\n",
       "      <td>0.005154</td>\n",
       "      <td>21669.500</td>\n",
       "      <td>6429.0</td>\n",
       "    </tr>\n",
       "    <tr>\n",
       "      <th>506</th>\n",
       "      <td>10001</td>\n",
       "      <td>1996-01-04</td>\n",
       "      <td>4920</td>\n",
       "      <td>EWST</td>\n",
       "      <td>NaN</td>\n",
       "      <td>7953</td>\n",
       "      <td>-9.125</td>\n",
       "      <td>0.0</td>\n",
       "      <td>-0.039474</td>\n",
       "      <td>8.75</td>\n",
       "      <td>9.5</td>\n",
       "      <td>2281.0</td>\n",
       "      <td>-0.005707</td>\n",
       "      <td>-20814.125</td>\n",
       "      <td>8143.0</td>\n",
       "    </tr>\n",
       "    <tr>\n",
       "      <th>507</th>\n",
       "      <td>10001</td>\n",
       "      <td>1996-01-05</td>\n",
       "      <td>4920</td>\n",
       "      <td>EWST</td>\n",
       "      <td>NaN</td>\n",
       "      <td>7953</td>\n",
       "      <td>8.750</td>\n",
       "      <td>1384.0</td>\n",
       "      <td>-0.041096</td>\n",
       "      <td>8.75</td>\n",
       "      <td>9.5</td>\n",
       "      <td>2281.0</td>\n",
       "      <td>0.005605</td>\n",
       "      <td>19958.750</td>\n",
       "      <td>6550.0</td>\n",
       "    </tr>\n",
       "    <tr>\n",
       "      <th>508</th>\n",
       "      <td>10001</td>\n",
       "      <td>1996-01-08</td>\n",
       "      <td>4920</td>\n",
       "      <td>EWST</td>\n",
       "      <td>NaN</td>\n",
       "      <td>7953</td>\n",
       "      <td>8.750</td>\n",
       "      <td>1000.0</td>\n",
       "      <td>0.000000</td>\n",
       "      <td>8.75</td>\n",
       "      <td>9.5</td>\n",
       "      <td>2281.0</td>\n",
       "      <td>0.003672</td>\n",
       "      <td>19958.750</td>\n",
       "      <td>6051.0</td>\n",
       "    </tr>\n",
       "  </tbody>\n",
       "</table>\n",
       "</div>"
      ],
      "text/plain": [
       "     permno       date siccd ticker  naics  permco    prc     vol        ret  \\\n",
       "504   10001 1996-01-02  4920   EWST    NaN    7953 -9.125     0.0  -0.026667   \n",
       "505   10001 1996-01-03  4920   EWST    NaN    7953  9.500   119.0   0.041096   \n",
       "506   10001 1996-01-04  4920   EWST    NaN    7953 -9.125     0.0  -0.039474   \n",
       "507   10001 1996-01-05  4920   EWST    NaN    7953  8.750  1384.0  -0.041096   \n",
       "508   10001 1996-01-08  4920   EWST    NaN    7953  8.750  1000.0   0.000000   \n",
       "\n",
       "      bid  ask  shrout    ewretd     mktcap   ranks  \n",
       "504  8.75  9.5  2281.0  0.010979 -20814.125  8182.0  \n",
       "505  8.75  9.5  2281.0  0.005154  21669.500  6429.0  \n",
       "506  8.75  9.5  2281.0 -0.005707 -20814.125  8143.0  \n",
       "507  8.75  9.5  2281.0  0.005605  19958.750  6550.0  \n",
       "508  8.75  9.5  2281.0  0.003672  19958.750  6051.0  "
      ]
     },
     "execution_count": 22,
     "metadata": {},
     "output_type": "execute_result"
    }
   ],
   "source": [
    "cleaned_data.head(5)"
   ]
  },
  {
   "cell_type": "code",
   "execution_count": 12,
   "metadata": {},
   "outputs": [
    {
     "name": "stdout",
     "output_type": "stream",
     "text": [
      "Old shape: (27927544, 13)\n",
      "New shape: (21984131, 13)\n"
     ]
    }
   ],
   "source": [
    "print(f\"Old shape: {raw_data.shape}\")\n",
    "print(f\"New shape: {cleaned_data.shape}\")"
   ]
  },
  {
   "cell_type": "code",
   "execution_count": null,
   "metadata": {},
   "outputs": [],
   "source": []
  },
  {
   "cell_type": "markdown",
   "metadata": {},
   "source": [
    "# Save cleaned datsets"
   ]
  },
  {
   "cell_type": "code",
   "execution_count": null,
   "metadata": {},
   "outputs": [],
   "source": [
    "cleaned_data.to_csv()"
   ]
  }
 ],
 "metadata": {
  "kernelspec": {
   "display_name": "Python 3",
   "language": "python",
   "name": "python3"
  },
  "language_info": {
   "codemirror_mode": {
    "name": "ipython",
    "version": 3
   },
   "file_extension": ".py",
   "mimetype": "text/x-python",
   "name": "python",
   "nbconvert_exporter": "python",
   "pygments_lexer": "ipython3",
   "version": "3.8.8"
  },
  "toc": {
   "base_numbering": 1,
   "nav_menu": {},
   "number_sections": true,
   "sideBar": true,
   "skip_h1_title": false,
   "title_cell": "Table of Contents",
   "title_sidebar": "Contents",
   "toc_cell": false,
   "toc_position": {},
   "toc_section_display": true,
   "toc_window_display": true
  }
 },
 "nbformat": 4,
 "nbformat_minor": 2
}
