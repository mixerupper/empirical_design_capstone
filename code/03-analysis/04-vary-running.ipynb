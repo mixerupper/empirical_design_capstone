{
 "cells": [
  {
   "cell_type": "code",
   "execution_count": 1,
   "metadata": {},
   "outputs": [],
   "source": [
    "# Have to install janitor package to run. Not included in anaconda.\n",
    "import numpy as np\n",
    "import pandas as pd\n",
    "import matplotlib.pyplot as plt\n",
    "import math as math\n",
    "import janitor"
   ]
  },
  {
   "cell_type": "code",
   "execution_count": 2,
   "metadata": {},
   "outputs": [],
   "source": [
    "exec(open(\"../header.py\").read())"
   ]
  },
  {
   "cell_type": "markdown",
   "metadata": {},
   "source": [
    "# Import raw data"
   ]
  },
  {
   "cell_type": "code",
   "execution_count": 3,
   "metadata": {},
   "outputs": [],
   "source": [
    "sample = True\n",
    "header = Header(sample)"
   ]
  },
  {
   "cell_type": "code",
   "execution_count": 4,
   "metadata": {},
   "outputs": [
    {
     "name": "stderr",
     "output_type": "stream",
     "text": [
      "C:\\Users\\Andrew\\anaconda3\\lib\\site-packages\\IPython\\core\\interactiveshell.py:3146: DtypeWarning: Columns (9) have mixed types.Specify dtype option on import or set low_memory=False.\n",
      "  has_raised = await self.run_ast_nodes(code_ast.body, cell_name,\n"
     ]
    }
   ],
   "source": [
    "raw_df = pd.read_csv(header.clean_root(\"crsp_russ_ranks.csv\"), parse_dates = ['date'])"
   ]
  },
  {
   "cell_type": "code",
   "execution_count": 5,
   "metadata": {},
   "outputs": [
    {
     "data": {
      "text/html": [
       "<div>\n",
       "<style scoped>\n",
       "    .dataframe tbody tr th:only-of-type {\n",
       "        vertical-align: middle;\n",
       "    }\n",
       "\n",
       "    .dataframe tbody tr th {\n",
       "        vertical-align: top;\n",
       "    }\n",
       "\n",
       "    .dataframe thead th {\n",
       "        text-align: right;\n",
       "    }\n",
       "</style>\n",
       "<table border=\"1\" class=\"dataframe\">\n",
       "  <thead>\n",
       "    <tr style=\"text-align: right;\">\n",
       "      <th></th>\n",
       "      <th>permno</th>\n",
       "      <th>date</th>\n",
       "      <th>ticker_x</th>\n",
       "      <th>comnam</th>\n",
       "      <th>tsymbol</th>\n",
       "      <th>hexcd</th>\n",
       "      <th>cusip</th>\n",
       "      <th>prc</th>\n",
       "      <th>vol</th>\n",
       "      <th>ret</th>\n",
       "      <th>...</th>\n",
       "      <th>dollar_vol</th>\n",
       "      <th>ticker_y</th>\n",
       "      <th>russell1000</th>\n",
       "      <th>russell2000</th>\n",
       "      <th>name</th>\n",
       "      <th>r1000_wt</th>\n",
       "      <th>r2000_wt</th>\n",
       "      <th>russell_year</th>\n",
       "      <th>mkt_rank_desc</th>\n",
       "      <th>mkt_rank_asc</th>\n",
       "    </tr>\n",
       "  </thead>\n",
       "  <tbody>\n",
       "    <tr>\n",
       "      <th>0</th>\n",
       "      <td>76272</td>\n",
       "      <td>1996-05-02</td>\n",
       "      <td>VPI</td>\n",
       "      <td>VINTAGE PETROLEUM INC</td>\n",
       "      <td>NaN</td>\n",
       "      <td>1</td>\n",
       "      <td>92746010</td>\n",
       "      <td>25.000</td>\n",
       "      <td>96000.0</td>\n",
       "      <td>0.020408</td>\n",
       "      <td>...</td>\n",
       "      <td>2.400000e+06</td>\n",
       "      <td>VPI</td>\n",
       "      <td>0.0</td>\n",
       "      <td>1.0</td>\n",
       "      <td>VINTAGE PETROLEUM IN</td>\n",
       "      <td>0.00</td>\n",
       "      <td>0.0556</td>\n",
       "      <td>1995</td>\n",
       "      <td>1183.0</td>\n",
       "      <td>1962.0</td>\n",
       "    </tr>\n",
       "    <tr>\n",
       "      <th>1</th>\n",
       "      <td>75510</td>\n",
       "      <td>1996-12-02</td>\n",
       "      <td>ADBE</td>\n",
       "      <td>ADOBE SYSTEMS INC</td>\n",
       "      <td>ADBE</td>\n",
       "      <td>3</td>\n",
       "      <td>00724F10</td>\n",
       "      <td>43.375</td>\n",
       "      <td>2332847.0</td>\n",
       "      <td>0.098101</td>\n",
       "      <td>...</td>\n",
       "      <td>1.011872e+08</td>\n",
       "      <td>ADBE</td>\n",
       "      <td>1.0</td>\n",
       "      <td>0.0</td>\n",
       "      <td>ADOBE SYSTEMS INC</td>\n",
       "      <td>0.04</td>\n",
       "      <td>0.0000</td>\n",
       "      <td>1996</td>\n",
       "      <td>375.0</td>\n",
       "      <td>450.0</td>\n",
       "    </tr>\n",
       "  </tbody>\n",
       "</table>\n",
       "<p>2 rows × 31 columns</p>\n",
       "</div>"
      ],
      "text/plain": [
       "   permno       date ticker_x                 comnam tsymbol  hexcd     cusip  \\\n",
       "0   76272 1996-05-02      VPI  VINTAGE PETROLEUM INC     NaN      1  92746010   \n",
       "1   75510 1996-12-02     ADBE      ADOBE SYSTEMS INC    ADBE      3  00724F10   \n",
       "\n",
       "      prc        vol       ret  ...    dollar_vol  ticker_y  russell1000  \\\n",
       "0  25.000    96000.0  0.020408  ...  2.400000e+06       VPI          0.0   \n",
       "1  43.375  2332847.0  0.098101  ...  1.011872e+08      ADBE          1.0   \n",
       "\n",
       "   russell2000                  name  r1000_wt  r2000_wt  russell_year  \\\n",
       "0          1.0  VINTAGE PETROLEUM IN      0.00    0.0556          1995   \n",
       "1          0.0     ADOBE SYSTEMS INC      0.04    0.0000          1996   \n",
       "\n",
       "   mkt_rank_desc  mkt_rank_asc  \n",
       "0         1183.0        1962.0  \n",
       "1          375.0         450.0  \n",
       "\n",
       "[2 rows x 31 columns]"
      ]
     },
     "execution_count": 5,
     "metadata": {},
     "output_type": "execute_result"
    }
   ],
   "source": [
    "raw_df.head(2)"
   ]
  },
  {
   "cell_type": "code",
   "execution_count": 6,
   "metadata": {},
   "outputs": [
    {
     "data": {
      "text/plain": [
       "Index(['permno', 'date', 'ticker_x', 'comnam', 'tsymbol', 'hexcd', 'cusip',\n",
       "       'prc', 'vol', 'ret', 'bid', 'ask', 'shrout', 'numtrd', 'ewretd',\n",
       "       'mktcap', 'year', 'month', 'yrmo', 'bid_ask_spread', 'turnover',\n",
       "       'dollar_vol', 'ticker_y', 'russell1000', 'russell2000', 'name',\n",
       "       'r1000_wt', 'r2000_wt', 'russell_year', 'mkt_rank_desc',\n",
       "       'mkt_rank_asc'],\n",
       "      dtype='object')"
      ]
     },
     "execution_count": 6,
     "metadata": {},
     "output_type": "execute_result"
    }
   ],
   "source": [
    "raw_df.columns"
   ]
  },
  {
   "cell_type": "markdown",
   "metadata": {},
   "source": [
    "# Variables of interest"
   ]
  },
  {
   "cell_type": "code",
   "execution_count": 7,
   "metadata": {},
   "outputs": [],
   "source": [
    "y_vars = ['bid_ask_spread', 'turnover', 'dollar_vol']\n",
    "treatment_x_vars = ['russell2000']\n",
    "running_x_vars = ['weight_rank', 'may_rank']"
   ]
  },
  {
   "cell_type": "markdown",
   "metadata": {},
   "source": [
    "# Create running $x$ vars"
   ]
  },
  {
   "cell_type": "code",
   "execution_count": 8,
   "metadata": {},
   "outputs": [],
   "source": [
    "df = raw_df.copy()\n",
    "\n",
    "df['weight_rank_r1000'] = df\\\n",
    "    .groupby(['yrmo','year','russell1000'], as_index = False)['r1000_wt']\\\n",
    "    .transform(lambda x:x.rank(ascending = True))\n",
    "\n",
    "df['weight_rank_r2000'] = df\\\n",
    "    .groupby(['yrmo','year','russell1000'], as_index = False)['r2000_wt']\\\n",
    "    .transform(lambda x:x.rank(ascending = False))\n",
    "\n",
    "# Rely on fact that every stock is in either in r1000 or r2000 from data cleaning\n",
    "df['weight_rank'] = np.where(df['russell1000'] == 1, df['weight_rank_r1000'], df['weight_rank_r2000'] * -1)"
   ]
  },
  {
   "cell_type": "code",
   "execution_count": 9,
   "metadata": {},
   "outputs": [],
   "source": [
    "df['may_rank'] = np.where(df['russell1000'] == 1, df['mkt_rank_asc'], df['mkt_rank_desc'] * -1)"
   ]
  },
  {
   "cell_type": "markdown",
   "metadata": {},
   "source": [
    "# Create $y$ vars"
   ]
  },
  {
   "cell_type": "code",
   "execution_count": 10,
   "metadata": {},
   "outputs": [],
   "source": [
    "df['y1_spread'] = df['bid_ask_spread']/((df['bid']+df['ask'])/2)\n",
    "df['y2_spread'] = df\\\n",
    "    .groupby(['permno','russell_year'])['y1_spread']\\\n",
    "    .transform(lambda x:x.mean())\n",
    "df['y3_spread'] = df['bid_ask_spread']"
   ]
  },
  {
   "cell_type": "code",
   "execution_count": 11,
   "metadata": {},
   "outputs": [],
   "source": [
    "# Fix bad formula\n",
    "df['turnover'] = df['vol']/df['shrout']\n",
    "\n",
    "df['y1_turnover'] = df\\\n",
    "    .groupby(['permno','russell_year'])['turnover']\\\n",
    "    .transform(lambda x:x.mean())\n",
    "df['y2_turnover'] = df['turnover']"
   ]
  },
  {
   "cell_type": "code",
   "execution_count": 12,
   "metadata": {},
   "outputs": [],
   "source": [
    "df['y1_dollar_vol'] = df\\\n",
    "    .groupby(['permno','russell_year'])['dollar_vol']\\\n",
    "    .transform(lambda x:x.mean())\n",
    "df['y2_dollar_vol'] = df['dollar_vol']"
   ]
  },
  {
   "cell_type": "markdown",
   "metadata": {},
   "source": [
    "# Difference-in-Mean Results"
   ]
  },
  {
   "cell_type": "markdown",
   "metadata": {},
   "source": [
    "## Function"
   ]
  },
  {
   "cell_type": "code",
   "execution_count": 13,
   "metadata": {},
   "outputs": [],
   "source": [
    "import scipy.stats"
   ]
  },
  {
   "cell_type": "code",
   "execution_count": 14,
   "metadata": {},
   "outputs": [],
   "source": [
    "def diff_mean(df, y, running_x, treatment_x, bw_start, bw_end):\n",
    "    # Restrict df[x] to bandwidth\n",
    "    df_subset = df\\\n",
    "        .loc[lambda d:(d[running_x] <= bw_end)&(d[running_x] >= -1*bw_end)]\\\n",
    "        .loc[lambda d:(d[running_x] >= bw_start)|(d[running_x] <= -1*bw_start)]\n",
    "    \n",
    "    # Show difference in features across treatment\n",
    "    diff_means = df_subset\\\n",
    "        .groupby(treatment_x)\\\n",
    "        .agg(mean = (y, 'mean'),\n",
    "             sd = (y, 'std'),\n",
    "             count = (y, 'count'))\\\n",
    "        .reset_index()\\\n",
    "        .rename({'mean':y+'_mean',\n",
    "                 'sd':y+'_sd',\n",
    "                 'russell2000':'treatment'}, axis = 1)\n",
    "    \n",
    "    # Calculate statistical significance of difference\n",
    "    mu_1 = diff_means.loc[lambda x:x.treatment == 1, y+'_mean'].values\n",
    "    mu_2 = diff_means.loc[lambda x:x.treatment == 0, y+'_mean'].values\n",
    "    sd_1 = diff_means.loc[lambda x:x.treatment == 1, y+'_sd'].values\n",
    "    sd_2 = diff_means.loc[lambda x:x.treatment == 0, y+'_sd'].values\n",
    "    n_1 = diff_means.loc[lambda x:x.treatment == 1, 'count'].values\n",
    "    n_2 = diff_means.loc[lambda x:x.treatment == 0, 'count'].values\n",
    "    \n",
    "    t_stat = (mu_1 - mu_2)/np.sqrt((sd_1**2/n_1) + (sd_2**2/n_2))\n",
    "    p_val = scipy.stats.norm.sf(np.abs(t_stat))\n",
    "    \n",
    "    return diff_means, (t_stat, p_val)"
   ]
  },
  {
   "cell_type": "markdown",
   "metadata": {},
   "source": [
    "## Results"
   ]
  },
  {
   "cell_type": "code",
   "execution_count": 18,
   "metadata": {},
   "outputs": [],
   "source": [
    "def print_results(y_var):\n",
    "    r1 = diff_mean(df, y = y_var, running_x = 'weight_rank', treatment_x = 'russell2000', bw_start = 0, bw_end = 50)\n",
    "    print(r1[1][0])\n",
    "    r1 = diff_mean(df, y = y_var, running_x = 'may_rank', treatment_x = 'russell2000', bw_start = 0, bw_end = 50)\n",
    "    print(r1[1][0])        "
   ]
  },
  {
   "cell_type": "code",
   "execution_count": 19,
   "metadata": {
    "scrolled": true
   },
   "outputs": [
    {
     "name": "stdout",
     "output_type": "stream",
     "text": [
      "[-8.76543978]\n",
      "[-0.11369557]\n"
     ]
    }
   ],
   "source": [
    "print_results('y1_spread')"
   ]
  },
  {
   "cell_type": "code",
   "execution_count": 20,
   "metadata": {
    "scrolled": true
   },
   "outputs": [
    {
     "name": "stdout",
     "output_type": "stream",
     "text": [
      "[13.49792168]\n",
      "[0.4692759]\n"
     ]
    }
   ],
   "source": [
    "print_results('y1_turnover')"
   ]
  },
  {
   "cell_type": "code",
   "execution_count": 21,
   "metadata": {
    "scrolled": true
   },
   "outputs": [
    {
     "name": "stdout",
     "output_type": "stream",
     "text": [
      "[22.98708791]\n",
      "[2.22395551]\n"
     ]
    }
   ],
   "source": [
    "print_results('y1_dollar_vol')"
   ]
  },
  {
   "cell_type": "markdown",
   "metadata": {},
   "source": [
    "# RDD Results"
   ]
  },
  {
   "cell_type": "markdown",
   "metadata": {},
   "source": [
    "## Function"
   ]
  },
  {
   "cell_type": "code",
   "execution_count": 22,
   "metadata": {},
   "outputs": [],
   "source": [
    "import statsmodels.formula.api as smf"
   ]
  },
  {
   "cell_type": "code",
   "execution_count": 23,
   "metadata": {},
   "outputs": [],
   "source": [
    "def rdd(df, y, running_x, treatment_x, bw_start, bw_end, polynomials = 3):\n",
    "    # Restrict df[x] to bandwidth\n",
    "    df_subset = df.copy()\\\n",
    "        .loc[lambda d:(d[running_x] <= bw_end)&(d[running_x] >= -1*bw_end)]\\\n",
    "        .loc[lambda d:(d[running_x] >= bw_start)|(d[running_x] <= -1*bw_start)]\n",
    "    \n",
    "    # Add on the polynomial terms on both sides of the treatment\n",
    "    ind_vars = [running_x, treatment_x, 'interact']\n",
    "    df_subset['interact'] = df_subset[running_x] * df_subset[treatment_x]\n",
    "    \n",
    "    for p in range(2,polynomials+1):\n",
    "        df_subset[f'{running_x}_p{p}'] = df_subset[running_x]**p\n",
    "        df_subset[f'interact_p{p}'] = df_subset[f'{running_x}_p{p}']*df_subset[treatment_x]\n",
    "        ind_vars.append(f'{running_x}_p{p}')\n",
    "        ind_vars.append(f'interact_p{p}')\n",
    "        \n",
    "    ind_vars = '+'.join(ind_vars)\n",
    "    print(ind_vars)\n",
    "    \n",
    "    rdd = smf.ols(f'{y} ~ {ind_vars}', data = df_subset).fit()\n",
    "    \n",
    "    output_df = pd.DataFrame({'coef':rdd.params, 't_stat':rdd.tvalues})\\\n",
    "        .reset_index()\\\n",
    "        .rename({'index':'x'}, axis = 1)\n",
    "    \n",
    "    return output_df"
   ]
  },
  {
   "cell_type": "markdown",
   "metadata": {},
   "source": [
    "## Results"
   ]
  },
  {
   "cell_type": "code",
   "execution_count": 24,
   "metadata": {},
   "outputs": [],
   "source": [
    "def print_rdd_results(y_var):\n",
    "    r1 = rdd(df, y = y_var, running_x = 'weight_rank', treatment_x = 'russell2000', bw_start = 0, bw_end = 50)\n",
    "    print(r1.loc[lambda x:x.x == 'russell2000', 't_stat'].values[0])\n",
    "    r1 = rdd(df, y = y_var, running_x = 'may_rank', treatment_x = 'russell2000', bw_start = 0, bw_end = 100)\n",
    "    print(r1.loc[lambda x:x.x == 'russell2000', 't_stat'].values[0])"
   ]
  },
  {
   "cell_type": "code",
   "execution_count": 25,
   "metadata": {
    "scrolled": true
   },
   "outputs": [
    {
     "name": "stdout",
     "output_type": "stream",
     "text": [
      "weight_rank+russell2000+interact+weight_rank_p2+interact_p2+weight_rank_p3+interact_p3\n",
      "-9.188609948137392\n",
      "may_rank+russell2000+interact+may_rank_p2+interact_p2+may_rank_p3+interact_p3\n",
      "-2.828228135131576\n"
     ]
    }
   ],
   "source": [
    "print_rdd_results('y1_spread')"
   ]
  },
  {
   "cell_type": "code",
   "execution_count": 26,
   "metadata": {
    "scrolled": true
   },
   "outputs": [
    {
     "name": "stdout",
     "output_type": "stream",
     "text": [
      "weight_rank+russell2000+interact+weight_rank_p2+interact_p2+weight_rank_p3+interact_p3\n",
      "10.046479662227373\n",
      "may_rank+russell2000+interact+may_rank_p2+interact_p2+may_rank_p3+interact_p3\n",
      "-0.6428110066383971\n"
     ]
    }
   ],
   "source": [
    "print_rdd_results('y1_turnover')"
   ]
  },
  {
   "cell_type": "code",
   "execution_count": 28,
   "metadata": {
    "scrolled": true
   },
   "outputs": [
    {
     "name": "stdout",
     "output_type": "stream",
     "text": [
      "weight_rank+russell2000+interact+weight_rank_p2+interact_p2+weight_rank_p3+interact_p3\n",
      "24.489537500269357\n",
      "may_rank+russell2000+interact+may_rank_p2+interact_p2+may_rank_p3+interact_p3\n",
      "13.526154946496842\n"
     ]
    }
   ],
   "source": [
    "print_rdd_results('y1_dollar_vol')"
   ]
  },
  {
   "cell_type": "markdown",
   "metadata": {},
   "source": [
    "# RDD Variation\n",
    "Include controls for size. Though that should have the opposite effect."
   ]
  },
  {
   "cell_type": "code",
   "execution_count": 115,
   "metadata": {},
   "outputs": [],
   "source": [
    "import statsmodels.formula.api as smf"
   ]
  },
  {
   "cell_type": "code",
   "execution_count": 119,
   "metadata": {},
   "outputs": [],
   "source": [
    "def rdd2(df, y, running_x, treatment_x, bw_start, bw_end, polynomials = 3):\n",
    "    # Restrict df[x] to bandwidth\n",
    "    df_subset = df.copy()\\\n",
    "        .loc[lambda d:(d[running_x] <= bw_end)&(d[running_x] >= -1*bw_end)]\\\n",
    "        .loc[lambda d:(d[running_x] >= bw_start)|(d[running_x] <= -1*bw_start)]\n",
    "    \n",
    "    # Add on the polynomial terms on both sides of the treatment\n",
    "    ind_vars = [running_x, treatment_x, 'interact', 'mktcap']\n",
    "    df_subset['interact'] = df_subset[running_x] * df_subset[treatment_x]\n",
    "    \n",
    "    for p in range(2,polynomials+1):\n",
    "        df_subset[f'{running_x}_p{p}'] = df_subset[running_x]**p\n",
    "        df_subset[f'interact_p{p}'] = df_subset[f'{running_x}_p{p}']*df_subset[treatment_x]\n",
    "        ind_vars.append(f'{running_x}_p{p}')\n",
    "        ind_vars.append(f'interact_p{p}')\n",
    "        \n",
    "    ind_vars = '+'.join(ind_vars)\n",
    "    print(ind_vars)\n",
    "    \n",
    "    rdd = smf.ols(f'{y} ~ {ind_vars}', data = df_subset).fit()\n",
    "    \n",
    "    output_df = pd.DataFrame({'coef':rdd.params, 't_stat':rdd.tvalues})\\\n",
    "        .reset_index()\\\n",
    "        .rename({'index':'x'}, axis = 1)\n",
    "    \n",
    "    return output_df"
   ]
  },
  {
   "cell_type": "markdown",
   "metadata": {},
   "source": [
    "## Results"
   ]
  },
  {
   "cell_type": "code",
   "execution_count": 120,
   "metadata": {},
   "outputs": [],
   "source": [
    "def print_rdd2_results(y_var):\n",
    "    r1 = rdd2(df, y = y_var, running_x = 'weight_rank', treatment_x = 'russell2000', bw_start = 0, bw_end = 50)\n",
    "    print(r1.loc[lambda x:x.x == 'russell2000', 't_stat'].values[0])\n",
    "    r1 = rdd2(df, y = y_var, running_x = 'weight_rank', treatment_x = 'russell2000', bw_start = 0, bw_end = 100)\n",
    "    print(r1.loc[lambda x:x.x == 'russell2000', 't_stat'].values[0])\n",
    "    r1 = rdd2(df, y = y_var, running_x = 'weight_rank', treatment_x = 'russell2000', bw_start = 50, bw_end = 100)\n",
    "    print(r1.loc[lambda x:x.x == 'russell2000', 't_stat'].values[0])\n",
    "    r1 = rdd2(df, y = y_var, running_x = 'weight_rank', treatment_x = 'russell2000', bw_start = 100, bw_end = 200)\n",
    "    print(r1.loc[lambda x:x.x == 'russell2000', 't_stat'].values[0])"
   ]
  },
  {
   "cell_type": "code",
   "execution_count": 122,
   "metadata": {
    "scrolled": true
   },
   "outputs": [
    {
     "name": "stdout",
     "output_type": "stream",
     "text": [
      "weight_rank+russell2000+interact+mktcap+weight_rank_p2+interact_p2+weight_rank_p3+interact_p3\n",
      "-7.161538734832559\n",
      "weight_rank+russell2000+interact+mktcap+weight_rank_p2+interact_p2+weight_rank_p3+interact_p3\n",
      "-11.887699584542132\n",
      "weight_rank+russell2000+interact+mktcap+weight_rank_p2+interact_p2+weight_rank_p3+interact_p3\n",
      "-1.63809436734944\n",
      "weight_rank+russell2000+interact+mktcap+weight_rank_p2+interact_p2+weight_rank_p3+interact_p3\n",
      "-0.12965197488197974\n"
     ]
    }
   ],
   "source": [
    "print_rdd2_results('y1_spread')"
   ]
  },
  {
   "cell_type": "code",
   "execution_count": 123,
   "metadata": {
    "scrolled": true
   },
   "outputs": [
    {
     "name": "stdout",
     "output_type": "stream",
     "text": [
      "weight_rank+russell2000+interact+mktcap+weight_rank_p2+interact_p2+weight_rank_p3+interact_p3\n",
      "10.2431264202977\n",
      "weight_rank+russell2000+interact+mktcap+weight_rank_p2+interact_p2+weight_rank_p3+interact_p3\n",
      "13.61932106364578\n",
      "weight_rank+russell2000+interact+mktcap+weight_rank_p2+interact_p2+weight_rank_p3+interact_p3\n",
      "0.023202006394033563\n",
      "weight_rank+russell2000+interact+mktcap+weight_rank_p2+interact_p2+weight_rank_p3+interact_p3\n",
      "-3.436526720382295\n"
     ]
    }
   ],
   "source": [
    "print_rdd2_results('y1_turnover')"
   ]
  },
  {
   "cell_type": "code",
   "execution_count": 124,
   "metadata": {
    "scrolled": true
   },
   "outputs": [
    {
     "name": "stdout",
     "output_type": "stream",
     "text": [
      "weight_rank+russell2000+interact+mktcap+weight_rank_p2+interact_p2+weight_rank_p3+interact_p3\n",
      "16.05762491480111\n",
      "weight_rank+russell2000+interact+mktcap+weight_rank_p2+interact_p2+weight_rank_p3+interact_p3\n",
      "20.248612779737243\n",
      "weight_rank+russell2000+interact+mktcap+weight_rank_p2+interact_p2+weight_rank_p3+interact_p3\n",
      "0.4774299369298698\n",
      "weight_rank+russell2000+interact+mktcap+weight_rank_p2+interact_p2+weight_rank_p3+interact_p3\n",
      "-1.0898906616420136\n"
     ]
    }
   ],
   "source": [
    "print_rdd2_results('y1_dollar_vol')"
   ]
  },
  {
   "cell_type": "markdown",
   "metadata": {},
   "source": [
    "# Save results"
   ]
  }
 ],
 "metadata": {
  "kernelspec": {
   "display_name": "Python 3",
   "language": "python",
   "name": "python3"
  },
  "language_info": {
   "codemirror_mode": {
    "name": "ipython",
    "version": 3
   },
   "file_extension": ".py",
   "mimetype": "text/x-python",
   "name": "python",
   "nbconvert_exporter": "python",
   "pygments_lexer": "ipython3",
   "version": "3.8.5"
  },
  "toc": {
   "base_numbering": 1,
   "nav_menu": {},
   "number_sections": true,
   "sideBar": true,
   "skip_h1_title": false,
   "title_cell": "Table of Contents",
   "title_sidebar": "Contents",
   "toc_cell": false,
   "toc_position": {
    "height": "calc(100% - 180px)",
    "left": "10px",
    "top": "150px",
    "width": "281.6px"
   },
   "toc_section_display": true,
   "toc_window_display": true
  }
 },
 "nbformat": 4,
 "nbformat_minor": 2
}
