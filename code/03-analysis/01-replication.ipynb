{
 "cells": [
  {
   "cell_type": "code",
   "execution_count": 114,
   "metadata": {},
   "outputs": [],
   "source": [
    "# Have to install janitor package to run. Not included in anaconda.\n",
    "import numpy as np\n",
    "import pandas as pd\n",
    "import matplotlib.pyplot as plt\n",
    "import math as math\n",
    "import janitor"
   ]
  },
  {
   "cell_type": "code",
   "execution_count": 115,
   "metadata": {},
   "outputs": [],
   "source": [
    "exec(open(\"../header.py\").read())"
   ]
  },
  {
   "cell_type": "markdown",
   "metadata": {},
   "source": [
    "# Import raw data"
   ]
  },
  {
   "cell_type": "code",
   "execution_count": 116,
   "metadata": {},
   "outputs": [],
   "source": [
    "sample = True\n",
    "header = Header(sample)"
   ]
  },
  {
   "cell_type": "code",
   "execution_count": 117,
   "metadata": {},
   "outputs": [
    {
     "name": "stderr",
     "output_type": "stream",
     "text": [
      "C:\\Users\\Andrew\\anaconda3\\lib\\site-packages\\IPython\\core\\interactiveshell.py:3146: DtypeWarning: Columns (9) have mixed types.Specify dtype option on import or set low_memory=False.\n",
      "  has_raised = await self.run_ast_nodes(code_ast.body, cell_name,\n"
     ]
    }
   ],
   "source": [
    "raw_df = pd.read_csv(header.clean_root(\"crsp_russ_ranks.csv\"), parse_dates = ['date'])"
   ]
  },
  {
   "cell_type": "code",
   "execution_count": 118,
   "metadata": {},
   "outputs": [
    {
     "data": {
      "text/html": [
       "<div>\n",
       "<style scoped>\n",
       "    .dataframe tbody tr th:only-of-type {\n",
       "        vertical-align: middle;\n",
       "    }\n",
       "\n",
       "    .dataframe tbody tr th {\n",
       "        vertical-align: top;\n",
       "    }\n",
       "\n",
       "    .dataframe thead th {\n",
       "        text-align: right;\n",
       "    }\n",
       "</style>\n",
       "<table border=\"1\" class=\"dataframe\">\n",
       "  <thead>\n",
       "    <tr style=\"text-align: right;\">\n",
       "      <th></th>\n",
       "      <th>permno</th>\n",
       "      <th>date</th>\n",
       "      <th>ticker_x</th>\n",
       "      <th>comnam</th>\n",
       "      <th>tsymbol</th>\n",
       "      <th>hexcd</th>\n",
       "      <th>cusip</th>\n",
       "      <th>prc</th>\n",
       "      <th>vol</th>\n",
       "      <th>ret</th>\n",
       "      <th>...</th>\n",
       "      <th>dollar_vol</th>\n",
       "      <th>ticker_y</th>\n",
       "      <th>russell1000</th>\n",
       "      <th>russell2000</th>\n",
       "      <th>name</th>\n",
       "      <th>r1000_wt</th>\n",
       "      <th>r2000_wt</th>\n",
       "      <th>russell_year</th>\n",
       "      <th>mkt_rank_desc</th>\n",
       "      <th>mkt_rank_asc</th>\n",
       "    </tr>\n",
       "  </thead>\n",
       "  <tbody>\n",
       "    <tr>\n",
       "      <th>0</th>\n",
       "      <td>76272</td>\n",
       "      <td>1996-05-02</td>\n",
       "      <td>VPI</td>\n",
       "      <td>VINTAGE PETROLEUM INC</td>\n",
       "      <td>NaN</td>\n",
       "      <td>1</td>\n",
       "      <td>92746010</td>\n",
       "      <td>25.000</td>\n",
       "      <td>96000.0</td>\n",
       "      <td>0.020408</td>\n",
       "      <td>...</td>\n",
       "      <td>2.400000e+06</td>\n",
       "      <td>VPI</td>\n",
       "      <td>0.0</td>\n",
       "      <td>1.0</td>\n",
       "      <td>VINTAGE PETROLEUM IN</td>\n",
       "      <td>0.00</td>\n",
       "      <td>0.0556</td>\n",
       "      <td>1995</td>\n",
       "      <td>1183.0</td>\n",
       "      <td>1962.0</td>\n",
       "    </tr>\n",
       "    <tr>\n",
       "      <th>1</th>\n",
       "      <td>75510</td>\n",
       "      <td>1996-12-02</td>\n",
       "      <td>ADBE</td>\n",
       "      <td>ADOBE SYSTEMS INC</td>\n",
       "      <td>ADBE</td>\n",
       "      <td>3</td>\n",
       "      <td>00724F10</td>\n",
       "      <td>43.375</td>\n",
       "      <td>2332847.0</td>\n",
       "      <td>0.098101</td>\n",
       "      <td>...</td>\n",
       "      <td>1.011872e+08</td>\n",
       "      <td>ADBE</td>\n",
       "      <td>1.0</td>\n",
       "      <td>0.0</td>\n",
       "      <td>ADOBE SYSTEMS INC</td>\n",
       "      <td>0.04</td>\n",
       "      <td>0.0000</td>\n",
       "      <td>1996</td>\n",
       "      <td>375.0</td>\n",
       "      <td>450.0</td>\n",
       "    </tr>\n",
       "  </tbody>\n",
       "</table>\n",
       "<p>2 rows × 31 columns</p>\n",
       "</div>"
      ],
      "text/plain": [
       "   permno       date ticker_x                 comnam tsymbol  hexcd     cusip  \\\n",
       "0   76272 1996-05-02      VPI  VINTAGE PETROLEUM INC     NaN      1  92746010   \n",
       "1   75510 1996-12-02     ADBE      ADOBE SYSTEMS INC    ADBE      3  00724F10   \n",
       "\n",
       "      prc        vol       ret  ...    dollar_vol  ticker_y  russell1000  \\\n",
       "0  25.000    96000.0  0.020408  ...  2.400000e+06       VPI          0.0   \n",
       "1  43.375  2332847.0  0.098101  ...  1.011872e+08      ADBE          1.0   \n",
       "\n",
       "   russell2000                  name  r1000_wt  r2000_wt  russell_year  \\\n",
       "0          1.0  VINTAGE PETROLEUM IN      0.00    0.0556          1995   \n",
       "1          0.0     ADOBE SYSTEMS INC      0.04    0.0000          1996   \n",
       "\n",
       "   mkt_rank_desc  mkt_rank_asc  \n",
       "0         1183.0        1962.0  \n",
       "1          375.0         450.0  \n",
       "\n",
       "[2 rows x 31 columns]"
      ]
     },
     "execution_count": 118,
     "metadata": {},
     "output_type": "execute_result"
    }
   ],
   "source": [
    "raw_df.head(2)"
   ]
  },
  {
   "cell_type": "code",
   "execution_count": 119,
   "metadata": {},
   "outputs": [
    {
     "data": {
      "text/plain": [
       "Index(['permno', 'date', 'ticker_x', 'comnam', 'tsymbol', 'hexcd', 'cusip',\n",
       "       'prc', 'vol', 'ret', 'bid', 'ask', 'shrout', 'numtrd', 'ewretd',\n",
       "       'mktcap', 'year', 'month', 'yrmo', 'bid_ask_spread', 'turnover',\n",
       "       'dollar_vol', 'ticker_y', 'russell1000', 'russell2000', 'name',\n",
       "       'r1000_wt', 'r2000_wt', 'russell_year', 'mkt_rank_desc',\n",
       "       'mkt_rank_asc'],\n",
       "      dtype='object')"
      ]
     },
     "execution_count": 119,
     "metadata": {},
     "output_type": "execute_result"
    }
   ],
   "source": [
    "raw_df.columns"
   ]
  },
  {
   "cell_type": "markdown",
   "metadata": {},
   "source": [
    "# Variables of interest"
   ]
  },
  {
   "cell_type": "code",
   "execution_count": 120,
   "metadata": {},
   "outputs": [],
   "source": [
    "y_vars = ['bid_ask_spread', 'turnover', 'dollar_vol']\n",
    "treatment_x_vars = ['russell2000']\n",
    "running_x_vars = ['weight_rank', 'may_rank']"
   ]
  },
  {
   "cell_type": "markdown",
   "metadata": {},
   "source": [
    "# Create running $x$ vars"
   ]
  },
  {
   "cell_type": "code",
   "execution_count": 121,
   "metadata": {},
   "outputs": [],
   "source": [
    "df = raw_df.copy()\n",
    "\n",
    "df['weight_rank_r1000'] = df\\\n",
    "    .groupby(['yrmo','year','russell1000'], as_index = False)['r1000_wt']\\\n",
    "    .transform(lambda x:x.rank(ascending = True))\n",
    "\n",
    "df['weight_rank_r2000'] = df\\\n",
    "    .groupby(['yrmo','year','russell1000'], as_index = False)['r2000_wt']\\\n",
    "    .transform(lambda x:x.rank(ascending = False))\n",
    "\n",
    "# Rely on fact that every stock is in either in r1000 or r2000 from data cleaning\n",
    "df['weight_rank'] = np.where(df['russell1000'] == 1, df['weight_rank_r1000'], df['weight_rank_r2000'] * -1)"
   ]
  },
  {
   "cell_type": "code",
   "execution_count": 122,
   "metadata": {},
   "outputs": [],
   "source": [
    "df['may_rank'] = np.where(df['russell1000'] == 1, df['mkt_rank_asc'], df['mkt_rank_desc'] * -1)"
   ]
  },
  {
   "cell_type": "markdown",
   "metadata": {},
   "source": [
    "# Create $y$ vars"
   ]
  },
  {
   "cell_type": "code",
   "execution_count": 123,
   "metadata": {},
   "outputs": [],
   "source": [
    "df['y1_spread'] = df['bid_ask_spread']/((df['bid']+df['ask'])/2)\n",
    "df['y2_spread'] = df['bid_ask_spread']/df['prc']\n",
    "df['y3_spread'] = df['bid_ask_spread']"
   ]
  },
  {
   "cell_type": "code",
   "execution_count": 124,
   "metadata": {},
   "outputs": [],
   "source": [
    "# Fix bad formula\n",
    "df['turnover'] = df['vol']/df['shrout']\n",
    "\n",
    "df['y1_turnover'] = df\\\n",
    "    .groupby(['permno','russell_year'])['turnover']\\\n",
    "    .transform(lambda x:x.mean())\n",
    "df['y2_turnover'] = df['turnover']"
   ]
  },
  {
   "cell_type": "code",
   "execution_count": 125,
   "metadata": {},
   "outputs": [],
   "source": [
    "df['y1_dollar_vol'] = df\\\n",
    "    .groupby(['permno','russell_year'])['dollar_vol']\\\n",
    "    .transform(lambda x:x.mean())\n",
    "df['y2_dollar_vol'] = df['dollar_vol']"
   ]
  },
  {
   "cell_type": "markdown",
   "metadata": {},
   "source": [
    "# Difference-in-Mean Results"
   ]
  },
  {
   "cell_type": "markdown",
   "metadata": {},
   "source": [
    "## Function"
   ]
  },
  {
   "cell_type": "code",
   "execution_count": 89,
   "metadata": {},
   "outputs": [],
   "source": [
    "import scipy.stats"
   ]
  },
  {
   "cell_type": "code",
   "execution_count": 1,
   "metadata": {},
   "outputs": [],
   "source": [
    "def diff_mean(df, y, running_x, treatment_x, bandwidth):\n",
    "    # Restrict df[x] to bandwidth\n",
    "    df_subset = df\\\n",
    "        .loc[lambda d:(d[running_x] <= bandwidth)&(d[running_x] >= -1*bandwidth)]\n",
    "    \n",
    "    # Show difference in features across treatment\n",
    "    diff_means = df_subset\\\n",
    "        .groupby(treatment_x)\\\n",
    "        .agg(mean = (y, 'mean'),\n",
    "             sd = (y, 'std'),\n",
    "             count = (y, 'count'))\\\n",
    "        .reset_index()\\\n",
    "        .rename({'mean':y+'_mean',\n",
    "                 'sd':y+'_sd',\n",
    "                 'russell2000':'treatment'}, axis = 1)\n",
    "    \n",
    "    # Calculate statistical significance of difference\n",
    "    mu_1 = diff_means.loc[lambda x:x.treatment == 1, y+'_mean'].values\n",
    "    mu_2 = diff_means.loc[lambda x:x.treatment == 0, y+'_sd'].values\n",
    "    sd_1 = diff_means.loc[lambda x:x.treatment == 1, y+'_sd'].values\n",
    "    sd_2 = diff_means.loc[lambda x:x.treatment == 0, y+'_sd'].values\n",
    "    n_1 = diff_means.loc[lambda x:x.treatment == 1, 'count'].values\n",
    "    n_2 = diff_means.loc[lambda x:x.treatment == 0, 'count'].values\n",
    "    \n",
    "    t_stat = (mu_1 - mu_2)/np.sqrt((sd_1**2/n_1) + (sd_2**2/n_2))\n",
    "    p_val = scipy.stats.norm.sf(np.abs(t_stat))\n",
    "    \n",
    "    return diff_means, (t_stat, p_val)"
   ]
  },
  {
   "cell_type": "markdown",
   "metadata": {},
   "source": [
    "## Spread"
   ]
  },
  {
   "cell_type": "code",
   "execution_count": 2,
   "metadata": {
    "scrolled": true
   },
   "outputs": [
    {
     "ename": "NameError",
     "evalue": "name 'df' is not defined",
     "output_type": "error",
     "traceback": [
      "\u001b[1;31m---------------------------------------------------------------------------\u001b[0m",
      "\u001b[1;31mNameError\u001b[0m                                 Traceback (most recent call last)",
      "\u001b[1;32m<ipython-input-2-8e750835579c>\u001b[0m in \u001b[0;36m<module>\u001b[1;34m\u001b[0m\n\u001b[1;32m----> 1\u001b[1;33m \u001b[0mr1\u001b[0m \u001b[1;33m=\u001b[0m \u001b[0mdiff_mean\u001b[0m\u001b[1;33m(\u001b[0m\u001b[0mdf\u001b[0m\u001b[1;33m,\u001b[0m \u001b[0my\u001b[0m \u001b[1;33m=\u001b[0m \u001b[1;34m'y1_spread'\u001b[0m\u001b[1;33m,\u001b[0m \u001b[0mrunning_x\u001b[0m \u001b[1;33m=\u001b[0m \u001b[1;34m'weight_rank'\u001b[0m\u001b[1;33m,\u001b[0m \u001b[0mtreatment_x\u001b[0m \u001b[1;33m=\u001b[0m \u001b[1;34m'russell2000'\u001b[0m\u001b[1;33m,\u001b[0m \u001b[0mbandwidth\u001b[0m \u001b[1;33m=\u001b[0m \u001b[1;36m50\u001b[0m\u001b[1;33m)\u001b[0m\u001b[1;33m\u001b[0m\u001b[1;33m\u001b[0m\u001b[0m\n\u001b[0m\u001b[0;32m      2\u001b[0m \u001b[0mr1\u001b[0m\u001b[1;33m[\u001b[0m\u001b[1;36m0\u001b[0m\u001b[1;33m]\u001b[0m\u001b[1;33m\u001b[0m\u001b[1;33m\u001b[0m\u001b[0m\n",
      "\u001b[1;31mNameError\u001b[0m: name 'df' is not defined"
     ]
    }
   ],
   "source": [
    "r1 = diff_mean(df, y = 'y1_spread', running_x = 'weight_rank', treatment_x = 'russell2000', bandwidth = 50)\n",
    "r1[0]"
   ]
  },
  {
   "cell_type": "code",
   "execution_count": 92,
   "metadata": {
    "scrolled": true
   },
   "outputs": [
    {
     "data": {
      "text/plain": [
       "(   treatment  y2_spread_mean  y2_spread_sd  count\n",
       " 0        0.0        0.002233      0.018116   6577\n",
       " 1        1.0        0.000259      0.000639   6568,\n",
       " (array([-56.52602274]), array([0.])))"
      ]
     },
     "execution_count": 92,
     "metadata": {},
     "output_type": "execute_result"
    }
   ],
   "source": [
    "diff_mean(df, y = 'y2_spread', running_x = 'weight_rank', treatment_x = 'russell2000', bandwidth = 50)"
   ]
  },
  {
   "cell_type": "code",
   "execution_count": 93,
   "metadata": {
    "scrolled": true
   },
   "outputs": [
    {
     "data": {
      "text/plain": [
       "(   treatment  y3_spread_mean  y3_spread_sd  count\n",
       " 0        0.0        0.011456      0.016062   6577\n",
       " 1        1.0        0.006379      0.008627   6568,\n",
       " (array([-34.57306658]), array([3.2090647e-262])))"
      ]
     },
     "execution_count": 93,
     "metadata": {},
     "output_type": "execute_result"
    }
   ],
   "source": [
    "# Economic significance\n",
    "diff_mean(df, y = 'y3_spread', running_x = 'weight_rank', treatment_x = 'russell2000', bandwidth = 50)"
   ]
  },
  {
   "cell_type": "markdown",
   "metadata": {},
   "source": [
    "## Turnover"
   ]
  },
  {
   "cell_type": "code",
   "execution_count": 94,
   "metadata": {
    "scrolled": true
   },
   "outputs": [
    {
     "data": {
      "text/plain": [
       "(   treatment  y1_turnover_mean  y1_turnover_sd  count\n",
       " 0        0.0          8.875354       14.353187   6577\n",
       " 1        1.0         11.969459       11.806245   6568,\n",
       " (array([-9.52373566]), array([8.35315453e-22])))"
      ]
     },
     "execution_count": 94,
     "metadata": {},
     "output_type": "execute_result"
    }
   ],
   "source": [
    "diff_mean(df, y = 'y1_turnover', running_x = 'weight_rank', treatment_x = 'russell2000', bandwidth = 50)"
   ]
  },
  {
   "cell_type": "code",
   "execution_count": 95,
   "metadata": {
    "scrolled": true
   },
   "outputs": [
    {
     "data": {
      "text/plain": [
       "(   treatment  y2_turnover_mean  y2_turnover_sd  count\n",
       " 0        0.0          8.847543       22.343737   6577\n",
       " 1        1.0         12.692259       21.077053   6568,\n",
       " (array([-24.77062418]), array([9.2946729e-136])))"
      ]
     },
     "execution_count": 95,
     "metadata": {},
     "output_type": "execute_result"
    }
   ],
   "source": [
    "diff_mean(df, y = 'y2_turnover', running_x = 'weight_rank', treatment_x = 'russell2000', bandwidth = 50)"
   ]
  },
  {
   "cell_type": "code",
   "execution_count": 99,
   "metadata": {
    "scrolled": true
   },
   "outputs": [
    {
     "data": {
      "text/plain": [
       "(   treatment  y2_turnover_mean  y2_turnover_sd  count\n",
       " 0        0.0          8.847543       22.343737   6577\n",
       " 1        1.0         12.692259       21.077053   6568,\n",
       " (array([-24.77062418]), array([9.2946729e-136])))"
      ]
     },
     "execution_count": 99,
     "metadata": {},
     "output_type": "execute_result"
    }
   ],
   "source": [
    "diff_mean(df, y = 'y2_turnover', running_x = 'weight_rank', treatment_x = 'russell2000', bandwidth = 50)"
   ]
  },
  {
   "cell_type": "markdown",
   "metadata": {},
   "source": [
    "## Dollar volume"
   ]
  },
  {
   "cell_type": "code",
   "execution_count": 100,
   "metadata": {},
   "outputs": [
    {
     "data": {
      "text/plain": [
       "(   treatment  y1_dollar_vol_mean  y1_dollar_vol_sd  count\n",
       " 0        0.0        1.102144e+07      1.867413e+07   6577\n",
       " 1        1.0        2.239079e+07      3.547478e+07   6568,\n",
       " (array([11.41329339]), array([1.79439481e-30])))"
      ]
     },
     "execution_count": 100,
     "metadata": {},
     "output_type": "execute_result"
    }
   ],
   "source": [
    "diff_mean(df, y = 'y1_dollar_vol', running_x = 'weight_rank', treatment_x = 'russell2000', bandwidth = 50)\n"
   ]
  },
  {
   "cell_type": "code",
   "execution_count": 101,
   "metadata": {},
   "outputs": [
    {
     "data": {
      "text/plain": [
       "(   treatment  y2_dollar_vol_mean  y2_dollar_vol_sd  count\n",
       " 0        0.0        9.291123e+06      2.170489e+07   6577\n",
       " 1        1.0        2.675695e+07      6.729659e+07   6568,\n",
       " (array([13.34780822]), array([6.09927456e-41])))"
      ]
     },
     "execution_count": 101,
     "metadata": {},
     "output_type": "execute_result"
    }
   ],
   "source": [
    "diff_mean(df, y = 'y2_dollar_vol', running_x = 'weight_rank', treatment_x = 'russell2000', bandwidth = 50)\n"
   ]
  },
  {
   "cell_type": "markdown",
   "metadata": {},
   "source": [
    "# RDD Results"
   ]
  },
  {
   "cell_type": "markdown",
   "metadata": {},
   "source": [
    "## Function"
   ]
  },
  {
   "cell_type": "code",
   "execution_count": 126,
   "metadata": {},
   "outputs": [],
   "source": [
    "import statsmodels.formula.api as smf"
   ]
  },
  {
   "cell_type": "code",
   "execution_count": 136,
   "metadata": {},
   "outputs": [],
   "source": [
    "def rdd(df, y, running_x, treatment_x, bandwidth, polynomials = 3):\n",
    "    # Restrict df[x] to bandwidth\n",
    "    df_subset = df.copy()\\\n",
    "        .loc[lambda d:(d[running_x] <= bandwidth)&(d[running_x] >= -1*bandwidth)]\n",
    "    \n",
    "    # Add on the polynomial terms on both sides of the treatment\n",
    "    ind_vars = [running_x, treatment_x, 'interact']\n",
    "    df_subset['interact'] = df_subset[running_x] * df_subset[treatment_x]\n",
    "    \n",
    "    for p in range(2,polynomials+1):\n",
    "        df_subset[f'{running_x}_p{p}'] = df_subset[running_x]**p\n",
    "        df_subset[f'interact_p{p}'] = df_subset[f'{running_x}_p{p}']*df_subset[treatment_x]\n",
    "        ind_vars.append(f'{running_x}_p{p}')\n",
    "        ind_vars.append(f'interact_p{p}')\n",
    "        \n",
    "    ind_vars = '+'.join(ind_vars)\n",
    "    print(ind_vars)\n",
    "    \n",
    "    rdd = smf.ols(f'{y} ~ {ind_vars}', data = df_subset).fit()\n",
    "    \n",
    "    return rdd"
   ]
  },
  {
   "cell_type": "code",
   "execution_count": 137,
   "metadata": {},
   "outputs": [
    {
     "name": "stdout",
     "output_type": "stream",
     "text": [
      "weight_rank+russell2000+interact+weight_rank_p2+interact_p2+weight_rank_p3+interact_p3\n"
     ]
    }
   ],
   "source": [
    "r1 = rdd(df, y = 'y1_dollar_vol', running_x = 'weight_rank', treatment_x = 'russell2000', bandwidth = 50, polynomials = 3)"
   ]
  },
  {
   "cell_type": "code",
   "execution_count": 145,
   "metadata": {},
   "outputs": [
    {
     "data": {
      "text/html": [
       "<div>\n",
       "<style scoped>\n",
       "    .dataframe tbody tr th:only-of-type {\n",
       "        vertical-align: middle;\n",
       "    }\n",
       "\n",
       "    .dataframe tbody tr th {\n",
       "        vertical-align: top;\n",
       "    }\n",
       "\n",
       "    .dataframe thead th {\n",
       "        text-align: right;\n",
       "    }\n",
       "</style>\n",
       "<table border=\"1\" class=\"dataframe\">\n",
       "  <thead>\n",
       "    <tr style=\"text-align: right;\">\n",
       "      <th></th>\n",
       "      <th>index</th>\n",
       "      <th>coef</th>\n",
       "      <th>t_stat</th>\n",
       "    </tr>\n",
       "  </thead>\n",
       "  <tbody>\n",
       "    <tr>\n",
       "      <th>0</th>\n",
       "      <td>Intercept</td>\n",
       "      <td>7.562168e+06</td>\n",
       "      <td>5.128451</td>\n",
       "    </tr>\n",
       "    <tr>\n",
       "      <th>1</th>\n",
       "      <td>weight_rank</td>\n",
       "      <td>2.577434e+05</td>\n",
       "      <td>1.037734</td>\n",
       "    </tr>\n",
       "    <tr>\n",
       "      <th>2</th>\n",
       "      <td>russell2000</td>\n",
       "      <td>5.099865e+07</td>\n",
       "      <td>24.489538</td>\n",
       "    </tr>\n",
       "    <tr>\n",
       "      <th>3</th>\n",
       "      <td>interact</td>\n",
       "      <td>3.805941e+06</td>\n",
       "      <td>10.840113</td>\n",
       "    </tr>\n",
       "    <tr>\n",
       "      <th>4</th>\n",
       "      <td>weight_rank_p2</td>\n",
       "      <td>-8.309971e+03</td>\n",
       "      <td>-0.737573</td>\n",
       "    </tr>\n",
       "    <tr>\n",
       "      <th>5</th>\n",
       "      <td>interact_p2</td>\n",
       "      <td>1.348849e+05</td>\n",
       "      <td>8.459721</td>\n",
       "    </tr>\n",
       "    <tr>\n",
       "      <th>6</th>\n",
       "      <td>weight_rank_p3</td>\n",
       "      <td>1.240248e+02</td>\n",
       "      <td>0.852481</td>\n",
       "    </tr>\n",
       "    <tr>\n",
       "      <th>7</th>\n",
       "      <td>interact_p3</td>\n",
       "      <td>1.144499e+03</td>\n",
       "      <td>5.552413</td>\n",
       "    </tr>\n",
       "  </tbody>\n",
       "</table>\n",
       "</div>"
      ],
      "text/plain": [
       "            index          coef     t_stat\n",
       "0       Intercept  7.562168e+06   5.128451\n",
       "1     weight_rank  2.577434e+05   1.037734\n",
       "2     russell2000  5.099865e+07  24.489538\n",
       "3        interact  3.805941e+06  10.840113\n",
       "4  weight_rank_p2 -8.309971e+03  -0.737573\n",
       "5     interact_p2  1.348849e+05   8.459721\n",
       "6  weight_rank_p3  1.240248e+02   0.852481\n",
       "7     interact_p3  1.144499e+03   5.552413"
      ]
     },
     "execution_count": 145,
     "metadata": {},
     "output_type": "execute_result"
    }
   ],
   "source": [
    "pd.DataFrame({'coef':r1.params, 't_stat':r1.tvalues}).reset_index()"
   ]
  },
  {
   "cell_type": "markdown",
   "metadata": {},
   "source": [
    "# RDD Variation\n",
    "Include controls for size. Though that should have the opposite effect."
   ]
  },
  {
   "cell_type": "code",
   "execution_count": 126,
   "metadata": {},
   "outputs": [],
   "source": [
    "import statsmodels.formula.api as smf"
   ]
  },
  {
   "cell_type": "code",
   "execution_count": 148,
   "metadata": {},
   "outputs": [],
   "source": [
    "def rdd(df, y, running_x, treatment_x, bandwidth, polynomials = 3):\n",
    "    # Restrict df[x] to bandwidth\n",
    "    df_subset = df.copy()\\\n",
    "        .loc[lambda d:(d[running_x] <= bandwidth)&(d[running_x] >= -1*bandwidth)]\n",
    "    \n",
    "    # Add on the polynomial terms on both sides of the treatment\n",
    "    ind_vars = [running_x, treatment_x, 'interact', 'mktcap']\n",
    "    df_subset['interact'] = df_subset[running_x] * df_subset[treatment_x]\n",
    "    \n",
    "    for p in range(2,polynomials+1):\n",
    "        df_subset[f'{running_x}_p{p}'] = df_subset[running_x]**p\n",
    "        df_subset[f'interact_p{p}'] = df_subset[f'{running_x}_p{p}']*df_subset[treatment_x]\n",
    "        ind_vars.append(f'{running_x}_p{p}')\n",
    "        ind_vars.append(f'interact_p{p}')\n",
    "        \n",
    "    ind_vars = '+'.join(ind_vars)\n",
    "    print(ind_vars)\n",
    "    \n",
    "    rdd = smf.ols(f'{y} ~ {ind_vars}', data = df_subset).fit()\n",
    "    \n",
    "    return pd.DataFrame({'coef':rdd.params, 't_stat':rdd.tvalues}).reset_index()"
   ]
  },
  {
   "cell_type": "code",
   "execution_count": 149,
   "metadata": {},
   "outputs": [
    {
     "name": "stdout",
     "output_type": "stream",
     "text": [
      "weight_rank+russell2000+interact+mktcap+weight_rank_p2+interact_p2+weight_rank_p3+interact_p3\n"
     ]
    },
    {
     "data": {
      "text/html": [
       "<div>\n",
       "<style scoped>\n",
       "    .dataframe tbody tr th:only-of-type {\n",
       "        vertical-align: middle;\n",
       "    }\n",
       "\n",
       "    .dataframe tbody tr th {\n",
       "        vertical-align: top;\n",
       "    }\n",
       "\n",
       "    .dataframe thead th {\n",
       "        text-align: right;\n",
       "    }\n",
       "</style>\n",
       "<table border=\"1\" class=\"dataframe\">\n",
       "  <thead>\n",
       "    <tr style=\"text-align: right;\">\n",
       "      <th></th>\n",
       "      <th>index</th>\n",
       "      <th>coef</th>\n",
       "      <th>t_stat</th>\n",
       "    </tr>\n",
       "  </thead>\n",
       "  <tbody>\n",
       "    <tr>\n",
       "      <th>0</th>\n",
       "      <td>Intercept</td>\n",
       "      <td>-1.326124e+06</td>\n",
       "      <td>-0.959110</td>\n",
       "    </tr>\n",
       "    <tr>\n",
       "      <th>1</th>\n",
       "      <td>weight_rank</td>\n",
       "      <td>-1.618802e+05</td>\n",
       "      <td>-0.701457</td>\n",
       "    </tr>\n",
       "    <tr>\n",
       "      <th>2</th>\n",
       "      <td>russell2000</td>\n",
       "      <td>3.176761e+07</td>\n",
       "      <td>16.057625</td>\n",
       "    </tr>\n",
       "    <tr>\n",
       "      <th>3</th>\n",
       "      <td>interact</td>\n",
       "      <td>3.059719e+06</td>\n",
       "      <td>9.374841</td>\n",
       "    </tr>\n",
       "    <tr>\n",
       "      <th>4</th>\n",
       "      <td>mktcap</td>\n",
       "      <td>9.880367e+00</td>\n",
       "      <td>45.874249</td>\n",
       "    </tr>\n",
       "    <tr>\n",
       "      <th>5</th>\n",
       "      <td>weight_rank_p2</td>\n",
       "      <td>-4.105878e+02</td>\n",
       "      <td>-0.039247</td>\n",
       "    </tr>\n",
       "    <tr>\n",
       "      <th>6</th>\n",
       "      <td>interact_p2</td>\n",
       "      <td>9.045180e+04</td>\n",
       "      <td>6.097235</td>\n",
       "    </tr>\n",
       "    <tr>\n",
       "      <th>7</th>\n",
       "      <td>weight_rank_p3</td>\n",
       "      <td>7.558128e+01</td>\n",
       "      <td>0.559536</td>\n",
       "    </tr>\n",
       "    <tr>\n",
       "      <th>8</th>\n",
       "      <td>interact_p3</td>\n",
       "      <td>8.104783e+02</td>\n",
       "      <td>4.231986</td>\n",
       "    </tr>\n",
       "  </tbody>\n",
       "</table>\n",
       "</div>"
      ],
      "text/plain": [
       "            index          coef     t_stat\n",
       "0       Intercept -1.326124e+06  -0.959110\n",
       "1     weight_rank -1.618802e+05  -0.701457\n",
       "2     russell2000  3.176761e+07  16.057625\n",
       "3        interact  3.059719e+06   9.374841\n",
       "4          mktcap  9.880367e+00  45.874249\n",
       "5  weight_rank_p2 -4.105878e+02  -0.039247\n",
       "6     interact_p2  9.045180e+04   6.097235\n",
       "7  weight_rank_p3  7.558128e+01   0.559536\n",
       "8     interact_p3  8.104783e+02   4.231986"
      ]
     },
     "execution_count": 149,
     "metadata": {},
     "output_type": "execute_result"
    }
   ],
   "source": [
    "rdd(df, y = 'y1_dollar_vol', running_x = 'weight_rank', treatment_x = 'russell2000', bandwidth = 50, polynomials = 3)"
   ]
  },
  {
   "cell_type": "code",
   "execution_count": 150,
   "metadata": {},
   "outputs": [
    {
     "name": "stdout",
     "output_type": "stream",
     "text": [
      "may_rank+russell2000+interact+mktcap+may_rank_p2+interact_p2+may_rank_p3+interact_p3\n"
     ]
    },
    {
     "data": {
      "text/html": [
       "<div>\n",
       "<style scoped>\n",
       "    .dataframe tbody tr th:only-of-type {\n",
       "        vertical-align: middle;\n",
       "    }\n",
       "\n",
       "    .dataframe tbody tr th {\n",
       "        vertical-align: top;\n",
       "    }\n",
       "\n",
       "    .dataframe thead th {\n",
       "        text-align: right;\n",
       "    }\n",
       "</style>\n",
       "<table border=\"1\" class=\"dataframe\">\n",
       "  <thead>\n",
       "    <tr style=\"text-align: right;\">\n",
       "      <th></th>\n",
       "      <th>index</th>\n",
       "      <th>coef</th>\n",
       "      <th>t_stat</th>\n",
       "    </tr>\n",
       "  </thead>\n",
       "  <tbody>\n",
       "    <tr>\n",
       "      <th>0</th>\n",
       "      <td>Intercept</td>\n",
       "      <td>-3.099740e+06</td>\n",
       "      <td>-0.608466</td>\n",
       "    </tr>\n",
       "    <tr>\n",
       "      <th>1</th>\n",
       "      <td>may_rank</td>\n",
       "      <td>5.658745e+05</td>\n",
       "      <td>0.656424</td>\n",
       "    </tr>\n",
       "    <tr>\n",
       "      <th>2</th>\n",
       "      <td>russell2000</td>\n",
       "      <td>8.612586e+08</td>\n",
       "      <td>17.014550</td>\n",
       "    </tr>\n",
       "    <tr>\n",
       "      <th>3</th>\n",
       "      <td>interact</td>\n",
       "      <td>9.251901e+07</td>\n",
       "      <td>16.406562</td>\n",
       "    </tr>\n",
       "    <tr>\n",
       "      <th>4</th>\n",
       "      <td>mktcap</td>\n",
       "      <td>1.382080e+01</td>\n",
       "      <td>7.329906</td>\n",
       "    </tr>\n",
       "    <tr>\n",
       "      <th>5</th>\n",
       "      <td>may_rank_p2</td>\n",
       "      <td>-4.394339e+04</td>\n",
       "      <td>-1.073113</td>\n",
       "    </tr>\n",
       "    <tr>\n",
       "      <th>6</th>\n",
       "      <td>interact_p2</td>\n",
       "      <td>3.144189e+06</td>\n",
       "      <td>15.749289</td>\n",
       "    </tr>\n",
       "    <tr>\n",
       "      <th>7</th>\n",
       "      <td>may_rank_p3</td>\n",
       "      <td>6.577932e+02</td>\n",
       "      <td>1.182006</td>\n",
       "    </tr>\n",
       "    <tr>\n",
       "      <th>8</th>\n",
       "      <td>interact_p3</td>\n",
       "      <td>3.154517e+04</td>\n",
       "      <td>14.228222</td>\n",
       "    </tr>\n",
       "  </tbody>\n",
       "</table>\n",
       "</div>"
      ],
      "text/plain": [
       "         index          coef     t_stat\n",
       "0    Intercept -3.099740e+06  -0.608466\n",
       "1     may_rank  5.658745e+05   0.656424\n",
       "2  russell2000  8.612586e+08  17.014550\n",
       "3     interact  9.251901e+07  16.406562\n",
       "4       mktcap  1.382080e+01   7.329906\n",
       "5  may_rank_p2 -4.394339e+04  -1.073113\n",
       "6  interact_p2  3.144189e+06  15.749289\n",
       "7  may_rank_p3  6.577932e+02   1.182006\n",
       "8  interact_p3  3.154517e+04  14.228222"
      ]
     },
     "execution_count": 150,
     "metadata": {},
     "output_type": "execute_result"
    }
   ],
   "source": [
    "rdd(df, y = 'y1_dollar_vol', running_x = 'may_rank', treatment_x = 'russell2000', bandwidth = 50, polynomials = 3)"
   ]
  },
  {
   "cell_type": "code",
   "execution_count": 145,
   "metadata": {},
   "outputs": [
    {
     "data": {
      "text/html": [
       "<div>\n",
       "<style scoped>\n",
       "    .dataframe tbody tr th:only-of-type {\n",
       "        vertical-align: middle;\n",
       "    }\n",
       "\n",
       "    .dataframe tbody tr th {\n",
       "        vertical-align: top;\n",
       "    }\n",
       "\n",
       "    .dataframe thead th {\n",
       "        text-align: right;\n",
       "    }\n",
       "</style>\n",
       "<table border=\"1\" class=\"dataframe\">\n",
       "  <thead>\n",
       "    <tr style=\"text-align: right;\">\n",
       "      <th></th>\n",
       "      <th>index</th>\n",
       "      <th>coef</th>\n",
       "      <th>t_stat</th>\n",
       "    </tr>\n",
       "  </thead>\n",
       "  <tbody>\n",
       "    <tr>\n",
       "      <th>0</th>\n",
       "      <td>Intercept</td>\n",
       "      <td>7.562168e+06</td>\n",
       "      <td>5.128451</td>\n",
       "    </tr>\n",
       "    <tr>\n",
       "      <th>1</th>\n",
       "      <td>weight_rank</td>\n",
       "      <td>2.577434e+05</td>\n",
       "      <td>1.037734</td>\n",
       "    </tr>\n",
       "    <tr>\n",
       "      <th>2</th>\n",
       "      <td>russell2000</td>\n",
       "      <td>5.099865e+07</td>\n",
       "      <td>24.489538</td>\n",
       "    </tr>\n",
       "    <tr>\n",
       "      <th>3</th>\n",
       "      <td>interact</td>\n",
       "      <td>3.805941e+06</td>\n",
       "      <td>10.840113</td>\n",
       "    </tr>\n",
       "    <tr>\n",
       "      <th>4</th>\n",
       "      <td>weight_rank_p2</td>\n",
       "      <td>-8.309971e+03</td>\n",
       "      <td>-0.737573</td>\n",
       "    </tr>\n",
       "    <tr>\n",
       "      <th>5</th>\n",
       "      <td>interact_p2</td>\n",
       "      <td>1.348849e+05</td>\n",
       "      <td>8.459721</td>\n",
       "    </tr>\n",
       "    <tr>\n",
       "      <th>6</th>\n",
       "      <td>weight_rank_p3</td>\n",
       "      <td>1.240248e+02</td>\n",
       "      <td>0.852481</td>\n",
       "    </tr>\n",
       "    <tr>\n",
       "      <th>7</th>\n",
       "      <td>interact_p3</td>\n",
       "      <td>1.144499e+03</td>\n",
       "      <td>5.552413</td>\n",
       "    </tr>\n",
       "  </tbody>\n",
       "</table>\n",
       "</div>"
      ],
      "text/plain": [
       "            index          coef     t_stat\n",
       "0       Intercept  7.562168e+06   5.128451\n",
       "1     weight_rank  2.577434e+05   1.037734\n",
       "2     russell2000  5.099865e+07  24.489538\n",
       "3        interact  3.805941e+06  10.840113\n",
       "4  weight_rank_p2 -8.309971e+03  -0.737573\n",
       "5     interact_p2  1.348849e+05   8.459721\n",
       "6  weight_rank_p3  1.240248e+02   0.852481\n",
       "7     interact_p3  1.144499e+03   5.552413"
      ]
     },
     "execution_count": 145,
     "metadata": {},
     "output_type": "execute_result"
    }
   ],
   "source": []
  },
  {
   "cell_type": "markdown",
   "metadata": {},
   "source": [
    "# Save results"
   ]
  }
 ],
 "metadata": {
  "kernelspec": {
   "display_name": "Python 3",
   "language": "python",
   "name": "python3"
  },
  "language_info": {
   "codemirror_mode": {
    "name": "ipython",
    "version": 3
   },
   "file_extension": ".py",
   "mimetype": "text/x-python",
   "name": "python",
   "nbconvert_exporter": "python",
   "pygments_lexer": "ipython3",
   "version": "3.8.5"
  },
  "toc": {
   "base_numbering": 1,
   "nav_menu": {},
   "number_sections": true,
   "sideBar": true,
   "skip_h1_title": false,
   "title_cell": "Table of Contents",
   "title_sidebar": "Contents",
   "toc_cell": false,
   "toc_position": {},
   "toc_section_display": true,
   "toc_window_display": true
  }
 },
 "nbformat": 4,
 "nbformat_minor": 2
}
